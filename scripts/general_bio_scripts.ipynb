{
 "cells": [
  {
   "cell_type": "markdown",
   "id": "resident-julian",
   "metadata": {},
   "source": [
    "# Scripts for daily routines (e.g. splitting FASTA files, concatenating files ...)"
   ]
  },
  {
   "cell_type": "code",
   "execution_count": 1,
   "id": "alternate-spider",
   "metadata": {},
   "outputs": [],
   "source": [
    "fasta_file = '../data/curvibacter_sequences/curvibacter_aep_eps_operon.faa'"
   ]
  },
  {
   "cell_type": "code",
   "execution_count": 8,
   "id": "national-college",
   "metadata": {},
   "outputs": [],
   "source": [
    "def split_fasta_file_into_multiple_files(filename,destination):\n",
    "    try:\n",
    "        i = open(filename,'r')\n",
    "        lines = i.readlines()\n",
    "        i.close()\n",
    "        \n",
    "        o = None\n",
    "        for line in lines:\n",
    "            if \">\" in line:\n",
    "                if o != None:\n",
    "                    o.close()\n",
    "                o = open(destination + '/' + ''.join(line.split('>')[1]).split(' ')[0]+'.faa','w')\n",
    "            o.write(line)\n",
    "        \n",
    "        o.close()\n",
    "    except Exception as e:\n",
    "        print(\"Exception occured : {}\".format(e))\n",
    "        raise Exception('couldnt transform fasta file into multiple files')"
   ]
  },
  {
   "cell_type": "code",
   "execution_count": 9,
   "id": "distributed-belgium",
   "metadata": {},
   "outputs": [],
   "source": [
    "split_fasta_file_into_multiple_files(fasta_file,'../data/curvibacter_sequences/eps_operon')"
   ]
  },
  {
   "cell_type": "markdown",
   "id": "returning-warrant",
   "metadata": {},
   "source": [
    "## regular expressions"
   ]
  },
  {
   "cell_type": "code",
   "execution_count": 1,
   "id": "sufficient-billy",
   "metadata": {},
   "outputs": [],
   "source": [
    "import re"
   ]
  },
  {
   "cell_type": "code",
   "execution_count": 2,
   "id": "built-niger",
   "metadata": {},
   "outputs": [],
   "source": [
    "regex = re.compile('([A,C,G,T]{10,20}TTT[A,C,G])')"
   ]
  },
  {
   "cell_type": "code",
   "execution_count": 3,
   "id": "neutral-reflection",
   "metadata": {},
   "outputs": [],
   "source": [
    "genome1_file = open('../data/motif_finding/GCF_000005845.2_ASM584v2_cds_from_genomic.faa','r')\n",
    "lines1 = genome1_file.readlines()\n",
    "genome1_file.close()"
   ]
  },
  {
   "cell_type": "code",
   "execution_count": 4,
   "id": "organic-possession",
   "metadata": {},
   "outputs": [],
   "source": [
    "genome2_file = open('../data/motif_finding/GCF_000009725.1_ASM972v1_cds_from_genomic.faa','r')\n",
    "lines2 = genome2_file.readlines()\n",
    "genome2_file.close()"
   ]
  },
  {
   "cell_type": "code",
   "execution_count": 11,
   "id": "alert-keeping",
   "metadata": {},
   "outputs": [],
   "source": [
    "genome1_dict = {}\n",
    "for line in lines1:\n",
    "    if '>' in line:\n",
    "        key = line.split(' ')[0].split('cds_')[-1]\n",
    "        genome1_dict[key] = ''\n",
    "    else:\n",
    "        line = line.strip()\n",
    "        genome1_dict[key] += line"
   ]
  },
  {
   "cell_type": "code",
   "execution_count": 14,
   "id": "empty-stomach",
   "metadata": {},
   "outputs": [],
   "source": [
    "genome2_dict = {}\n",
    "for line in lines2:\n",
    "    if '>' in line:\n",
    "        key = line.split(' ')[0].split('cds_')[-1]\n",
    "        genome2_dict[key] = ''\n",
    "    else:\n",
    "        line = line.strip()\n",
    "        genome2_dict[key] += line"
   ]
  },
  {
   "cell_type": "code",
   "execution_count": 16,
   "id": "square-aside",
   "metadata": {},
   "outputs": [],
   "source": [
    "result_dict_genome1 = {}\n",
    "for key in genome1_dict.keys():\n",
    "    result_dict_genome1[key] = re.findall(regex, genome1_dict[key])"
   ]
  },
  {
   "cell_type": "code",
   "execution_count": 17,
   "id": "cosmetic-marina",
   "metadata": {},
   "outputs": [],
   "source": [
    "result_dict_genome2 = {}\n",
    "for key in genome2_dict.keys():\n",
    "    result_dict_genome2[key] = re.findall(regex, genome2_dict[key])"
   ]
  },
  {
   "cell_type": "code",
   "execution_count": 18,
   "id": "verbal-conditions",
   "metadata": {},
   "outputs": [
    {
     "name": "stdout",
     "output_type": "stream",
     "text": [
      "NP_415105.1_562 WP_010873414.1_2279\n"
     ]
    }
   ],
   "source": [
    "for key in result_dict_genome1.keys():\n",
    "    for result in result_dict_genome1[key]:\n",
    "        for key2 in result_dict_genome2.keys():\n",
    "            if str(result) in result_dict_genome2[key2]:\n",
    "                print(key,key2)"
   ]
  },
  {
   "cell_type": "code",
   "execution_count": 20,
   "id": "narrow-salvation",
   "metadata": {},
   "outputs": [
    {
     "data": {
      "text/plain": [
       "['ATGATTAAGCAATTTTTC',\n",
       " 'CCGTTATTGGCTTTA',\n",
       " 'ATCTAACGCCAACGGTGGGTTTTG',\n",
       " 'TCAGCGGGAGATAAACAATCTTTG',\n",
       " 'ATCGACCATAGCTTGAGCTATTTA',\n",
       " 'TAACCCGTTCCCTCCAGCGATTTA',\n",
       " 'AGACCGCTGTTGCCAGGGAATTTC',\n",
       " 'GATGGCAAGGGCACAGTCCATTTC',\n",
       " 'ACTGGTTATTTTGAACCAGTTTA',\n",
       " 'TGCCGAATATCGTTATCCCATTTA',\n",
       " 'TGGTTTGCCCAATAATTTTTC',\n",
       " 'GACTTGGAAGGTATGGATGGTTTA',\n",
       " 'GAGGCCAAAGTTCCGTGGCCTTTG',\n",
       " 'ACGGATTATCCCTACGTAAGTTTA',\n",
       " 'GAAACCATCCAAGAGGGAATTTTC',\n",
       " 'CAGCCTGGGGAGGTTACTTTG',\n",
       " 'CCTAAGTTAATCGACTATTTTG',\n",
       " 'ATCCCAGCGAACTAAGTCGTTTTA',\n",
       " 'CCCCGCAATAATCGTCTAATTTTC',\n",
       " 'CCTCCAGGGGCGATCGCCGTTTTA',\n",
       " 'AAAAAGTCAACGTTAGTCGTTTTG',\n",
       " 'GGCCCCGGTCGGGTGGATATTTTC',\n",
       " 'ACTCCTGGCGATCGAGCCGGTTTG',\n",
       " 'ATGAGTGACGACGGCCAAATTTA']"
      ]
     },
     "execution_count": 20,
     "metadata": {},
     "output_type": "execute_result"
    }
   ],
   "source": [
    "result_dict_genome2['WP_010873414.1_2279']"
   ]
  },
  {
   "cell_type": "code",
   "execution_count": 21,
   "id": "connected-bridge",
   "metadata": {},
   "outputs": [
    {
     "name": "stdout",
     "output_type": "stream",
     "text": [
      "CCGTTATTGGCTTTA\n"
     ]
    }
   ],
   "source": [
    "for i in result_dict_genome1['NP_415105.1_562']:\n",
    "    if i in result_dict_genome2['WP_010873414.1_2279']:\n",
    "        print(i)"
   ]
  }
 ],
 "metadata": {
  "kernelspec": {
   "display_name": "Python 3",
   "language": "python",
   "name": "python3"
  },
  "language_info": {
   "codemirror_mode": {
    "name": "ipython",
    "version": 3
   },
   "file_extension": ".py",
   "mimetype": "text/x-python",
   "name": "python",
   "nbconvert_exporter": "python",
   "pygments_lexer": "ipython3",
   "version": "3.8.8"
  }
 },
 "nbformat": 4,
 "nbformat_minor": 5
}
