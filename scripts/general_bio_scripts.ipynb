{
 "cells": [
  {
   "cell_type": "code",
   "execution_count": 28,
   "id": "12868abf",
   "metadata": {},
   "outputs": [],
   "source": [
    "import pandas as pd\n",
    "import numpy as np\n",
    "import matplotlib.pyplot as plt\n",
    "from Bio import Entrez\n",
    "Entrez.email = \"lukas.becker@hhu.de\""
   ]
  },
  {
   "cell_type": "markdown",
   "id": "resident-julian",
   "metadata": {},
   "source": [
    "# Scripts for daily routines (e.g. splitting FASTA files, concatenating files ...)"
   ]
  },
  {
   "cell_type": "code",
   "execution_count": 1,
   "id": "alternate-spider",
   "metadata": {},
   "outputs": [],
   "source": [
    "fasta_file = '../data/curvibacter_sequences/curvibacter_aep_eps_operon.faa'"
   ]
  },
  {
   "cell_type": "code",
   "execution_count": 8,
   "id": "national-college",
   "metadata": {},
   "outputs": [],
   "source": [
    "def split_fasta_file_into_multiple_files(filename,destination):\n",
    "    try:\n",
    "        i = open(filename,'r')\n",
    "        lines = i.readlines()\n",
    "        i.close()\n",
    "        \n",
    "        o = None\n",
    "        for line in lines:\n",
    "            if \">\" in line:\n",
    "                if o != None:\n",
    "                    o.close()\n",
    "                o = open(destination + '/' + ''.join(line.split('>')[1]).split(' ')[0]+'.faa','w')\n",
    "            o.write(line)\n",
    "        \n",
    "        o.close()\n",
    "    except Exception as e:\n",
    "        print(\"Exception occured : {}\".format(e))\n",
    "        raise Exception('couldnt transform fasta file into multiple files')"
   ]
  },
  {
   "cell_type": "code",
   "execution_count": 9,
   "id": "distributed-belgium",
   "metadata": {},
   "outputs": [],
   "source": [
    "split_fasta_file_into_multiple_files(fasta_file,'../data/curvibacter_sequences/eps_operon')"
   ]
  },
  {
   "cell_type": "markdown",
   "id": "returning-warrant",
   "metadata": {},
   "source": [
    "## regular expressions"
   ]
  },
  {
   "cell_type": "code",
   "execution_count": 1,
   "id": "sufficient-billy",
   "metadata": {},
   "outputs": [],
   "source": [
    "import re"
   ]
  },
  {
   "cell_type": "code",
   "execution_count": 2,
   "id": "built-niger",
   "metadata": {},
   "outputs": [],
   "source": [
    "regex = re.compile('([A,C,G,T]{10,20}TTT[A,C,G])')"
   ]
  },
  {
   "cell_type": "code",
   "execution_count": 3,
   "id": "neutral-reflection",
   "metadata": {},
   "outputs": [],
   "source": [
    "genome1_file = open('../data/motif_finding/GCF_000005845.2_ASM584v2_cds_from_genomic.faa','r')\n",
    "lines1 = genome1_file.readlines()\n",
    "genome1_file.close()"
   ]
  },
  {
   "cell_type": "code",
   "execution_count": 4,
   "id": "organic-possession",
   "metadata": {},
   "outputs": [],
   "source": [
    "genome2_file = open('../data/motif_finding/GCF_000009725.1_ASM972v1_cds_from_genomic.faa','r')\n",
    "lines2 = genome2_file.readlines()\n",
    "genome2_file.close()"
   ]
  },
  {
   "cell_type": "code",
   "execution_count": 11,
   "id": "alert-keeping",
   "metadata": {},
   "outputs": [],
   "source": [
    "genome1_dict = {}\n",
    "for line in lines1:\n",
    "    if '>' in line:\n",
    "        key = line.split(' ')[0].split('cds_')[-1]\n",
    "        genome1_dict[key] = ''\n",
    "    else:\n",
    "        line = line.strip()\n",
    "        genome1_dict[key] += line"
   ]
  },
  {
   "cell_type": "code",
   "execution_count": 14,
   "id": "empty-stomach",
   "metadata": {},
   "outputs": [],
   "source": [
    "genome2_dict = {}\n",
    "for line in lines2:\n",
    "    if '>' in line:\n",
    "        key = line.split(' ')[0].split('cds_')[-1]\n",
    "        genome2_dict[key] = ''\n",
    "    else:\n",
    "        line = line.strip()\n",
    "        genome2_dict[key] += line"
   ]
  },
  {
   "cell_type": "code",
   "execution_count": 16,
   "id": "square-aside",
   "metadata": {},
   "outputs": [],
   "source": [
    "result_dict_genome1 = {}\n",
    "for key in genome1_dict.keys():\n",
    "    result_dict_genome1[key] = re.findall(regex, genome1_dict[key])"
   ]
  },
  {
   "cell_type": "code",
   "execution_count": 17,
   "id": "cosmetic-marina",
   "metadata": {},
   "outputs": [],
   "source": [
    "result_dict_genome2 = {}\n",
    "for key in genome2_dict.keys():\n",
    "    result_dict_genome2[key] = re.findall(regex, genome2_dict[key])"
   ]
  },
  {
   "cell_type": "code",
   "execution_count": 18,
   "id": "verbal-conditions",
   "metadata": {},
   "outputs": [
    {
     "name": "stdout",
     "output_type": "stream",
     "text": [
      "NP_415105.1_562 WP_010873414.1_2279\n"
     ]
    }
   ],
   "source": [
    "for key in result_dict_genome1.keys():\n",
    "    for result in result_dict_genome1[key]:\n",
    "        for key2 in result_dict_genome2.keys():\n",
    "            if str(result) in result_dict_genome2[key2]:\n",
    "                print(key,key2)"
   ]
  },
  {
   "cell_type": "code",
   "execution_count": 20,
   "id": "narrow-salvation",
   "metadata": {},
   "outputs": [
    {
     "data": {
      "text/plain": [
       "['ATGATTAAGCAATTTTTC',\n",
       " 'CCGTTATTGGCTTTA',\n",
       " 'ATCTAACGCCAACGGTGGGTTTTG',\n",
       " 'TCAGCGGGAGATAAACAATCTTTG',\n",
       " 'ATCGACCATAGCTTGAGCTATTTA',\n",
       " 'TAACCCGTTCCCTCCAGCGATTTA',\n",
       " 'AGACCGCTGTTGCCAGGGAATTTC',\n",
       " 'GATGGCAAGGGCACAGTCCATTTC',\n",
       " 'ACTGGTTATTTTGAACCAGTTTA',\n",
       " 'TGCCGAATATCGTTATCCCATTTA',\n",
       " 'TGGTTTGCCCAATAATTTTTC',\n",
       " 'GACTTGGAAGGTATGGATGGTTTA',\n",
       " 'GAGGCCAAAGTTCCGTGGCCTTTG',\n",
       " 'ACGGATTATCCCTACGTAAGTTTA',\n",
       " 'GAAACCATCCAAGAGGGAATTTTC',\n",
       " 'CAGCCTGGGGAGGTTACTTTG',\n",
       " 'CCTAAGTTAATCGACTATTTTG',\n",
       " 'ATCCCAGCGAACTAAGTCGTTTTA',\n",
       " 'CCCCGCAATAATCGTCTAATTTTC',\n",
       " 'CCTCCAGGGGCGATCGCCGTTTTA',\n",
       " 'AAAAAGTCAACGTTAGTCGTTTTG',\n",
       " 'GGCCCCGGTCGGGTGGATATTTTC',\n",
       " 'ACTCCTGGCGATCGAGCCGGTTTG',\n",
       " 'ATGAGTGACGACGGCCAAATTTA']"
      ]
     },
     "execution_count": 20,
     "metadata": {},
     "output_type": "execute_result"
    }
   ],
   "source": [
    "result_dict_genome2['WP_010873414.1_2279']"
   ]
  },
  {
   "cell_type": "code",
   "execution_count": 21,
   "id": "connected-bridge",
   "metadata": {},
   "outputs": [
    {
     "name": "stdout",
     "output_type": "stream",
     "text": [
      "CCGTTATTGGCTTTA\n"
     ]
    }
   ],
   "source": [
    "for i in result_dict_genome1['NP_415105.1_562']:\n",
    "    if i in result_dict_genome2['WP_010873414.1_2279']:\n",
    "        print(i)"
   ]
  },
  {
   "cell_type": "code",
   "execution_count": 1,
   "id": "5e4d9946",
   "metadata": {},
   "outputs": [],
   "source": [
    "import subprocess"
   ]
  },
  {
   "cell_type": "code",
   "execution_count": 4,
   "id": "60d7e320",
   "metadata": {},
   "outputs": [
    {
     "name": "stdout",
     "output_type": "stream",
     "text": [
      "USAGE\n",
      "  blastp [-h] [-help] [-import_search_strategy filename]\n",
      "    [-export_search_strategy filename] [-task task_name] [-db database_name]\n",
      "    [-dbsize num_letters] [-gilist filename] [-seqidlist filename]\n",
      "    [-negative_gilist filename] [-negative_seqidlist filename]\n",
      "    [-taxids taxids] [-negative_taxids taxids] [-taxidlist filename]\n",
      "    [-negative_taxidlist filename] [-ipglist filename]\n",
      "    [-negative_ipglist filename] [-entrez_query entrez_query]\n",
      "    [-db_soft_mask filtering_algorithm] [-db_hard_mask filtering_algorithm]\n",
      "    [-subject subject_input_file] [-subject_loc range] [-query input_file]\n",
      "    [-out output_file] [-evalue evalue] [-word_size int_value]\n",
      "    [-gapopen open_penalty] [-gapextend extend_penalty]\n",
      "    [-qcov_hsp_perc float_value] [-max_hsps int_value]\n",
      "    [-xdrop_ungap float_value] [-xdrop_gap float_value]\n",
      "    [-xdrop_gap_final float_value] [-searchsp int_value] [-seg SEG_options]\n",
      "    [-soft_masking soft_masking] [-matrix matrix_name]\n",
      "    [-threshold float_value] [-culling_limit int_value]\n",
      "    [-best_hit_overhang float_value] [-best_hit_score_edge float_value]\n",
      "    [-subject_besthit] [-window_size int_value] [-lcase_masking]\n",
      "    [-query_loc range] [-parse_deflines] [-outfmt format] [-show_gis]\n",
      "    [-num_descriptions int_value] [-num_alignments int_value]\n",
      "    [-line_length line_length] [-html] [-sorthits sort_hits]\n",
      "    [-sorthsps sort_hsps] [-max_target_seqs num_sequences]\n",
      "    [-num_threads int_value] [-ungapped] [-remote] [-comp_based_stats compo]\n",
      "    [-use_sw_tback] [-version]\n",
      "\n",
      "DESCRIPTION\n",
      "   Protein-Protein BLAST 2.11.0+\n",
      "\n",
      "Use '-help' to print detailed descriptions of command line arguments\n"
     ]
    }
   ],
   "source": [
    "process = subprocess.Popen(['blastp','-h'])\n",
    "stdout = process.communicate()[0]"
   ]
  },
  {
   "cell_type": "code",
   "execution_count": 37,
   "id": "3489b7f1",
   "metadata": {},
   "outputs": [],
   "source": [
    "result_df = pd.read_csv('eps_operon.csv',header=0)"
   ]
  },
  {
   "cell_type": "code",
   "execution_count": 40,
   "id": "96fa4b1e",
   "metadata": {},
   "outputs": [],
   "source": [
    "target_list = list(result_df['qseqid'].unique())"
   ]
  },
  {
   "cell_type": "code",
   "execution_count": 43,
   "id": "40261452",
   "metadata": {},
   "outputs": [],
   "source": [
    "handle = Entrez.efetch(db=\"protein\", id=target_list, retmode=\"xml\")\n",
    "record = Entrez.read(handle)\n",
    "handle.close()"
   ]
  },
  {
   "cell_type": "code",
   "execution_count": 49,
   "id": "1683f75d",
   "metadata": {},
   "outputs": [],
   "source": [
    "output = open(\"cOPERON.faa\",'w')\n",
    "for rec in record:\n",
    "    output.write('>'+ rec['GBSeq_locus'] + ' ' + rec['GBSeq_definition']+\"\\n\")\n",
    "    output.write(rec['GBSeq_sequence']+\"\\n\")\n",
    "output.close()"
   ]
  },
  {
   "cell_type": "code",
   "execution_count": 25,
   "id": "91197c7d",
   "metadata": {},
   "outputs": [],
   "source": [
    "csv = pd.read_csv('../data/bioreactor/2021_07_12-cellulose_knockouts-heat_stress_Nik.csv',skiprows=19)"
   ]
  },
  {
   "cell_type": "code",
   "execution_count": 26,
   "id": "929a4980",
   "metadata": {},
   "outputs": [
    {
     "data": {
      "text/html": [
       "<div>\n",
       "<style scoped>\n",
       "    .dataframe tbody tr th:only-of-type {\n",
       "        vertical-align: middle;\n",
       "    }\n",
       "\n",
       "    .dataframe tbody tr th {\n",
       "        vertical-align: top;\n",
       "    }\n",
       "\n",
       "    .dataframe thead th {\n",
       "        text-align: right;\n",
       "    }\n",
       "</style>\n",
       "<table border=\"1\" class=\"dataframe\">\n",
       "  <thead>\n",
       "    <tr style=\"text-align: right;\">\n",
       "      <th></th>\n",
       "      <th>time</th>\n",
       "      <th>actinic-lights.light-all</th>\n",
       "      <th>mc-airpump.airpump</th>\n",
       "      <th>od-sensors-1.od-680</th>\n",
       "      <th>od-sensors-1.od-720</th>\n",
       "      <th>od-sensors-1.od-delta</th>\n",
       "      <th>od-sensors-1.od-division</th>\n",
       "      <th>od-sensors-2.od-680</th>\n",
       "      <th>od-sensors-2.od-720</th>\n",
       "      <th>od-sensors-2.od-delta</th>\n",
       "      <th>...</th>\n",
       "      <th>od-sensors-7.od-680</th>\n",
       "      <th>od-sensors-7.od-720</th>\n",
       "      <th>od-sensors-7.od-delta</th>\n",
       "      <th>od-sensors-7.od-division</th>\n",
       "      <th>od-sensors-8.od-680</th>\n",
       "      <th>od-sensors-8.od-720</th>\n",
       "      <th>od-sensors-8.od-delta</th>\n",
       "      <th>od-sensors-8.od-division</th>\n",
       "      <th>thermo.temperature</th>\n",
       "      <th>thermo.thermo-reg</th>\n",
       "    </tr>\n",
       "  </thead>\n",
       "  <tbody>\n",
       "    <tr>\n",
       "      <th>6774</th>\n",
       "      <td>94.066667</td>\n",
       "      <td></td>\n",
       "      <td></td>\n",
       "      <td></td>\n",
       "      <td></td>\n",
       "      <td></td>\n",
       "      <td></td>\n",
       "      <td></td>\n",
       "      <td></td>\n",
       "      <td></td>\n",
       "      <td>...</td>\n",
       "      <td></td>\n",
       "      <td></td>\n",
       "      <td></td>\n",
       "      <td></td>\n",
       "      <td></td>\n",
       "      <td></td>\n",
       "      <td></td>\n",
       "      <td></td>\n",
       "      <td>39.839</td>\n",
       "      <td></td>\n",
       "    </tr>\n",
       "    <tr>\n",
       "      <th>6775</th>\n",
       "      <td>94.082222</td>\n",
       "      <td></td>\n",
       "      <td>n</td>\n",
       "      <td></td>\n",
       "      <td></td>\n",
       "      <td></td>\n",
       "      <td></td>\n",
       "      <td></td>\n",
       "      <td></td>\n",
       "      <td></td>\n",
       "      <td>...</td>\n",
       "      <td></td>\n",
       "      <td></td>\n",
       "      <td></td>\n",
       "      <td></td>\n",
       "      <td></td>\n",
       "      <td></td>\n",
       "      <td></td>\n",
       "      <td></td>\n",
       "      <td></td>\n",
       "      <td></td>\n",
       "    </tr>\n",
       "    <tr>\n",
       "      <th>6776</th>\n",
       "      <td>94.083333</td>\n",
       "      <td></td>\n",
       "      <td>1</td>\n",
       "      <td>2.24609</td>\n",
       "      <td>1.11079</td>\n",
       "      <td>1.1353</td>\n",
       "      <td>2.02207</td>\n",
       "      <td>2.15273</td>\n",
       "      <td>1.18352</td>\n",
       "      <td>0.9692</td>\n",
       "      <td>...</td>\n",
       "      <td>2.13325</td>\n",
       "      <td>1.02418</td>\n",
       "      <td>1.10907</td>\n",
       "      <td>2.08289</td>\n",
       "      <td>2.0786</td>\n",
       "      <td>1.03044</td>\n",
       "      <td>1.04816</td>\n",
       "      <td>2.0172</td>\n",
       "      <td>39.887</td>\n",
       "      <td></td>\n",
       "    </tr>\n",
       "    <tr>\n",
       "      <th>6777</th>\n",
       "      <td>94.100000</td>\n",
       "      <td></td>\n",
       "      <td></td>\n",
       "      <td></td>\n",
       "      <td></td>\n",
       "      <td></td>\n",
       "      <td></td>\n",
       "      <td></td>\n",
       "      <td></td>\n",
       "      <td></td>\n",
       "      <td>...</td>\n",
       "      <td></td>\n",
       "      <td></td>\n",
       "      <td></td>\n",
       "      <td></td>\n",
       "      <td></td>\n",
       "      <td></td>\n",
       "      <td></td>\n",
       "      <td></td>\n",
       "      <td>40.065</td>\n",
       "      <td></td>\n",
       "    </tr>\n",
       "    <tr>\n",
       "      <th>6778</th>\n",
       "      <td>94.103889</td>\n",
       "      <td>80</td>\n",
       "      <td>1</td>\n",
       "      <td>2.24609</td>\n",
       "      <td>1.11079</td>\n",
       "      <td>1.1353</td>\n",
       "      <td>2.02207</td>\n",
       "      <td>2.15273</td>\n",
       "      <td>1.18352</td>\n",
       "      <td>0.9692</td>\n",
       "      <td>...</td>\n",
       "      <td>2.13325</td>\n",
       "      <td>1.02418</td>\n",
       "      <td>1.10907</td>\n",
       "      <td>2.08289</td>\n",
       "      <td>2.0786</td>\n",
       "      <td>1.03044</td>\n",
       "      <td>1.04816</td>\n",
       "      <td>2.0172</td>\n",
       "      <td>40.105</td>\n",
       "      <td>40</td>\n",
       "    </tr>\n",
       "  </tbody>\n",
       "</table>\n",
       "<p>5 rows × 37 columns</p>\n",
       "</div>"
      ],
      "text/plain": [
       "      time                       actinic-lights.light-all   \\\n",
       "6774                  94.066667                              \n",
       "6775                  94.082222                              \n",
       "6776                  94.083333                              \n",
       "6777                  94.100000                              \n",
       "6778                  94.103889  80                          \n",
       "\n",
       "      mc-airpump.airpump         od-sensors-1.od-680        \\\n",
       "6774                                                         \n",
       "6775  n                                                      \n",
       "6776  1                          2.24609                     \n",
       "6777                                                         \n",
       "6778  1                          2.24609                     \n",
       "\n",
       "      od-sensors-1.od-720        od-sensors-1.od-delta      \\\n",
       "6774                                                         \n",
       "6775                                                         \n",
       "6776  1.11079                    1.1353                      \n",
       "6777                                                         \n",
       "6778  1.11079                    1.1353                      \n",
       "\n",
       "      od-sensors-1.od-division   od-sensors-2.od-680        \\\n",
       "6774                                                         \n",
       "6775                                                         \n",
       "6776  2.02207                    2.15273                     \n",
       "6777                                                         \n",
       "6778  2.02207                    2.15273                     \n",
       "\n",
       "      od-sensors-2.od-720        od-sensors-2.od-delta      ...  \\\n",
       "6774                                                        ...   \n",
       "6775                                                        ...   \n",
       "6776  1.18352                    0.9692                     ...   \n",
       "6777                                                        ...   \n",
       "6778  1.18352                    0.9692                     ...   \n",
       "\n",
       "      od-sensors-7.od-680        od-sensors-7.od-720        \\\n",
       "6774                                                         \n",
       "6775                                                         \n",
       "6776  2.13325                    1.02418                     \n",
       "6777                                                         \n",
       "6778  2.13325                    1.02418                     \n",
       "\n",
       "      od-sensors-7.od-delta      od-sensors-7.od-division   \\\n",
       "6774                                                         \n",
       "6775                                                         \n",
       "6776  1.10907                    2.08289                     \n",
       "6777                                                         \n",
       "6778  1.10907                    2.08289                     \n",
       "\n",
       "      od-sensors-8.od-680        od-sensors-8.od-720        \\\n",
       "6774                                                         \n",
       "6775                                                         \n",
       "6776  2.0786                     1.03044                     \n",
       "6777                                                         \n",
       "6778  2.0786                     1.03044                     \n",
       "\n",
       "      od-sensors-8.od-delta      od-sensors-8.od-division   \\\n",
       "6774                                                         \n",
       "6775                                                         \n",
       "6776  1.04816                    2.0172                      \n",
       "6777                                                         \n",
       "6778  1.04816                    2.0172                      \n",
       "\n",
       "      thermo.temperature         thermo.thermo-reg          \n",
       "6774  39.839                                                \n",
       "6775                                                        \n",
       "6776  39.887                                                \n",
       "6777  40.065                                                \n",
       "6778  40.105                     40                         \n",
       "\n",
       "[5 rows x 37 columns]"
      ]
     },
     "execution_count": 26,
     "metadata": {},
     "output_type": "execute_result"
    }
   ],
   "source": [
    "csv.tail()"
   ]
  },
  {
   "cell_type": "code",
   "execution_count": 30,
   "id": "f86dc126",
   "metadata": {},
   "outputs": [
    {
     "data": {
      "text/html": [
       "<div>\n",
       "<style scoped>\n",
       "    .dataframe tbody tr th:only-of-type {\n",
       "        vertical-align: middle;\n",
       "    }\n",
       "\n",
       "    .dataframe tbody tr th {\n",
       "        vertical-align: top;\n",
       "    }\n",
       "\n",
       "    .dataframe thead th {\n",
       "        text-align: right;\n",
       "    }\n",
       "</style>\n",
       "<table border=\"1\" class=\"dataframe\">\n",
       "  <thead>\n",
       "    <tr style=\"text-align: right;\">\n",
       "      <th></th>\n",
       "      <th>time</th>\n",
       "      <th>actinic-lights.light-all</th>\n",
       "      <th>mc-airpump.airpump</th>\n",
       "      <th>od-sensors-1.od-680</th>\n",
       "      <th>od-sensors-1.od-720</th>\n",
       "      <th>od-sensors-1.od-delta</th>\n",
       "      <th>od-sensors-1.od-division</th>\n",
       "      <th>od-sensors-2.od-680</th>\n",
       "      <th>od-sensors-2.od-720</th>\n",
       "      <th>od-sensors-2.od-delta</th>\n",
       "      <th>...</th>\n",
       "      <th>od-sensors-7.od-680</th>\n",
       "      <th>od-sensors-7.od-720</th>\n",
       "      <th>od-sensors-7.od-delta</th>\n",
       "      <th>od-sensors-7.od-division</th>\n",
       "      <th>od-sensors-8.od-680</th>\n",
       "      <th>od-sensors-8.od-720</th>\n",
       "      <th>od-sensors-8.od-delta</th>\n",
       "      <th>od-sensors-8.od-division</th>\n",
       "      <th>thermo.temperature</th>\n",
       "      <th>thermo.thermo-reg</th>\n",
       "    </tr>\n",
       "  </thead>\n",
       "  <tbody>\n",
       "    <tr>\n",
       "      <th>6778</th>\n",
       "      <td>94.103889</td>\n",
       "      <td>80</td>\n",
       "      <td>1</td>\n",
       "      <td>2.24609</td>\n",
       "      <td>1.11079</td>\n",
       "      <td>1.1353</td>\n",
       "      <td>2.02207</td>\n",
       "      <td>2.15273</td>\n",
       "      <td>1.18352</td>\n",
       "      <td>0.9692</td>\n",
       "      <td>...</td>\n",
       "      <td>2.13325</td>\n",
       "      <td>1.02418</td>\n",
       "      <td>1.10907</td>\n",
       "      <td>2.08289</td>\n",
       "      <td>2.0786</td>\n",
       "      <td>1.03044</td>\n",
       "      <td>1.04816</td>\n",
       "      <td>2.0172</td>\n",
       "      <td>40.105</td>\n",
       "      <td>40</td>\n",
       "    </tr>\n",
       "  </tbody>\n",
       "</table>\n",
       "<p>1 rows × 37 columns</p>\n",
       "</div>"
      ],
      "text/plain": [
       "      time                       actinic-lights.light-all   \\\n",
       "6778                  94.103889  80                          \n",
       "\n",
       "      mc-airpump.airpump         od-sensors-1.od-680        \\\n",
       "6778  1                          2.24609                     \n",
       "\n",
       "      od-sensors-1.od-720        od-sensors-1.od-delta      \\\n",
       "6778  1.11079                    1.1353                      \n",
       "\n",
       "      od-sensors-1.od-division   od-sensors-2.od-680        \\\n",
       "6778  2.02207                    2.15273                     \n",
       "\n",
       "      od-sensors-2.od-720        od-sensors-2.od-delta      ...  \\\n",
       "6778  1.18352                    0.9692                     ...   \n",
       "\n",
       "      od-sensors-7.od-680        od-sensors-7.od-720        \\\n",
       "6778  2.13325                    1.02418                     \n",
       "\n",
       "      od-sensors-7.od-delta      od-sensors-7.od-division   \\\n",
       "6778  1.10907                    2.08289                     \n",
       "\n",
       "      od-sensors-8.od-680        od-sensors-8.od-720        \\\n",
       "6778  2.0786                     1.03044                     \n",
       "\n",
       "      od-sensors-8.od-delta      od-sensors-8.od-division   \\\n",
       "6778  1.04816                    2.0172                      \n",
       "\n",
       "      thermo.temperature         thermo.thermo-reg          \n",
       "6778  40.105                     40                         \n",
       "\n",
       "[1 rows x 37 columns]"
      ]
     },
     "execution_count": 30,
     "metadata": {},
     "output_type": "execute_result"
    }
   ],
   "source": [
    "csv[csv['actinic-lights.light-all '] != '                         ']"
   ]
  },
  {
   "cell_type": "code",
   "execution_count": 27,
   "id": "115603ab",
   "metadata": {},
   "outputs": [
    {
     "data": {
      "text/plain": [
       "Index(['time                     ', 'actinic-lights.light-all ',\n",
       "       'mc-airpump.airpump       ', 'od-sensors-1.od-680      ',\n",
       "       'od-sensors-1.od-720      ', 'od-sensors-1.od-delta    ',\n",
       "       'od-sensors-1.od-division ', 'od-sensors-2.od-680      ',\n",
       "       'od-sensors-2.od-720      ', 'od-sensors-2.od-delta    ',\n",
       "       'od-sensors-2.od-division ', 'od-sensors-3.od-680      ',\n",
       "       'od-sensors-3.od-720      ', 'od-sensors-3.od-delta    ',\n",
       "       'od-sensors-3.od-division ', 'od-sensors-4.od-680      ',\n",
       "       'od-sensors-4.od-720      ', 'od-sensors-4.od-delta    ',\n",
       "       'od-sensors-4.od-division ', 'od-sensors-5.od-680      ',\n",
       "       'od-sensors-5.od-720      ', 'od-sensors-5.od-delta    ',\n",
       "       'od-sensors-5.od-division ', 'od-sensors-6.od-680      ',\n",
       "       'od-sensors-6.od-720      ', 'od-sensors-6.od-delta    ',\n",
       "       'od-sensors-6.od-division ', 'od-sensors-7.od-680      ',\n",
       "       'od-sensors-7.od-720      ', 'od-sensors-7.od-delta    ',\n",
       "       'od-sensors-7.od-division ', 'od-sensors-8.od-680      ',\n",
       "       'od-sensors-8.od-720      ', 'od-sensors-8.od-delta    ',\n",
       "       'od-sensors-8.od-division ', 'thermo.temperature       ',\n",
       "       'thermo.thermo-reg        '],\n",
       "      dtype='object')"
      ]
     },
     "execution_count": 27,
     "metadata": {},
     "output_type": "execute_result"
    }
   ],
   "source": [
    "csv.columns"
   ]
  },
  {
   "cell_type": "code",
   "execution_count": 34,
   "id": "b9fd4af7",
   "metadata": {},
   "outputs": [
    {
     "data": {
      "text/plain": [
       "<AxesSubplot:>"
      ]
     },
     "execution_count": 34,
     "metadata": {},
     "output_type": "execute_result"
    },
    {
     "data": {
      "image/png": "[encoded data removed]",
      "text/plain": [
       "<Figure size 432x288 with 1 Axes>"
      ]
     },
     "metadata": {
      "needs_background": "light"
     },
     "output_type": "display_data"
    }
   ],
   "source": [
    "csv.plot()"
   ]
  },
  {
   "cell_type": "code",
   "execution_count": 36,
   "id": "f2df0657",
   "metadata": {},
   "outputs": [
    {
     "data": {
      "text/plain": [
       "6       0.6759                   \n",
       "12      0.62126                  \n",
       "18      0.62918                  \n",
       "24      0.62126                  \n",
       "30      0.62857                  \n",
       "                  ...            \n",
       "6758    1.18352                  \n",
       "6764    1.18795                  \n",
       "6770    1.18795                  \n",
       "6776    1.18352                  \n",
       "6778    1.18352                  \n",
       "Name: od-sensors-2.od-720      , Length: 1130, dtype: object"
      ]
     },
     "execution_count": 36,
     "metadata": {},
     "output_type": "execute_result"
    }
   ],
   "source": [
    "csv[csv['od-sensors-2.od-720      '] != '                         ']['od-sensors-2.od-720      ']"
   ]
  },
  {
   "cell_type": "code",
   "execution_count": 32,
   "id": "45d6569b",
   "metadata": {},
   "outputs": [
    {
     "data": {
      "text/plain": [
       "10.000020000000001"
      ]
     },
     "execution_count": 32,
     "metadata": {},
     "output_type": "execute_result"
    }
   ],
   "source": [
    "60 * 0.166667"
   ]
  },
  {
   "cell_type": "code",
   "execution_count": 55,
   "id": "4b5aca87",
   "metadata": {},
   "outputs": [],
   "source": [
    "inputfile = open(\"../data/curvibacter_genomes/AEP_REFSEQ.faa\",\"r\")\n",
    "outputfile = open(\"../data/curvibacter_genomes/AEP_accession.taxmap\",\"w\")\n",
    "for line in inputfile.readlines():\n",
    "    if \">\" in line:\n",
    "        outputfile.write(line.split(\">\")[1].split(\" \")[0]+\"\\t\"+str(1844971)+\"\\n\")\n",
    "inputfile.close()\n",
    "#1888168\n",
    "outputfile.close()"
   ]
  },
  {
   "cell_type": "code",
   "execution_count": 3,
   "id": "17a23e96",
   "metadata": {},
   "outputs": [],
   "source": [
    "excel = pd.read_excel(\"../data/violin_plot_sonja/Cell size.xlsx\")"
   ]
  },
  {
   "cell_type": "code",
   "execution_count": 4,
   "id": "8edc0d03",
   "metadata": {},
   "outputs": [
    {
     "data": {
      "text/html": [
       "<div>\n",
       "<style scoped>\n",
       "    .dataframe tbody tr th:only-of-type {\n",
       "        vertical-align: middle;\n",
       "    }\n",
       "\n",
       "    .dataframe tbody tr th {\n",
       "        vertical-align: top;\n",
       "    }\n",
       "\n",
       "    .dataframe thead th {\n",
       "        text-align: right;\n",
       "    }\n",
       "</style>\n",
       "<table border=\"1\" class=\"dataframe\">\n",
       "  <thead>\n",
       "    <tr style=\"text-align: right;\">\n",
       "      <th></th>\n",
       "      <th>Casi</th>\n",
       "      <th>Unnamed: 1</th>\n",
       "      <th>Cell size</th>\n",
       "      <th>dh5a -</th>\n",
       "      <th>cell size</th>\n",
       "      <th>dh5a -.1</th>\n",
       "      <th>Unnamed: 6</th>\n",
       "      <th>cell size.1</th>\n",
       "      <th>dh5a +</th>\n",
       "      <th>cell size.2</th>\n",
       "      <th>...</th>\n",
       "      <th>Unnamed: 93</th>\n",
       "      <th>Cell size.2</th>\n",
       "      <th>6803 sfGFP -</th>\n",
       "      <th>Cell size.3</th>\n",
       "      <th>6803 sfGFP - (10ul in 15ml)</th>\n",
       "      <th>Unnamed: 98</th>\n",
       "      <th>Cell size.4</th>\n",
       "      <th>6803 sfGFP +</th>\n",
       "      <th>cell size.22</th>\n",
       "      <th>6803 sfGFP + (10ul in 15ml)</th>\n",
       "    </tr>\n",
       "  </thead>\n",
       "  <tbody>\n",
       "    <tr>\n",
       "      <th>0</th>\n",
       "      <td>NaN</td>\n",
       "      <td>NaN</td>\n",
       "      <td>0.69</td>\n",
       "      <td>0</td>\n",
       "      <td>0.69</td>\n",
       "      <td>0</td>\n",
       "      <td>NaN</td>\n",
       "      <td>0.69</td>\n",
       "      <td>0</td>\n",
       "      <td>NaN</td>\n",
       "      <td>...</td>\n",
       "      <td>NaN</td>\n",
       "      <td>0.69</td>\n",
       "      <td>235.0</td>\n",
       "      <td>0.69</td>\n",
       "      <td>0</td>\n",
       "      <td>NaN</td>\n",
       "      <td>0.69</td>\n",
       "      <td>998.0</td>\n",
       "      <td>0.69</td>\n",
       "      <td>0</td>\n",
       "    </tr>\n",
       "    <tr>\n",
       "      <th>1</th>\n",
       "      <td>NaN</td>\n",
       "      <td>NaN</td>\n",
       "      <td>0.70</td>\n",
       "      <td>21</td>\n",
       "      <td>0.70</td>\n",
       "      <td>451</td>\n",
       "      <td>NaN</td>\n",
       "      <td>0.70</td>\n",
       "      <td>20</td>\n",
       "      <td>NaN</td>\n",
       "      <td>...</td>\n",
       "      <td>NaN</td>\n",
       "      <td>0.72</td>\n",
       "      <td>475.0</td>\n",
       "      <td>0.70</td>\n",
       "      <td>69</td>\n",
       "      <td>NaN</td>\n",
       "      <td>0.72</td>\n",
       "      <td>2106.0</td>\n",
       "      <td>0.70</td>\n",
       "      <td>187</td>\n",
       "    </tr>\n",
       "    <tr>\n",
       "      <th>2</th>\n",
       "      <td>NaN</td>\n",
       "      <td>NaN</td>\n",
       "      <td>0.71</td>\n",
       "      <td>44</td>\n",
       "      <td>0.71</td>\n",
       "      <td>998</td>\n",
       "      <td>NaN</td>\n",
       "      <td>0.71</td>\n",
       "      <td>32</td>\n",
       "      <td>NaN</td>\n",
       "      <td>...</td>\n",
       "      <td>NaN</td>\n",
       "      <td>0.75</td>\n",
       "      <td>573.0</td>\n",
       "      <td>0.71</td>\n",
       "      <td>131</td>\n",
       "      <td>NaN</td>\n",
       "      <td>0.75</td>\n",
       "      <td>2170.0</td>\n",
       "      <td>0.71</td>\n",
       "      <td>397</td>\n",
       "    </tr>\n",
       "    <tr>\n",
       "      <th>3</th>\n",
       "      <td>NaN</td>\n",
       "      <td>NaN</td>\n",
       "      <td>0.72</td>\n",
       "      <td>54</td>\n",
       "      <td>0.72</td>\n",
       "      <td>1595</td>\n",
       "      <td>NaN</td>\n",
       "      <td>0.72</td>\n",
       "      <td>44</td>\n",
       "      <td>NaN</td>\n",
       "      <td>...</td>\n",
       "      <td>NaN</td>\n",
       "      <td>0.78</td>\n",
       "      <td>586.0</td>\n",
       "      <td>0.72</td>\n",
       "      <td>190</td>\n",
       "      <td>NaN</td>\n",
       "      <td>0.78</td>\n",
       "      <td>1864.0</td>\n",
       "      <td>0.72</td>\n",
       "      <td>607</td>\n",
       "    </tr>\n",
       "    <tr>\n",
       "      <th>4</th>\n",
       "      <td>NaN</td>\n",
       "      <td>NaN</td>\n",
       "      <td>0.73</td>\n",
       "      <td>56</td>\n",
       "      <td>0.73</td>\n",
       "      <td>1961</td>\n",
       "      <td>NaN</td>\n",
       "      <td>0.73</td>\n",
       "      <td>55</td>\n",
       "      <td>NaN</td>\n",
       "      <td>...</td>\n",
       "      <td>NaN</td>\n",
       "      <td>0.81</td>\n",
       "      <td>583.0</td>\n",
       "      <td>0.73</td>\n",
       "      <td>218</td>\n",
       "      <td>NaN</td>\n",
       "      <td>0.81</td>\n",
       "      <td>1519.0</td>\n",
       "      <td>0.73</td>\n",
       "      <td>768</td>\n",
       "    </tr>\n",
       "  </tbody>\n",
       "</table>\n",
       "<p>5 rows × 103 columns</p>\n",
       "</div>"
      ],
      "text/plain": [
       "   Casi  Unnamed: 1  Cell size  dh5a -  cell size  dh5a -.1  Unnamed: 6  \\\n",
       "0   NaN         NaN       0.69       0       0.69         0         NaN   \n",
       "1   NaN         NaN       0.70      21       0.70       451         NaN   \n",
       "2   NaN         NaN       0.71      44       0.71       998         NaN   \n",
       "3   NaN         NaN       0.72      54       0.72      1595         NaN   \n",
       "4   NaN         NaN       0.73      56       0.73      1961         NaN   \n",
       "\n",
       "   cell size.1  dh5a +  cell size.2  ...  Unnamed: 93  Cell size.2  \\\n",
       "0         0.69       0          NaN  ...          NaN         0.69   \n",
       "1         0.70      20          NaN  ...          NaN         0.72   \n",
       "2         0.71      32          NaN  ...          NaN         0.75   \n",
       "3         0.72      44          NaN  ...          NaN         0.78   \n",
       "4         0.73      55          NaN  ...          NaN         0.81   \n",
       "\n",
       "   6803 sfGFP -  Cell size.3  6803 sfGFP - (10ul in 15ml)  Unnamed: 98  \\\n",
       "0         235.0         0.69                            0          NaN   \n",
       "1         475.0         0.70                           69          NaN   \n",
       "2         573.0         0.71                          131          NaN   \n",
       "3         586.0         0.72                          190          NaN   \n",
       "4         583.0         0.73                          218          NaN   \n",
       "\n",
       "   Cell size.4  6803 sfGFP +  cell size.22  6803 sfGFP + (10ul in 15ml)  \n",
       "0         0.69         998.0          0.69                            0  \n",
       "1         0.72        2106.0          0.70                          187  \n",
       "2         0.75        2170.0          0.71                          397  \n",
       "3         0.78        1864.0          0.72                          607  \n",
       "4         0.81        1519.0          0.73                          768  \n",
       "\n",
       "[5 rows x 103 columns]"
      ]
     },
     "execution_count": 4,
     "metadata": {},
     "output_type": "execute_result"
    }
   ],
   "source": [
    "excel.head()"
   ]
  },
  {
   "cell_type": "code",
   "execution_count": 161,
   "id": "fffe596e",
   "metadata": {},
   "outputs": [],
   "source": [
    "subframelist = []\n",
    "for header in excel.columns:\n",
    "    if 'xcs' in header or 'Xcs' in header:\n",
    "        subframelist.append(header)"
   ]
  },
  {
   "cell_type": "code",
   "execution_count": 162,
   "id": "a60722eb",
   "metadata": {},
   "outputs": [],
   "source": [
    "subframe = excel[subframelist]"
   ]
  },
  {
   "cell_type": "code",
   "execution_count": 114,
   "id": "7a8e04a2",
   "metadata": {},
   "outputs": [],
   "source": [
    "subframe = excel[['dh5a XcsA1 -','dh5a XcsA 1+']]"
   ]
  },
  {
   "cell_type": "code",
   "execution_count": 100,
   "id": "c61633d7",
   "metadata": {},
   "outputs": [],
   "source": [
    "subframe = excel[['cell size.6','cell size.7']]"
   ]
  },
  {
   "cell_type": "code",
   "execution_count": 108,
   "id": "263d6700",
   "metadata": {},
   "outputs": [],
   "source": [
    "subframe = excel[['cell size.6','dh5a XcsA1 -','dh5a XcsA 1+','cell size.7']]"
   ]
  },
  {
   "cell_type": "code",
   "execution_count": 25,
   "id": "d42701be",
   "metadata": {},
   "outputs": [],
   "source": [
    "subframe = excel[['Cell size','dh5a -','cell size','dh5a -.1','cell size.1','dh5a +']]"
   ]
  },
  {
   "cell_type": "code",
   "execution_count": 66,
   "id": "74fbf57d",
   "metadata": {},
   "outputs": [],
   "source": [
    "subframe = excel[['Cell size','cell size','cell size.1']]"
   ]
  },
  {
   "cell_type": "code",
   "execution_count": 85,
   "id": "68af6544",
   "metadata": {},
   "outputs": [],
   "source": [
    "subframe = excel[['dh5a -','dh5a -.1','dh5a XcsA1 -','dh5a XcsA lv 1 -']]"
   ]
  },
  {
   "cell_type": "code",
   "execution_count": null,
   "id": "8a7336df",
   "metadata": {},
   "outputs": [],
   "source": [
    "dh5a XcsA1 -\n",
    "dh5a XcsA lv 1 -"
   ]
  },
  {
   "cell_type": "code",
   "execution_count": 70,
   "id": "d31fc327",
   "metadata": {},
   "outputs": [
    {
     "data": {
      "text/html": [
       "<div>\n",
       "<style scoped>\n",
       "    .dataframe tbody tr th:only-of-type {\n",
       "        vertical-align: middle;\n",
       "    }\n",
       "\n",
       "    .dataframe tbody tr th {\n",
       "        vertical-align: top;\n",
       "    }\n",
       "\n",
       "    .dataframe thead th {\n",
       "        text-align: right;\n",
       "    }\n",
       "</style>\n",
       "<table border=\"1\" class=\"dataframe\">\n",
       "  <thead>\n",
       "    <tr style=\"text-align: right;\">\n",
       "      <th></th>\n",
       "      <th>Cell size</th>\n",
       "      <th>cell size</th>\n",
       "      <th>cell size.1</th>\n",
       "    </tr>\n",
       "  </thead>\n",
       "  <tbody>\n",
       "    <tr>\n",
       "      <th>0</th>\n",
       "      <td>0.69</td>\n",
       "      <td>0.69</td>\n",
       "      <td>0.69</td>\n",
       "    </tr>\n",
       "    <tr>\n",
       "      <th>1</th>\n",
       "      <td>0.70</td>\n",
       "      <td>0.70</td>\n",
       "      <td>0.70</td>\n",
       "    </tr>\n",
       "    <tr>\n",
       "      <th>2</th>\n",
       "      <td>0.71</td>\n",
       "      <td>0.71</td>\n",
       "      <td>0.71</td>\n",
       "    </tr>\n",
       "    <tr>\n",
       "      <th>3</th>\n",
       "      <td>0.72</td>\n",
       "      <td>0.72</td>\n",
       "      <td>0.72</td>\n",
       "    </tr>\n",
       "    <tr>\n",
       "      <th>4</th>\n",
       "      <td>0.73</td>\n",
       "      <td>0.73</td>\n",
       "      <td>0.73</td>\n",
       "    </tr>\n",
       "  </tbody>\n",
       "</table>\n",
       "</div>"
      ],
      "text/plain": [
       "   Cell size  cell size  cell size.1\n",
       "0       0.69       0.69         0.69\n",
       "1       0.70       0.70         0.70\n",
       "2       0.71       0.71         0.71\n",
       "3       0.72       0.72         0.72\n",
       "4       0.73       0.73         0.73"
      ]
     },
     "execution_count": 70,
     "metadata": {},
     "output_type": "execute_result"
    }
   ],
   "source": [
    "subframe.head()"
   ]
  },
  {
   "cell_type": "code",
   "execution_count": 29,
   "id": "2a73165a",
   "metadata": {},
   "outputs": [],
   "source": [
    "quartile1, medians, quartile3 = np.percentile(subframe, [25, 50, 75], axis=1)"
   ]
  },
  {
   "cell_type": "code",
   "execution_count": 167,
   "id": "cf675ca3",
   "metadata": {
    "scrolled": true
   },
   "outputs": [
    {
     "data": {
      "image/png": "[encoded data removed]",
      "text/plain": [
       "<Figure size 864x576 with 1 Axes>"
      ]
     },
     "metadata": {
      "needs_background": "light"
     },
     "output_type": "display_data"
    }
   ],
   "source": [
    "fig, ax = plt.subplots(1, 1, figsize = (12,8))\n",
    "violinplots = ax.violinplot(subframe,showmeans=True, showmedians=True,\n",
    "        showextrema=True)\n",
    "\n",
    "for partname in ('cbars','cmins','cmaxes','cmeans','cmedians'):\n",
    "    vp = violinplots[partname]\n",
    "    vp.set_edgecolor('black')\n",
    "    vp.set_linewidth(2)\n",
    "\n",
    "for vp in violinplots['bodies']:\n",
    "    vp.set_facecolor('tomato')\n",
    "    vp.set_edgecolor('black')\n",
    "    vp.set_linewidth(2)\n",
    "    vp.set_alpha(0.5)\n",
    "\n",
    "ax.set_xticks(range(1,len(subframelist)+1,1))\n",
    "ax.set_xticklabels(subframelist,rotation=90)\n",
    "\n",
    "#ax.set_xticklabels(['dh5a -','dh5a -','dh5a XcsA1 -','dh5a XcsA lv 1 -'])\n",
    "ax.set_title(\"Test Violin Plot\", fontsize=18)\n",
    "#ax.set_ylim(0,200)\n",
    "#ax.hlines(y=np.mean(subframe['dh5a XcsA1 -']),xmin=0.5,xmax=1.5,color='blue')\n",
    "#ax.hlines(y=np.mean(subframe['dh5a XcsA 1+']),xmin=1.5,xmax=2.5,color='green')\n",
    "\n",
    "#plt.axvline(2,ymin=1,ymax=2)\n",
    "#ax.set_\n",
    "plt.grid()\n",
    "plt.show()"
   ]
  },
  {
   "cell_type": "code",
   "execution_count": 164,
   "id": "8d04552f",
   "metadata": {},
   "outputs": [
    {
     "name": "stdout",
     "output_type": "stream",
     "text": [
      "Help on method set_xticklabels in module matplotlib.axes._base:\n",
      "\n",
      "set_xticklabels(labels, *, fontdict=None, minor=False, **kwargs) method of matplotlib.axes._subplots.AxesSubplot instance\n",
      "    Set the xaxis' labels with list of string labels.\n",
      "    \n",
      "    .. warning::\n",
      "        This method should only be used after fixing the tick positions\n",
      "        using `.Axes.set_xticks`. Otherwise, the labels may end up in\n",
      "        unexpected positions.\n",
      "    \n",
      "    Parameters\n",
      "    ----------\n",
      "    labels : list of str\n",
      "        The label texts.\n",
      "    \n",
      "    fontdict : dict, optional\n",
      "        A dictionary controlling the appearance of the ticklabels.\n",
      "        The default *fontdict* is::\n",
      "    \n",
      "           {'fontsize': rcParams['axes.titlesize'],\n",
      "            'fontweight': rcParams['axes.titleweight'],\n",
      "            'verticalalignment': 'baseline',\n",
      "            'horizontalalignment': loc}\n",
      "    \n",
      "    minor : bool, default: False\n",
      "        Whether to set the minor ticklabels rather than the major ones.\n",
      "    \n",
      "    Returns\n",
      "    -------\n",
      "    list of `~.Text`\n",
      "        The labels.\n",
      "    \n",
      "    Other Parameters\n",
      "    ----------------\n",
      "    **kwargs : `~.text.Text` properties.\n",
      "\n"
     ]
    }
   ],
   "source": [
    "help(ax.set_xticklabels)"
   ]
  },
  {
   "cell_type": "code",
   "execution_count": 111,
   "id": "1ba30bb7",
   "metadata": {},
   "outputs": [],
   "source": [
    "x = range(len(subframe['cell size.6']))\n",
    "y = list(subframe['cell size.6'])"
   ]
  },
  {
   "cell_type": "code",
   "execution_count": 112,
   "id": "3e75d739",
   "metadata": {},
   "outputs": [
    {
     "data": {
      "text/plain": [
       "[<matplotlib.lines.Line2D at 0x7f84e6b79fd0>]"
      ]
     },
     "execution_count": 112,
     "metadata": {},
     "output_type": "execute_result"
    },
    {
     "data": {
      "image/png": "[encoded data removed]",
      "text/plain": [
       "<Figure size 432x288 with 1 Axes>"
      ]
     },
     "metadata": {
      "needs_background": "light"
     },
     "output_type": "display_data"
    }
   ],
   "source": [
    "plt.plot(x,y)"
   ]
  },
  {
   "cell_type": "code",
   "execution_count": 113,
   "id": "6ddfecad",
   "metadata": {},
   "outputs": [
    {
     "data": {
      "text/plain": [
       "[<matplotlib.lines.Line2D at 0x7f84e7526cd0>]"
      ]
     },
     "execution_count": 113,
     "metadata": {},
     "output_type": "execute_result"
    },
    {
     "data": {
      "image/png": "[encoded data removed]",
      "text/plain": [
       "<Figure size 432x288 with 1 Axes>"
      ]
     },
     "metadata": {
      "needs_background": "light"
     },
     "output_type": "display_data"
    }
   ],
   "source": [
    "x = range(len(subframe['dh5a XcsA1 -']))\n",
    "y = list(subframe['dh5a XcsA1 -'])\n",
    "plt.plot(x,y)"
   ]
  },
  {
   "cell_type": "code",
   "execution_count": 105,
   "id": "68025c81",
   "metadata": {},
   "outputs": [
    {
     "data": {
      "text/plain": [
       "5.341844863731656"
      ]
     },
     "execution_count": 105,
     "metadata": {},
     "output_type": "execute_result"
    }
   ],
   "source": [
    "np.mean(subframe['cell size.6'])"
   ]
  },
  {
   "cell_type": "code",
   "execution_count": 106,
   "id": "493ef33d",
   "metadata": {},
   "outputs": [
    {
     "name": "stdout",
     "output_type": "stream",
     "text": [
      "443\n",
      "511\n"
     ]
    }
   ],
   "source": [
    "count_0 = 0\n",
    "count_5 = 0\n",
    "for i in subframe['cell size.6']:\n",
    "    if i > 5:\n",
    "        count_5 += 1\n",
    "    else:\n",
    "        count_0 += 1\n",
    "        \n",
    "print(count_0)\n",
    "print(count_5)"
   ]
  },
  {
   "cell_type": "code",
   "execution_count": 170,
   "id": "61e628d5",
   "metadata": {},
   "outputs": [
    {
     "name": "stderr",
     "output_type": "stream",
     "text": [
      "/blast/miniconda3/lib/python3.8/site-packages/numpy/linalg/linalg.py:2158: RuntimeWarning: invalid value encountered in det\n",
      "  r = _umath_linalg.det(a, signature=signature)\n"
     ]
    },
    {
     "data": {
      "image/png": "[encoded data removed]",
      "text/plain": [
       "<Figure size 864x576 with 1 Axes>"
      ]
     },
     "metadata": {
      "needs_background": "light"
     },
     "output_type": "display_data"
    }
   ],
   "source": [
    "fig, ax = plt.subplots(1, 1, figsize = (12,8))\n",
    "violinplots = ax.violinplot(subframe,showmeans=True, showmedians=True,\n",
    "        showextrema=True)\n",
    "\n",
    "for partname in ('cbars','cmins','cmaxes','cmeans','cmedians'):\n",
    "    vp = violinplots[partname]\n",
    "    vp.set_edgecolor('black')\n",
    "    vp.set_linewidth(1)\n",
    "\n",
    "for vp in violinplots['bodies']:\n",
    "    vp.set_facecolor('tomato')\n",
    "    vp.set_edgecolor('black')\n",
    "    vp.set_linewidth(2)\n",
    "    vp.set_alpha(1)\n",
    "\n",
    "ax.set_xticks(range(1,len(subframelist)+1,1))\n",
    "ax.set_xticklabels(subframelist,rotation=90)\n",
    "\n",
    "#ax.set_xticklabels(['dh5a -','dh5a -','dh5a XcsA1 -','dh5a XcsA lv 1 -'])\n",
    "ax.set_title(\"Violin plots of XcsA mutants\", fontsize=18)\n",
    "#ax.set_ylim(0,200)\n",
    "#ax.hlines(y=np.mean(subframe['dh5a XcsA1 -']),xmin=0.5,xmax=1.5,color='blue')\n",
    "#ax.hlines(y=np.mean(subframe['dh5a XcsA 1+']),xmin=1.5,xmax=2.5,color='green')\n",
    "\n",
    "#plt.axvline(2,ymin=1,ymax=2)\n",
    "#ax.set_\n",
    "plt.grid()\n",
    "plt.savefig(\"../data/violin_plot_sonja/full_dataset_plots.png\",dpi=400)\n",
    "plt.show()"
   ]
  },
  {
   "cell_type": "code",
   "execution_count": 172,
   "id": "e74caa1b",
   "metadata": {},
   "outputs": [
    {
     "data": {
      "text/html": [
       "<div>\n",
       "<style scoped>\n",
       "    .dataframe tbody tr th:only-of-type {\n",
       "        vertical-align: middle;\n",
       "    }\n",
       "\n",
       "    .dataframe tbody tr th {\n",
       "        vertical-align: top;\n",
       "    }\n",
       "\n",
       "    .dataframe thead th {\n",
       "        text-align: right;\n",
       "    }\n",
       "</style>\n",
       "<table border=\"1\" class=\"dataframe\">\n",
       "  <thead>\n",
       "    <tr style=\"text-align: right;\">\n",
       "      <th></th>\n",
       "      <th>W3110 XcsA +</th>\n",
       "      <th>W3110 XcsA+</th>\n",
       "    </tr>\n",
       "  </thead>\n",
       "  <tbody>\n",
       "    <tr>\n",
       "      <th>0</th>\n",
       "      <td>0</td>\n",
       "      <td>0</td>\n",
       "    </tr>\n",
       "    <tr>\n",
       "      <th>1</th>\n",
       "      <td>547</td>\n",
       "      <td>703</td>\n",
       "    </tr>\n",
       "    <tr>\n",
       "      <th>2</th>\n",
       "      <td>1246</td>\n",
       "      <td>1532</td>\n",
       "    </tr>\n",
       "    <tr>\n",
       "      <th>3</th>\n",
       "      <td>2223</td>\n",
       "      <td>2217</td>\n",
       "    </tr>\n",
       "    <tr>\n",
       "      <th>4</th>\n",
       "      <td>3289</td>\n",
       "      <td>2824</td>\n",
       "    </tr>\n",
       "  </tbody>\n",
       "</table>\n",
       "</div>"
      ],
      "text/plain": [
       "   W3110 XcsA +  W3110 XcsA+\n",
       "0             0            0\n",
       "1           547          703\n",
       "2          1246         1532\n",
       "3          2223         2217\n",
       "4          3289         2824"
      ]
     },
     "execution_count": 172,
     "metadata": {},
     "output_type": "execute_result"
    }
   ],
   "source": [
    "\n",
    "induced.head()"
   ]
  },
  {
   "cell_type": "code",
   "execution_count": 173,
   "id": "7be7186c",
   "metadata": {},
   "outputs": [],
   "source": []
  },
  {
   "cell_type": "code",
   "execution_count": 176,
   "id": "27c2adbe",
   "metadata": {},
   "outputs": [],
   "source": []
  },
  {
   "cell_type": "code",
   "execution_count": 181,
   "id": "2fe84e9f",
   "metadata": {},
   "outputs": [],
   "source": []
  },
  {
   "cell_type": "code",
   "execution_count": 182,
   "id": "1ac21963",
   "metadata": {},
   "outputs": [
    {
     "data": {
      "text/html": [
       "<div>\n",
       "<style scoped>\n",
       "    .dataframe tbody tr th:only-of-type {\n",
       "        vertical-align: middle;\n",
       "    }\n",
       "\n",
       "    .dataframe tbody tr th {\n",
       "        vertical-align: top;\n",
       "    }\n",
       "\n",
       "    .dataframe thead th {\n",
       "        text-align: right;\n",
       "    }\n",
       "</style>\n",
       "<table border=\"1\" class=\"dataframe\">\n",
       "  <thead>\n",
       "    <tr style=\"text-align: right;\">\n",
       "      <th></th>\n",
       "      <th>0</th>\n",
       "      <th>1</th>\n",
       "    </tr>\n",
       "  </thead>\n",
       "  <tbody>\n",
       "    <tr>\n",
       "      <th>0</th>\n",
       "      <td>0.0</td>\n",
       "      <td>0.0</td>\n",
       "    </tr>\n",
       "    <tr>\n",
       "      <th>1</th>\n",
       "      <td>625.0</td>\n",
       "      <td>154.0</td>\n",
       "    </tr>\n",
       "    <tr>\n",
       "      <th>2</th>\n",
       "      <td>1389.0</td>\n",
       "      <td>294.0</td>\n",
       "    </tr>\n",
       "    <tr>\n",
       "      <th>3</th>\n",
       "      <td>2220.0</td>\n",
       "      <td>483.0</td>\n",
       "    </tr>\n",
       "    <tr>\n",
       "      <th>4</th>\n",
       "      <td>3056.5</td>\n",
       "      <td>633.5</td>\n",
       "    </tr>\n",
       "  </tbody>\n",
       "</table>\n",
       "</div>"
      ],
      "text/plain": [
       "        0      1\n",
       "0     0.0    0.0\n",
       "1   625.0  154.0\n",
       "2  1389.0  294.0\n",
       "3  2220.0  483.0\n",
       "4  3056.5  633.5"
      ]
     },
     "execution_count": 182,
     "metadata": {},
     "output_type": "execute_result"
    }
   ],
   "source": [
    "df.head()"
   ]
  },
  {
   "cell_type": "code",
   "execution_count": 190,
   "id": "115e1478",
   "metadata": {},
   "outputs": [
    {
     "name": "stdout",
     "output_type": "stream",
     "text": [
      "pandas==1.3.2\n",
      "numpy==1.21.2\n"
     ]
    }
   ],
   "source": [
    "print('\\n'.join(f'{m.__name__}=={m.__version__}' for m in globals().values() if getattr(m, '__version__', None)))"
   ]
  },
  {
   "cell_type": "code",
   "execution_count": 191,
   "id": "b2018252",
   "metadata": {},
   "outputs": [
    {
     "data": {
      "image/png": "[encoded data removed]",
      "text/plain": [
       "<Figure size 864x576 with 1 Axes>"
      ]
     },
     "metadata": {
      "needs_background": "light"
     },
     "output_type": "display_data"
    }
   ],
   "source": [
    "import pandas as pd\n",
    "import matplotlib.pyplot as plt\n",
    "import numpy as np\n",
    "\n",
    "excel = pd.read_excel(\"../data/violin_plot_sonja/Cell size.xlsx\")\n",
    "subframelist = []\n",
    "for header in excel.columns:\n",
    "    if 'xcs' in header or 'Xcs' in header:\n",
    "        subframelist.append(header)\n",
    "        \n",
    "induced = ['W3110 XcsA +','W3110 XcsA+']\n",
    "induced = excel[induced]\n",
    "not_induced = ['W3110 Xcsa -','W3110 XcsA-',]\n",
    "not_induced = excel[not_induced]\n",
    "\n",
    "ydata_induced = (induced['W3110 XcsA +'] + induced['W3110 XcsA+'])/2\n",
    "ydata_not_induced = (not_induced['W3110 Xcsa -'] + not_induced['W3110 XcsA-'])/2\n",
    "\n",
    "df = pd.DataFrame([ydata_induced,ydata_not_induced])\n",
    "df = df.transpose()        \n",
    "        \n",
    "fig, ax = plt.subplots(1, 1, figsize = (12,8))\n",
    "violinplots = ax.violinplot(df,showmeans=True, showmedians=True,\n",
    "        showextrema=True)\n",
    "\n",
    "for partname in ('cbars','cmins','cmaxes','cmeans','cmedians'):\n",
    "    vp = violinplots[partname]\n",
    "    vp.set_edgecolor('black')\n",
    "    vp.set_linewidth(2)\n",
    "\n",
    "for vp in violinplots['bodies']:\n",
    "    vp.set_facecolor('tomato')\n",
    "    vp.set_edgecolor('black')\n",
    "    vp.set_linewidth(1)\n",
    "    vp.set_alpha(0.7)\n",
    "\n",
    "ax.set_xticks([1,2])\n",
    "ax.set_xticklabels(['ATC+ W3110 XcsA','ATC- W3110 XcsA'],rotation=45)\n",
    "\n",
    "#ax.set_xticklabels(['dh5a -','dh5a -','dh5a XcsA1 -','dh5a XcsA lv 1 -'])\n",
    "ax.set_title(\"Violin plots of W3110 XcsA mutants\", fontsize=18)\n",
    "ax.set_ylabel('cell counts')\n",
    "#ax.set_ylim(-10,1200)\n",
    "ax.hlines(y=np.mean(df[0]),xmin=0.5,xmax=1.5,color='black',alpha=1)\n",
    "ax.hlines(y=np.mean(df[1]),xmin=1.5,xmax=2.5,color='black',alpha=1)\n",
    "\n",
    "#plt.axvline(2,ymin=1,ymax=2)\n",
    "#ax.set_\n",
    "plt.grid()\n",
    "#plt.savefig(\"../data/violin_plot_sonja/induced_not_induced_plots.png\",dpi=400)\n",
    "plt.show()"
   ]
  },
  {
   "cell_type": "code",
   "execution_count": 192,
   "id": "c795736f",
   "metadata": {},
   "outputs": [
    {
     "data": {
      "text/html": [
       "<div>\n",
       "<style scoped>\n",
       "    .dataframe tbody tr th:only-of-type {\n",
       "        vertical-align: middle;\n",
       "    }\n",
       "\n",
       "    .dataframe tbody tr th {\n",
       "        vertical-align: top;\n",
       "    }\n",
       "\n",
       "    .dataframe thead th {\n",
       "        text-align: right;\n",
       "    }\n",
       "</style>\n",
       "<table border=\"1\" class=\"dataframe\">\n",
       "  <thead>\n",
       "    <tr style=\"text-align: right;\">\n",
       "      <th></th>\n",
       "      <th>0</th>\n",
       "      <th>1</th>\n",
       "    </tr>\n",
       "  </thead>\n",
       "  <tbody>\n",
       "    <tr>\n",
       "      <th>0</th>\n",
       "      <td>0.0</td>\n",
       "      <td>0.0</td>\n",
       "    </tr>\n",
       "    <tr>\n",
       "      <th>1</th>\n",
       "      <td>625.0</td>\n",
       "      <td>154.0</td>\n",
       "    </tr>\n",
       "    <tr>\n",
       "      <th>2</th>\n",
       "      <td>1389.0</td>\n",
       "      <td>294.0</td>\n",
       "    </tr>\n",
       "    <tr>\n",
       "      <th>3</th>\n",
       "      <td>2220.0</td>\n",
       "      <td>483.0</td>\n",
       "    </tr>\n",
       "    <tr>\n",
       "      <th>4</th>\n",
       "      <td>3056.5</td>\n",
       "      <td>633.5</td>\n",
       "    </tr>\n",
       "  </tbody>\n",
       "</table>\n",
       "</div>"
      ],
      "text/plain": [
       "        0      1\n",
       "0     0.0    0.0\n",
       "1   625.0  154.0\n",
       "2  1389.0  294.0\n",
       "3  2220.0  483.0\n",
       "4  3056.5  633.5"
      ]
     },
     "execution_count": 192,
     "metadata": {},
     "output_type": "execute_result"
    }
   ],
   "source": [
    "df.head()"
   ]
  },
  {
   "cell_type": "code",
   "execution_count": 193,
   "id": "2eac2094",
   "metadata": {},
   "outputs": [
    {
     "name": "stdout",
     "output_type": "stream",
     "text": [
      "796\n"
     ]
    }
   ],
   "source": [
    "count = 0\n",
    "for i in df[0]:\n",
    "    if i < 200:\n",
    "        count += 1\n",
    "print(count)"
   ]
  },
  {
   "cell_type": "code",
   "execution_count": 194,
   "id": "b8b44125",
   "metadata": {},
   "outputs": [
    {
     "data": {
      "text/plain": [
       "954"
      ]
     },
     "execution_count": 194,
     "metadata": {},
     "output_type": "execute_result"
    }
   ],
   "source": [
    "len(df[0])"
   ]
  },
  {
   "cell_type": "code",
   "execution_count": 171,
   "id": "9c490bee",
   "metadata": {},
   "outputs": [
    {
     "data": {
      "text/plain": [
       "['dh5a XcsA1 -',\n",
       " 'dh5a XcsA lv 1 -',\n",
       " 'dh5a XcsA lv 1 +',\n",
       " 'dh5a XcsA 1+',\n",
       " 'W3110 Xcsa -',\n",
       " 'W3110 XcsA-',\n",
       " 'W3110 XcsA +',\n",
       " 'W3110 XcsA+',\n",
       " 'W3 XcsA+ full c',\n",
       " 'W3110 XcsA+.1',\n",
       " 'dh5a XcsA lv 2 -',\n",
       " 'dh5a xcsa2 -',\n",
       " 'dh5a XcsA lv 2 +',\n",
       " 'dh5a XcsA2 +',\n",
       " '6803 XcsA -',\n",
       " '6803  XcsA - 10ul in 15ml',\n",
       " '6803 XcsA +',\n",
       " '6803 XcsA +.1']"
      ]
     },
     "execution_count": 171,
     "metadata": {},
     "output_type": "execute_result"
    }
   ],
   "source": [
    "subframelist"
   ]
  },
  {
   "cell_type": "code",
   "execution_count": 195,
   "id": "8d8de8e7",
   "metadata": {},
   "outputs": [
    {
     "data": {
      "text/html": [
       "<div>\n",
       "<style scoped>\n",
       "    .dataframe tbody tr th:only-of-type {\n",
       "        vertical-align: middle;\n",
       "    }\n",
       "\n",
       "    .dataframe tbody tr th {\n",
       "        vertical-align: top;\n",
       "    }\n",
       "\n",
       "    .dataframe thead th {\n",
       "        text-align: right;\n",
       "    }\n",
       "</style>\n",
       "<table border=\"1\" class=\"dataframe\">\n",
       "  <thead>\n",
       "    <tr style=\"text-align: right;\">\n",
       "      <th></th>\n",
       "      <th>Casi</th>\n",
       "      <th>Unnamed: 1</th>\n",
       "      <th>Cell size</th>\n",
       "      <th>dh5a -</th>\n",
       "      <th>cell size</th>\n",
       "      <th>dh5a -.1</th>\n",
       "      <th>Unnamed: 6</th>\n",
       "      <th>cell size.1</th>\n",
       "      <th>dh5a +</th>\n",
       "      <th>cell size.2</th>\n",
       "      <th>...</th>\n",
       "      <th>Unnamed: 93</th>\n",
       "      <th>Cell size.2</th>\n",
       "      <th>6803 sfGFP -</th>\n",
       "      <th>Cell size.3</th>\n",
       "      <th>6803 sfGFP - (10ul in 15ml)</th>\n",
       "      <th>Unnamed: 98</th>\n",
       "      <th>Cell size.4</th>\n",
       "      <th>6803 sfGFP +</th>\n",
       "      <th>cell size.22</th>\n",
       "      <th>6803 sfGFP + (10ul in 15ml)</th>\n",
       "    </tr>\n",
       "  </thead>\n",
       "  <tbody>\n",
       "    <tr>\n",
       "      <th>0</th>\n",
       "      <td>NaN</td>\n",
       "      <td>NaN</td>\n",
       "      <td>0.69</td>\n",
       "      <td>0</td>\n",
       "      <td>0.69</td>\n",
       "      <td>0</td>\n",
       "      <td>NaN</td>\n",
       "      <td>0.69</td>\n",
       "      <td>0</td>\n",
       "      <td>NaN</td>\n",
       "      <td>...</td>\n",
       "      <td>NaN</td>\n",
       "      <td>0.69</td>\n",
       "      <td>235.0</td>\n",
       "      <td>0.69</td>\n",
       "      <td>0</td>\n",
       "      <td>NaN</td>\n",
       "      <td>0.69</td>\n",
       "      <td>998.0</td>\n",
       "      <td>0.69</td>\n",
       "      <td>0</td>\n",
       "    </tr>\n",
       "    <tr>\n",
       "      <th>1</th>\n",
       "      <td>NaN</td>\n",
       "      <td>NaN</td>\n",
       "      <td>0.70</td>\n",
       "      <td>21</td>\n",
       "      <td>0.70</td>\n",
       "      <td>451</td>\n",
       "      <td>NaN</td>\n",
       "      <td>0.70</td>\n",
       "      <td>20</td>\n",
       "      <td>NaN</td>\n",
       "      <td>...</td>\n",
       "      <td>NaN</td>\n",
       "      <td>0.72</td>\n",
       "      <td>475.0</td>\n",
       "      <td>0.70</td>\n",
       "      <td>69</td>\n",
       "      <td>NaN</td>\n",
       "      <td>0.72</td>\n",
       "      <td>2106.0</td>\n",
       "      <td>0.70</td>\n",
       "      <td>187</td>\n",
       "    </tr>\n",
       "    <tr>\n",
       "      <th>2</th>\n",
       "      <td>NaN</td>\n",
       "      <td>NaN</td>\n",
       "      <td>0.71</td>\n",
       "      <td>44</td>\n",
       "      <td>0.71</td>\n",
       "      <td>998</td>\n",
       "      <td>NaN</td>\n",
       "      <td>0.71</td>\n",
       "      <td>32</td>\n",
       "      <td>NaN</td>\n",
       "      <td>...</td>\n",
       "      <td>NaN</td>\n",
       "      <td>0.75</td>\n",
       "      <td>573.0</td>\n",
       "      <td>0.71</td>\n",
       "      <td>131</td>\n",
       "      <td>NaN</td>\n",
       "      <td>0.75</td>\n",
       "      <td>2170.0</td>\n",
       "      <td>0.71</td>\n",
       "      <td>397</td>\n",
       "    </tr>\n",
       "    <tr>\n",
       "      <th>3</th>\n",
       "      <td>NaN</td>\n",
       "      <td>NaN</td>\n",
       "      <td>0.72</td>\n",
       "      <td>54</td>\n",
       "      <td>0.72</td>\n",
       "      <td>1595</td>\n",
       "      <td>NaN</td>\n",
       "      <td>0.72</td>\n",
       "      <td>44</td>\n",
       "      <td>NaN</td>\n",
       "      <td>...</td>\n",
       "      <td>NaN</td>\n",
       "      <td>0.78</td>\n",
       "      <td>586.0</td>\n",
       "      <td>0.72</td>\n",
       "      <td>190</td>\n",
       "      <td>NaN</td>\n",
       "      <td>0.78</td>\n",
       "      <td>1864.0</td>\n",
       "      <td>0.72</td>\n",
       "      <td>607</td>\n",
       "    </tr>\n",
       "    <tr>\n",
       "      <th>4</th>\n",
       "      <td>NaN</td>\n",
       "      <td>NaN</td>\n",
       "      <td>0.73</td>\n",
       "      <td>56</td>\n",
       "      <td>0.73</td>\n",
       "      <td>1961</td>\n",
       "      <td>NaN</td>\n",
       "      <td>0.73</td>\n",
       "      <td>55</td>\n",
       "      <td>NaN</td>\n",
       "      <td>...</td>\n",
       "      <td>NaN</td>\n",
       "      <td>0.81</td>\n",
       "      <td>583.0</td>\n",
       "      <td>0.73</td>\n",
       "      <td>218</td>\n",
       "      <td>NaN</td>\n",
       "      <td>0.81</td>\n",
       "      <td>1519.0</td>\n",
       "      <td>0.73</td>\n",
       "      <td>768</td>\n",
       "    </tr>\n",
       "  </tbody>\n",
       "</table>\n",
       "<p>5 rows × 103 columns</p>\n",
       "</div>"
      ],
      "text/plain": [
       "   Casi  Unnamed: 1  Cell size  dh5a -  cell size  dh5a -.1  Unnamed: 6  \\\n",
       "0   NaN         NaN       0.69       0       0.69         0         NaN   \n",
       "1   NaN         NaN       0.70      21       0.70       451         NaN   \n",
       "2   NaN         NaN       0.71      44       0.71       998         NaN   \n",
       "3   NaN         NaN       0.72      54       0.72      1595         NaN   \n",
       "4   NaN         NaN       0.73      56       0.73      1961         NaN   \n",
       "\n",
       "   cell size.1  dh5a +  cell size.2  ...  Unnamed: 93  Cell size.2  \\\n",
       "0         0.69       0          NaN  ...          NaN         0.69   \n",
       "1         0.70      20          NaN  ...          NaN         0.72   \n",
       "2         0.71      32          NaN  ...          NaN         0.75   \n",
       "3         0.72      44          NaN  ...          NaN         0.78   \n",
       "4         0.73      55          NaN  ...          NaN         0.81   \n",
       "\n",
       "   6803 sfGFP -  Cell size.3  6803 sfGFP - (10ul in 15ml)  Unnamed: 98  \\\n",
       "0         235.0         0.69                            0          NaN   \n",
       "1         475.0         0.70                           69          NaN   \n",
       "2         573.0         0.71                          131          NaN   \n",
       "3         586.0         0.72                          190          NaN   \n",
       "4         583.0         0.73                          218          NaN   \n",
       "\n",
       "   Cell size.4  6803 sfGFP +  cell size.22  6803 sfGFP + (10ul in 15ml)  \n",
       "0         0.69         998.0          0.69                            0  \n",
       "1         0.72        2106.0          0.70                          187  \n",
       "2         0.75        2170.0          0.71                          397  \n",
       "3         0.78        1864.0          0.72                          607  \n",
       "4         0.81        1519.0          0.73                          768  \n",
       "\n",
       "[5 rows x 103 columns]"
      ]
     },
     "execution_count": 195,
     "metadata": {},
     "output_type": "execute_result"
    }
   ],
   "source": [
    "excel.head()"
   ]
  },
  {
   "cell_type": "code",
   "execution_count": 197,
   "id": "f4d961a9",
   "metadata": {},
   "outputs": [
    {
     "data": {
      "text/plain": [
       "0       0.0\n",
       "1     625.0\n",
       "2    1389.0\n",
       "3    2220.0\n",
       "4    3056.5\n",
       "dtype: float64"
      ]
     },
     "execution_count": 197,
     "metadata": {},
     "output_type": "execute_result"
    }
   ],
   "source": [
    "ydata_induced.head()"
   ]
  },
  {
   "cell_type": "code",
   "execution_count": 199,
   "id": "6a66a574",
   "metadata": {},
   "outputs": [],
   "source": [
    "xdata = excel['cell size']"
   ]
  },
  {
   "cell_type": "code",
   "execution_count": 204,
   "id": "4712d0bc",
   "metadata": {},
   "outputs": [
    {
     "data": {
      "text/plain": [
       "Index(['Casi', 'Unnamed: 1', 'Cell size', 'dh5a -', 'cell size', 'dh5a -.1',\n",
       "       'Unnamed: 6', 'cell size.1', 'dh5a +', 'cell size.2',\n",
       "       ...\n",
       "       'Unnamed: 93', 'Cell size.2', '6803 sfGFP -', 'Cell size.3',\n",
       "       '6803 sfGFP - (10ul in 15ml)', 'Unnamed: 98', 'Cell size.4',\n",
       "       '6803 sfGFP +', 'cell size.22', '6803 sfGFP + (10ul in 15ml)'],\n",
       "      dtype='object', length=103)"
      ]
     },
     "execution_count": 204,
     "metadata": {},
     "output_type": "execute_result"
    }
   ],
   "source": [
    "excel.columns"
   ]
  },
  {
   "cell_type": "code",
   "execution_count": 205,
   "id": "bc384bf8",
   "metadata": {},
   "outputs": [],
   "source": [
    "wildtype = (excel['dh5a -'] + excel['dh5a -.1'])/2"
   ]
  },
  {
   "cell_type": "code",
   "execution_count": 210,
   "id": "af61d01e",
   "metadata": {},
   "outputs": [],
   "source": [
    "lv2 = (excel['dh5a XcsA lv 2 +'] + excel['dh5a XcsA2 +'])/2"
   ]
  },
  {
   "cell_type": "code",
   "execution_count": 212,
   "id": "1e1217d3",
   "metadata": {},
   "outputs": [],
   "source": [
    "gfp = (excel['W3110 GFP +'] + excel['W3110 GFP+'])/2"
   ]
  },
  {
   "cell_type": "code",
   "execution_count": 215,
   "id": "c77c7f18",
   "metadata": {},
   "outputs": [
    {
     "data": {
      "image/png": "[encoded data removed]",
      "text/plain": [
       "<Figure size 432x288 with 1 Axes>"
      ]
     },
     "metadata": {
      "needs_background": "light"
     },
     "output_type": "display_data"
    }
   ],
   "source": [
    "plt.scatter(x=xdata,y=ydata_induced,color=\"black\")\n",
    "plt.scatter(x=xdata,y=ydata_not_induced,color=\"blue\")\n",
    "plt.scatter(x=xdata,y=wildtype,color=\"green\")\n",
    "plt.scatter(x=xdata, y=lv2,color=\"red\")\n",
    "plt.scatter(x=xdata, y=gfp,color=\"orange\")\n",
    "plt.xlim(0.6,2)\n",
    "plt.grid()"
   ]
  },
  {
   "cell_type": "code",
   "execution_count": 1,
   "id": "9942effd",
   "metadata": {},
   "outputs": [],
   "source": [
    "from bioinfokit.analys import gff"
   ]
  }
 ],
 "metadata": {
  "kernelspec": {
   "display_name": "Python 3 (ipykernel)",
   "language": "python",
   "name": "python3"
  },
  "language_info": {
   "codemirror_mode": {
    "name": "ipython",
    "version": 3
   },
   "file_extension": ".py",
   "mimetype": "text/x-python",
   "name": "python",
   "nbconvert_exporter": "python",
   "pygments_lexer": "ipython3",
   "version": "3.8.11"
  }
 },
 "nbformat": 4,
 "nbformat_minor": 5
}
