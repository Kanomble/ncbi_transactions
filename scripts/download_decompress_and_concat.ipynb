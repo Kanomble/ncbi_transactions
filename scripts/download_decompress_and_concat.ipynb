{
 "cells": [
  {
   "cell_type": "code",
   "execution_count": 1,
   "id": "a5233f7f",
   "metadata": {},
   "outputs": [],
   "source": [
    "import os \n",
    "import subprocess\n",
    "import pandas as pd\n",
    "from time import sleep\n",
    "import re"
   ]
  },
  {
   "cell_type": "code",
   "execution_count": 22,
   "id": "f15e6077",
   "metadata": {},
   "outputs": [
    {
     "name": "stdout",
     "output_type": "stream",
     "text": [
      "looping from 0 to 1000\n",
      "looping from 1000 to 2000\n",
      "looping from 2000 to 3000\n",
      "looping from 3000 to 4000\n",
      "looping from 4000 to 5000\n",
      "looping from 5000 to 6000\n",
      "looping from 6000 to 7000\n",
      "looping from 7000 to 8000\n",
      "looping from 8000 to 9000\n",
      "looping from 9000 to 10000\n",
      "looping from 10000 to 11000\n",
      "looping from 11000 to 12000\n",
      "looping from 12000 to 13000\n",
      "looping from 13000 to 14000\n",
      "looping from 14000 to 15000\n",
      "looping from 15000 to 16000\n",
      "looping from 16000 to 17000\n",
      "looping from 17000 to 18000\n",
      "looping from 18000 to 19000\n",
      "looping from 19000 to 20000\n",
      "looping from 20000 to 21000\n",
      "looping from 21000 to 22000\n",
      "looping from 22000 to 23000\n",
      "looping from 23000 to 24000\n",
      "looping from 24000 to 25000\n",
      "looping from 25000 to 26000\n",
      "looping from 26000 to 27000\n",
      "looping from 27000 to 28000\n",
      "looping from 28000 to 29000\n",
      "looping from 29000 to 30000\n",
      "looping from 30000 to 31000\n",
      "looping from 31000 to 32000\n",
      "looping from 32000 to 33000\n",
      "looping from 33000 to 34000\n",
      "looping from 34000 to 35000\n",
      "looping from 35000 to 36000\n",
      "looping from 36000 to 36338\n"
     ]
    }
   ],
   "source": [
    "total_formatted = 0\n",
    "while total_formatted != len(df['ftp_path']):\n",
    "    iteration_end = total_formatted + 100\n",
    "    if(iteration_end > len(df['ftp_path'])):\n",
    "        iteration_end = len(df['ftp_path'])\n",
    "    print(\"looping from {} to {}\".format(total_formatted,iteration_end))\n",
    "    for ftp_path,taxid in zip(df['ftp_path'][total_formatted:iteration_end],df['taxid'][total_formatted:iteration_end]):\n",
    "        total_formatted += 1"
   ]
  },
  {
   "cell_type": "code",
   "execution_count": 89,
   "id": "407839ae",
   "metadata": {},
   "outputs": [],
   "source": [
    "df = pd.read_csv(\"CYANOBACTERIA_COMPLETE_GENOME_AND_CHROMOSOME\",index_col=0)"
   ]
  },
  {
   "cell_type": "code",
   "execution_count": 90,
   "id": "aef26208",
   "metadata": {},
   "outputs": [
    {
     "data": {
      "text/html": [
       "<div>\n",
       "<style scoped>\n",
       "    .dataframe tbody tr th:only-of-type {\n",
       "        vertical-align: middle;\n",
       "    }\n",
       "\n",
       "    .dataframe tbody tr th {\n",
       "        vertical-align: top;\n",
       "    }\n",
       "\n",
       "    .dataframe thead th {\n",
       "        text-align: right;\n",
       "    }\n",
       "</style>\n",
       "<table border=\"1\" class=\"dataframe\">\n",
       "  <thead>\n",
       "    <tr style=\"text-align: right;\">\n",
       "      <th></th>\n",
       "      <th>assembly_accession</th>\n",
       "      <th>organism_name</th>\n",
       "      <th>taxid</th>\n",
       "      <th>species_taxid</th>\n",
       "      <th>assembly_level</th>\n",
       "      <th>ftp_path</th>\n",
       "    </tr>\n",
       "  </thead>\n",
       "  <tbody>\n",
       "    <tr>\n",
       "      <th>0</th>\n",
       "      <td>GCF_000018585.1</td>\n",
       "      <td>Prochlorococcus marinus str. MIT 9211</td>\n",
       "      <td>93059</td>\n",
       "      <td>1219</td>\n",
       "      <td>Chromosome</td>\n",
       "      <td>ftp://ftp.ncbi.nlm.nih.gov/genomes/all/GCF/000...</td>\n",
       "    </tr>\n",
       "    <tr>\n",
       "      <th>1</th>\n",
       "      <td>GCF_000007925.1</td>\n",
       "      <td>Prochlorococcus marinus subsp. marinus str. CC...</td>\n",
       "      <td>167539</td>\n",
       "      <td>1219</td>\n",
       "      <td>Complete Genome</td>\n",
       "      <td>ftp://ftp.ncbi.nlm.nih.gov/genomes/all/GCF/000...</td>\n",
       "    </tr>\n",
       "    <tr>\n",
       "      <th>2</th>\n",
       "      <td>GCF_000011465.1</td>\n",
       "      <td>Prochlorococcus marinus subsp. pastoris str. C...</td>\n",
       "      <td>59919</td>\n",
       "      <td>1219</td>\n",
       "      <td>Complete Genome</td>\n",
       "      <td>ftp://ftp.ncbi.nlm.nih.gov/genomes/all/GCF/000...</td>\n",
       "    </tr>\n",
       "    <tr>\n",
       "      <th>3</th>\n",
       "      <td>GCF_000011485.1</td>\n",
       "      <td>Prochlorococcus marinus str. MIT 9313</td>\n",
       "      <td>74547</td>\n",
       "      <td>1219</td>\n",
       "      <td>Complete Genome</td>\n",
       "      <td>ftp://ftp.ncbi.nlm.nih.gov/genomes/all/GCF/000...</td>\n",
       "    </tr>\n",
       "    <tr>\n",
       "      <th>4</th>\n",
       "      <td>GCF_000012465.1</td>\n",
       "      <td>Prochlorococcus marinus str. NATL2A</td>\n",
       "      <td>59920</td>\n",
       "      <td>1219</td>\n",
       "      <td>Complete Genome</td>\n",
       "      <td>ftp://ftp.ncbi.nlm.nih.gov/genomes/all/GCF/000...</td>\n",
       "    </tr>\n",
       "  </tbody>\n",
       "</table>\n",
       "</div>"
      ],
      "text/plain": [
       "  assembly_accession                                      organism_name  \\\n",
       "0    GCF_000018585.1              Prochlorococcus marinus str. MIT 9211   \n",
       "1    GCF_000007925.1  Prochlorococcus marinus subsp. marinus str. CC...   \n",
       "2    GCF_000011465.1  Prochlorococcus marinus subsp. pastoris str. C...   \n",
       "3    GCF_000011485.1              Prochlorococcus marinus str. MIT 9313   \n",
       "4    GCF_000012465.1                Prochlorococcus marinus str. NATL2A   \n",
       "\n",
       "    taxid  species_taxid   assembly_level  \\\n",
       "0   93059           1219       Chromosome   \n",
       "1  167539           1219  Complete Genome   \n",
       "2   59919           1219  Complete Genome   \n",
       "3   74547           1219  Complete Genome   \n",
       "4   59920           1219  Complete Genome   \n",
       "\n",
       "                                            ftp_path  \n",
       "0  ftp://ftp.ncbi.nlm.nih.gov/genomes/all/GCF/000...  \n",
       "1  ftp://ftp.ncbi.nlm.nih.gov/genomes/all/GCF/000...  \n",
       "2  ftp://ftp.ncbi.nlm.nih.gov/genomes/all/GCF/000...  \n",
       "3  ftp://ftp.ncbi.nlm.nih.gov/genomes/all/GCF/000...  \n",
       "4  ftp://ftp.ncbi.nlm.nih.gov/genomes/all/GCF/000...  "
      ]
     },
     "execution_count": 90,
     "metadata": {},
     "output_type": "execute_result"
    }
   ],
   "source": [
    "df.head()"
   ]
  },
  {
   "cell_type": "code",
   "execution_count": 103,
   "id": "ca30d0ce",
   "metadata": {},
   "outputs": [
    {
     "name": "stdout",
     "output_type": "stream",
     "text": [
      "SUCCESS : ftp://ftp.ncbi.nlm.nih.gov/genomes/all/GCF/000/018/585/GCF_000018585.1_ASM1858v1/GCF_000018585.1_ASM1858v1_protein.faa.gz\n",
      "SUCCESS : ftp://ftp.ncbi.nlm.nih.gov/genomes/all/GCF/000/007/925/GCF_000007925.1_ASM792v1/GCF_000007925.1_ASM792v1_protein.faa.gz\n",
      "SUCCESS : ftp://ftp.ncbi.nlm.nih.gov/genomes/all/GCF/000/011/465/GCF_000011465.1_ASM1146v1/GCF_000011465.1_ASM1146v1_protein.faa.gz\n",
      "SUCCESS : ftp://ftp.ncbi.nlm.nih.gov/genomes/all/GCF/000/011/485/GCF_000011485.1_ASM1148v1/GCF_000011485.1_ASM1148v1_protein.faa.gz\n",
      "SUCCESS : ftp://ftp.ncbi.nlm.nih.gov/genomes/all/GCF/000/012/465/GCF_000012465.1_ASM1246v1/GCF_000012465.1_ASM1246v1_protein.faa.gz\n",
      "SUCCESS : ftp://ftp.ncbi.nlm.nih.gov/genomes/all/GCF/000/012/645/GCF_000012645.1_ASM1264v1/GCF_000012645.1_ASM1264v1_protein.faa.gz\n",
      "SUCCESS : ftp://ftp.ncbi.nlm.nih.gov/genomes/all/GCF/000/015/645/GCF_000015645.1_ASM1564v1/GCF_000015645.1_ASM1564v1_protein.faa.gz\n",
      "SUCCESS : ftp://ftp.ncbi.nlm.nih.gov/genomes/all/GCF/000/015/665/GCF_000015665.1_ASM1566v1/GCF_000015665.1_ASM1566v1_protein.faa.gz\n",
      "NEXT TRY of ftp://ftp.ncbi.nlm.nih.gov/genomes/all/GCF/000/893/775/GCF_000893775.1_ViralProj70005/GCF_000893775.1_ViralProj70005_protein.faa.gz attempt 0\n",
      "NEXT TRY of ftp://ftp.ncbi.nlm.nih.gov/genomes/all/GCF/000/893/775/GCF_000893775.1_ViralProj70005/GCF_000893775.1_ViralProj70005_protein.faa.gz attempt 1\n",
      "NEXT TRY of ftp://ftp.ncbi.nlm.nih.gov/genomes/all/GCF/000/893/775/GCF_000893775.1_ViralProj70005/GCF_000893775.1_ViralProj70005_protein.faa.gz attempt 2\n",
      "SKIPPED DOWNLOADING\n",
      "NEXT TRY of ftp://ftp.ncbi.nlm.nih.gov/genomes/all/GCF/000/893/775/GCF_000893775.1_ViralProj70005/GCF_000893775.1_ViralProj70005_protein.faa.gz attempt 3\n",
      "NEXT TRY of ftp://ftp.ncbi.nlm.nih.gov/genomes/all/GCF/000/893/775/GCF_000893775.1_ViralProj70005/GCF_000893775.1_ViralProj70005_protein.faa.gz attempt 4\n",
      "NEXT TRY of ftp://ftp.ncbi.nlm.nih.gov/genomes/all/GCF/000/893/775/GCF_000893775.1_ViralProj70005/GCF_000893775.1_ViralProj70005_protein.faa.gz attempt 5\n",
      "NEXT TRY of ftp://ftp.ncbi.nlm.nih.gov/genomes/all/GCF/000/893/775/GCF_000893775.1_ViralProj70005/GCF_000893775.1_ViralProj70005_protein.faa.gz attempt 6\n",
      "NEXT TRY of ftp://ftp.ncbi.nlm.nih.gov/genomes/all/GCF/000/893/775/GCF_000893775.1_ViralProj70005/GCF_000893775.1_ViralProj70005_protein.faa.gz attempt 7\n",
      "NEXT TRY of ftp://ftp.ncbi.nlm.nih.gov/genomes/all/GCF/000/893/775/GCF_000893775.1_ViralProj70005/GCF_000893775.1_ViralProj70005_protein.faa.gz attempt 8\n",
      "NEXT TRY of ftp://ftp.ncbi.nlm.nih.gov/genomes/all/GCF/000/893/775/GCF_000893775.1_ViralProj70005/GCF_000893775.1_ViralProj70005_protein.faa.gz attempt 9\n"
     ]
    }
   ],
   "source": [
    "transform_ftp_path = lambda file: file.split('/')[-1].rstrip(file[-3:])\n",
    "\n",
    "for file in df['ftp_path']:\n",
    "    if(os.path.isfile(transform_ftp_path(file)) == True):\n",
    "        print(\"File Exists\")\n",
    "    else:\n",
    "        for attempt in range(10):\n",
    "\n",
    "            try:\n",
    "                proc = subprocess.Popen(\"wget -qO- {} | gzip -d > {}\".format(file,transform_ftp_path(file)),shell=True)\n",
    "                returncode = proc.wait(timeout=500)\n",
    "                if(returncode != 0):\n",
    "                    #sleep(2)\n",
    "                    raise Exception\n",
    "            except Exception:\n",
    "                print(\"NEXT TRY of {} attempt {}\".format(file,attempt))\n",
    "                if(attempt == 2):\n",
    "                    if(os.path.isfile(transform_ftp_path(file))):\n",
    "                        os.remove(transform_ftp_path(file))\n",
    "                    print(\"SKIPPED DOWNLOADING\")\n",
    "            else:\n",
    "                print(\"SUCCESS : {}\".format(file))\n",
    "                break"
   ]
  },
  {
   "cell_type": "code",
   "execution_count": 104,
   "id": "committed-capitol",
   "metadata": {},
   "outputs": [],
   "source": [
    "dict_df = df[['ftp_path','taxid']][0:8]"
   ]
  },
  {
   "cell_type": "code",
   "execution_count": 105,
   "id": "better-calendar",
   "metadata": {},
   "outputs": [
    {
     "data": {
      "text/html": [
       "<div>\n",
       "<style scoped>\n",
       "    .dataframe tbody tr th:only-of-type {\n",
       "        vertical-align: middle;\n",
       "    }\n",
       "\n",
       "    .dataframe tbody tr th {\n",
       "        vertical-align: top;\n",
       "    }\n",
       "\n",
       "    .dataframe thead th {\n",
       "        text-align: right;\n",
       "    }\n",
       "</style>\n",
       "<table border=\"1\" class=\"dataframe\">\n",
       "  <thead>\n",
       "    <tr style=\"text-align: right;\">\n",
       "      <th></th>\n",
       "      <th>ftp_path</th>\n",
       "      <th>taxid</th>\n",
       "    </tr>\n",
       "  </thead>\n",
       "  <tbody>\n",
       "    <tr>\n",
       "      <th>0</th>\n",
       "      <td>ftp://ftp.ncbi.nlm.nih.gov/genomes/all/GCF/000...</td>\n",
       "      <td>93059</td>\n",
       "    </tr>\n",
       "    <tr>\n",
       "      <th>1</th>\n",
       "      <td>ftp://ftp.ncbi.nlm.nih.gov/genomes/all/GCF/000...</td>\n",
       "      <td>167539</td>\n",
       "    </tr>\n",
       "    <tr>\n",
       "      <th>2</th>\n",
       "      <td>ftp://ftp.ncbi.nlm.nih.gov/genomes/all/GCF/000...</td>\n",
       "      <td>59919</td>\n",
       "    </tr>\n",
       "    <tr>\n",
       "      <th>3</th>\n",
       "      <td>ftp://ftp.ncbi.nlm.nih.gov/genomes/all/GCF/000...</td>\n",
       "      <td>74547</td>\n",
       "    </tr>\n",
       "    <tr>\n",
       "      <th>4</th>\n",
       "      <td>ftp://ftp.ncbi.nlm.nih.gov/genomes/all/GCF/000...</td>\n",
       "      <td>59920</td>\n",
       "    </tr>\n",
       "    <tr>\n",
       "      <th>5</th>\n",
       "      <td>ftp://ftp.ncbi.nlm.nih.gov/genomes/all/GCF/000...</td>\n",
       "      <td>74546</td>\n",
       "    </tr>\n",
       "    <tr>\n",
       "      <th>6</th>\n",
       "      <td>ftp://ftp.ncbi.nlm.nih.gov/genomes/all/GCF/000...</td>\n",
       "      <td>146891</td>\n",
       "    </tr>\n",
       "    <tr>\n",
       "      <th>7</th>\n",
       "      <td>ftp://ftp.ncbi.nlm.nih.gov/genomes/all/GCF/000...</td>\n",
       "      <td>167542</td>\n",
       "    </tr>\n",
       "  </tbody>\n",
       "</table>\n",
       "</div>"
      ],
      "text/plain": [
       "                                            ftp_path   taxid\n",
       "0  ftp://ftp.ncbi.nlm.nih.gov/genomes/all/GCF/000...   93059\n",
       "1  ftp://ftp.ncbi.nlm.nih.gov/genomes/all/GCF/000...  167539\n",
       "2  ftp://ftp.ncbi.nlm.nih.gov/genomes/all/GCF/000...   59919\n",
       "3  ftp://ftp.ncbi.nlm.nih.gov/genomes/all/GCF/000...   74547\n",
       "4  ftp://ftp.ncbi.nlm.nih.gov/genomes/all/GCF/000...   59920\n",
       "5  ftp://ftp.ncbi.nlm.nih.gov/genomes/all/GCF/000...   74546\n",
       "6  ftp://ftp.ncbi.nlm.nih.gov/genomes/all/GCF/000...  146891\n",
       "7  ftp://ftp.ncbi.nlm.nih.gov/genomes/all/GCF/000...  167542"
      ]
     },
     "execution_count": 105,
     "metadata": {},
     "output_type": "execute_result"
    }
   ],
   "source": [
    "dict_df"
   ]
  },
  {
   "cell_type": "code",
   "execution_count": 107,
   "id": "natural-simulation",
   "metadata": {},
   "outputs": [],
   "source": [
    "tdict = {}\n",
    "for ftp_path, taxid in zip(df['ftp_path'],df['taxid']):\n",
    "    tdict[ftp_path] = taxid"
   ]
  },
  {
   "cell_type": "code",
   "execution_count": 110,
   "id": "radio-coral",
   "metadata": {},
   "outputs": [
    {
     "data": {
      "text/html": [
       "<div>\n",
       "<style scoped>\n",
       "    .dataframe tbody tr th:only-of-type {\n",
       "        vertical-align: middle;\n",
       "    }\n",
       "\n",
       "    .dataframe tbody tr th {\n",
       "        vertical-align: top;\n",
       "    }\n",
       "\n",
       "    .dataframe thead th {\n",
       "        text-align: right;\n",
       "    }\n",
       "</style>\n",
       "<table border=\"1\" class=\"dataframe\">\n",
       "  <thead>\n",
       "    <tr style=\"text-align: right;\">\n",
       "      <th></th>\n",
       "      <th>ftp_path</th>\n",
       "      <th>taxid</th>\n",
       "    </tr>\n",
       "  </thead>\n",
       "  <tbody>\n",
       "    <tr>\n",
       "      <th>0</th>\n",
       "      <td>ftp://ftp.ncbi.nlm.nih.gov/genomes/all/GCF/000...</td>\n",
       "      <td>93059</td>\n",
       "    </tr>\n",
       "    <tr>\n",
       "      <th>1</th>\n",
       "      <td>ftp://ftp.ncbi.nlm.nih.gov/genomes/all/GCF/000...</td>\n",
       "      <td>167539</td>\n",
       "    </tr>\n",
       "    <tr>\n",
       "      <th>2</th>\n",
       "      <td>ftp://ftp.ncbi.nlm.nih.gov/genomes/all/GCF/000...</td>\n",
       "      <td>59919</td>\n",
       "    </tr>\n",
       "    <tr>\n",
       "      <th>3</th>\n",
       "      <td>ftp://ftp.ncbi.nlm.nih.gov/genomes/all/GCF/000...</td>\n",
       "      <td>74547</td>\n",
       "    </tr>\n",
       "    <tr>\n",
       "      <th>4</th>\n",
       "      <td>ftp://ftp.ncbi.nlm.nih.gov/genomes/all/GCF/000...</td>\n",
       "      <td>59920</td>\n",
       "    </tr>\n",
       "    <tr>\n",
       "      <th>5</th>\n",
       "      <td>ftp://ftp.ncbi.nlm.nih.gov/genomes/all/GCF/000...</td>\n",
       "      <td>74546</td>\n",
       "    </tr>\n",
       "    <tr>\n",
       "      <th>6</th>\n",
       "      <td>ftp://ftp.ncbi.nlm.nih.gov/genomes/all/GCF/000...</td>\n",
       "      <td>146891</td>\n",
       "    </tr>\n",
       "    <tr>\n",
       "      <th>7</th>\n",
       "      <td>ftp://ftp.ncbi.nlm.nih.gov/genomes/all/GCF/000...</td>\n",
       "      <td>167542</td>\n",
       "    </tr>\n",
       "    <tr>\n",
       "      <th>8</th>\n",
       "      <td>ftp://ftp.ncbi.nlm.nih.gov/genomes/all/GCF/000...</td>\n",
       "      <td>19381</td>\n",
       "    </tr>\n",
       "  </tbody>\n",
       "</table>\n",
       "</div>"
      ],
      "text/plain": [
       "                                            ftp_path   taxid\n",
       "0  ftp://ftp.ncbi.nlm.nih.gov/genomes/all/GCF/000...   93059\n",
       "1  ftp://ftp.ncbi.nlm.nih.gov/genomes/all/GCF/000...  167539\n",
       "2  ftp://ftp.ncbi.nlm.nih.gov/genomes/all/GCF/000...   59919\n",
       "3  ftp://ftp.ncbi.nlm.nih.gov/genomes/all/GCF/000...   74547\n",
       "4  ftp://ftp.ncbi.nlm.nih.gov/genomes/all/GCF/000...   59920\n",
       "5  ftp://ftp.ncbi.nlm.nih.gov/genomes/all/GCF/000...   74546\n",
       "6  ftp://ftp.ncbi.nlm.nih.gov/genomes/all/GCF/000...  146891\n",
       "7  ftp://ftp.ncbi.nlm.nih.gov/genomes/all/GCF/000...  167542\n",
       "8  ftp://ftp.ncbi.nlm.nih.gov/genomes/all/GCF/000...   19381"
      ]
     },
     "execution_count": 110,
     "metadata": {},
     "output_type": "execute_result"
    }
   ],
   "source": [
    "pd.DataFrame(tdict.items(), columns=['ftp_path', 'taxid'])"
   ]
  },
  {
   "cell_type": "code",
   "execution_count": 35,
   "id": "subsequent-report",
   "metadata": {},
   "outputs": [
    {
     "name": "stdout",
     "output_type": "stream",
     "text": [
      "ftp://ftp.ncbi.nlm.nih.gov/genomes/all/GCF/000/018/585/GCF_000018585.1_ASM1858v1/GCF_000018585.1_ASM1858v1_protein.faa.gz\n"
     ]
    }
   ],
   "source": [
    "print(df.head()['ftp_path'][0:1][0])"
   ]
  },
  {
   "cell_type": "code",
   "execution_count": 37,
   "id": "motivated-retention",
   "metadata": {},
   "outputs": [
    {
     "name": "stdout",
     "output_type": "stream",
     "text": [
      "ftp://ftp.ncbi.nlm.nih.gov/genomes/all/GCF/000/018/585/GCF_000018585.1_ASM1858v1/GCF_000018585.1_ASM1858v1_protein.faa.gz\n"
     ]
    }
   ],
   "source": [
    "print(df_new['ftp_path'][0:1][0])"
   ]
  },
  {
   "cell_type": "code",
   "execution_count": 83,
   "id": "bf20b705",
   "metadata": {},
   "outputs": [],
   "source": [
    "#NEW\n",
    "def create_chunks_of_databases(df,path_to_database):\n",
    "    total_formatted = 0\n",
    "    chunk = 1\n",
    "    chunks = []\n",
    "    \n",
    "    \n",
    "    iteration_steps = 500\n",
    "    if round(len(df['ftp_path'])/iteration_steps) > 35:\n",
    "        iteration_steps = round(len(df['ftp_path'])/35)\n",
    "    \n",
    "    print(\"set iteration steps to : {}\".format(iteration_steps))\n",
    "    while total_formatted < len(df['ftp_path']):\n",
    "        iteration_end = total_formatted + iteration_steps\n",
    "        if(iteration_end > len(df['ftp_path'])):\n",
    "            iteration_end = len(df['ftp_path'])\n",
    "\n",
    "        print(\"looping from {} to {}\".format(total_formatted,iteration_end))\n",
    "        \n",
    "        if(os.path.isfile(path_to_database+\"acc_taxmap_file_{}.table\".format(chunk)) == True and \n",
    "          os.path.isfile(path_to_database+\"database_chunk_{}.faa\".format(chunk)) == True):\n",
    "            print(\"Skipping chunk creation, database exists\")\n",
    "            #previous format process of assemblies : df['ftp_path'][total_formatted:iteration_end]\n",
    "            total_formatted = iteration_end\n",
    "            chunks.append(chunk)\n",
    "            chunk += 1\n",
    "        else:\n",
    "            acc_to_tax = open(path_to_database+\"acc_taxmap_file_{}.table\".format(chunk),'w')\n",
    "            database_chunk = open(path_to_database+\"database_chunk_{}.faa\".format(chunk),'w')\n",
    "\n",
    "            for ftp_path,taxid in zip(df['ftp_path'][total_formatted:iteration_end],df['taxid'][total_formatted:iteration_end]):\n",
    "                assembly_name = transform_ftp_path(ftp_path)\n",
    "                print('\\tworking with {}'.format(assembly_name))\n",
    "\n",
    "                fasta_header = '_'.join(assembly_name.split('_')[0:3])\n",
    "                genome_file = open(path_to_database+assembly_name,'r')\n",
    "\n",
    "                lines = genome_file.readlines()\n",
    "                genome_file.close()\n",
    "                os.remove(assembly_name)\n",
    "\n",
    "                for line in lines:\n",
    "                    if line[0] == \">\":\n",
    "                        split = line.split(\" \")\n",
    "                        header = ' '.join(split[1:])\n",
    "                        acc_to_tax.write(split[0].split(\">\")[1]+\"\\t\"+str(taxid)+\"\\n\")\n",
    "                        line = split[0]+\"_\"+fasta_header+' '+header\n",
    "                    database_chunk.write(line)\n",
    "\n",
    "                total_formatted += 1\n",
    "\n",
    "            print(\"\\tdone writing database chunk {}\".format(chunk))\n",
    "            database_chunk.close()\n",
    "            chunks.append(chunk)\n",
    "            chunk += 1\n",
    "            acc_to_tax.close()\n",
    "    return chunks"
   ]
  },
  {
   "cell_type": "code",
   "execution_count": 95,
   "id": "timely-exhibition",
   "metadata": {},
   "outputs": [
    {
     "name": "stdout",
     "output_type": "stream",
     "text": [
      "set iteration steps to : 2\n",
      "looping from 0 to 2\n",
      "\tworking with GCF_000018585.1_ASM1858v1_protein.faa\n",
      "\tworking with GCF_000007925.1_ASM792v1_protein.faa\n",
      "\tdone writing database chunk 1\n",
      "looping from 2 to 4\n",
      "\tworking with GCF_000011465.1_ASM1146v1_protein.faa\n",
      "\tworking with GCF_000011485.1_ASM1148v1_protein.faa\n",
      "\tdone writing database chunk 2\n",
      "looping from 4 to 6\n",
      "\tworking with GCF_000012465.1_ASM1246v1_protein.faa\n",
      "\tworking with GCF_000012645.1_ASM1264v1_protein.faa\n",
      "\tdone writing database chunk 3\n",
      "looping from 6 to 8\n",
      "\tworking with GCF_000015645.1_ASM1564v1_protein.faa\n",
      "\tworking with GCF_000015665.1_ASM1566v1_protein.faa\n",
      "\tdone writing database chunk 4\n"
     ]
    }
   ],
   "source": [
    "chunks = create_chunks_of_databases(dict_df,\"./\")"
   ]
  },
  {
   "cell_type": "code",
   "execution_count": 112,
   "id": "5a5baab1",
   "metadata": {},
   "outputs": [
    {
     "data": {
      "text/plain": [
       "0    ftp://ftp.ncbi.nlm.nih.gov/genomes/all/GCF/000...\n",
       "1    ftp://ftp.ncbi.nlm.nih.gov/genomes/all/GCF/000...\n",
       "2    ftp://ftp.ncbi.nlm.nih.gov/genomes/all/GCF/000...\n",
       "3    ftp://ftp.ncbi.nlm.nih.gov/genomes/all/GCF/000...\n",
       "4    ftp://ftp.ncbi.nlm.nih.gov/genomes/all/GCF/000...\n",
       "5    ftp://ftp.ncbi.nlm.nih.gov/genomes/all/GCF/000...\n",
       "6    ftp://ftp.ncbi.nlm.nih.gov/genomes/all/GCF/000...\n",
       "7    ftp://ftp.ncbi.nlm.nih.gov/genomes/all/GCF/000...\n",
       "8    ftp://ftp.ncbi.nlm.nih.gov/genomes/all/GCF/000...\n",
       "Name: ftp_path, dtype: object"
      ]
     },
     "execution_count": 112,
     "metadata": {},
     "output_type": "execute_result"
    }
   ],
   "source": [
    "transform_ftp_path = lambda file: file.split('/')[-1].rstrip(file[-3:])\n",
    "df['ftp_path']"
   ]
  },
  {
   "cell_type": "code",
   "execution_count": 97,
   "id": "0146cb1f",
   "metadata": {},
   "outputs": [],
   "source": [
    "def format_blast_databases(path_to_database,chunks):\n",
    "    errorlist=[]\n",
    "    available_databases=[]\n",
    "    for chunk in chunks:\n",
    "        database = path_to_database + \"database_chunk_{}.faa\".format(chunk)\n",
    "        taxonomic_mapfile = path_to_database + \"acc_taxmap_file_{}.table\".format(chunk)\n",
    "        proc = subprocess.Popen([\"makeblastdb\",\"-in\",database,\n",
    "                                 '-dbtype','prot',\n",
    "                                 '-taxid_map',taxonomic_mapfile,\n",
    "                                 '-parse_seqids',\n",
    "                                 '-out',database,'-blastdb_version','5'])\n",
    "        returncode = proc.wait(timeout=500)\n",
    "        if(returncode != 0):\n",
    "            print(\"ERROR during database creation of chunk {}\".format(chunk))\n",
    "            errorlist.append(chunk)\n",
    "        else:\n",
    "            available_databases.append(database)\n",
    "    return available_databases,errorlist\n",
    "    #makeblastdb -in {} -dbtype prot -out {} -taxid {}"
   ]
  },
  {
   "cell_type": "code",
   "execution_count": 101,
   "id": "legendary-score",
   "metadata": {},
   "outputs": [],
   "source": [
    "def write_alias_file(alias_filename,available_databases):\n",
    "    #logger.info('starting to write database alias file : {}'.format(alias_filename))\n",
    "    alias_file = open(alias_filename,'w')\n",
    "    alias_file.write(\"TITLE {}\\n\".format('CYANOBACTERIA_COMPLETE_GENOME_AND_CHROMOSOME.database'))\n",
    "    alias_file.write(\"DBLIST\")\n",
    "    for database_file in available_databases:\n",
    "        alias_file.write(\" \\\"\"+database_file+\"\\\"\")\n",
    "    alias_file.write(\"\\n\")\n",
    "    alias_file.close()\n",
    "        "
   ]
  },
  {
   "cell_type": "code",
   "execution_count": 102,
   "id": "visible-newman",
   "metadata": {},
   "outputs": [],
   "source": [
    "write_alias_file('CYANOBACTERIA_COMPLETE_GENOME_AND_CHROMOSOME.database.pal',res[0])"
   ]
  },
  {
   "cell_type": "code",
   "execution_count": 51,
   "id": "fd6f3eae",
   "metadata": {},
   "outputs": [
    {
     "name": "stdout",
     "output_type": "stream",
     "text": [
      "GCF_000018585.1_ASM1858v1_protein.faa\n",
      "GCF_000007925.1_ASM792v1_protein.faa\n",
      "GCF_000011465.1_ASM1146v1_protein.faa\n",
      "GCF_000011485.1_ASM1148v1_protein.faa\n",
      "GCF_000012465.1_ASM1246v1_protein.faa\n",
      "GCF_000012645.1_ASM1264v1_protein.faa\n",
      "GCF_000015645.1_ASM1564v1_protein.faa\n",
      "GCF_000015665.1_ASM1566v1_protein.faa\n"
     ]
    }
   ],
   "source": [
    "#OLD\n",
    "acc_to_tax = open(\"acc_taxmap_file.table\",\"w\")\n",
    "\n",
    "for file,taxid in zip(df['ftp_path'],df['taxid']):\n",
    "    assembly_name = transform_ftp_path(file)\n",
    "    print('\\tworking with {}'.format(assembly_name))\n",
    "    fasta_header = '_'.join(assembly_name.split('_')[0:3])\n",
    "    genome_file = open(assembly_name,'r')\n",
    "    lines = genome_file.readlines()\n",
    "    genome_file.close()\n",
    "    os.remove(assembly_name)\n",
    "    output=open(assembly_name,\"w\")\n",
    "    \n",
    "    for line in lines:\n",
    "        if line[0] == \">\":\n",
    "            split = line.split(\" \")\n",
    "            header = ' '.join(split[1:])\n",
    "            acc_to_tax.write(split[0].split(\">\")[1]+\"\\t\"+str(taxid)+\"\\n\")\n",
    "            line = split[0]+\"_\"+fasta_header+' '+header\n",
    "        output.write(line)\n",
    "    output.close()\n",
    "    \n",
    "acc_to_tax.close()\n",
    "    #file = open(\"GCF_000018585.1_ASM1858v1_protein.faa\"):"
   ]
  }
 ],
 "metadata": {
  "kernelspec": {
   "display_name": "Python 3",
   "language": "python",
   "name": "python3"
  },
  "language_info": {
   "codemirror_mode": {
    "name": "ipython",
    "version": 3
   },
   "file_extension": ".py",
   "mimetype": "text/x-python",
   "name": "python",
   "nbconvert_exporter": "python",
   "pygments_lexer": "ipython3",
   "version": "3.8.8"
  }
 },
 "nbformat": 4,
 "nbformat_minor": 5
}
