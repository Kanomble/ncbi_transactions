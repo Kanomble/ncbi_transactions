{
 "cells": [
  {
   "cell_type": "code",
   "execution_count": 35,
   "id": "a5233f7f",
   "metadata": {},
   "outputs": [],
   "source": [
    "import os \n",
    "import subprocess\n",
    "import pandas as pd\n",
    "from time import sleep\n",
    "import re"
   ]
  },
  {
   "cell_type": "code",
   "execution_count": 7,
   "id": "3035addb",
   "metadata": {},
   "outputs": [],
   "source": [
    "df = pd.read_csv(\"ALL_COMPLETE_GENOME_AND_CHROMOSOME\",index_col=0)"
   ]
  },
  {
   "cell_type": "code",
   "execution_count": 24,
   "id": "2318dd16",
   "metadata": {},
   "outputs": [
    {
     "name": "stdout",
     "output_type": "stream",
     "text": [
      "ftp://ftp.ncbi.nlm.nih.gov/genomes/all/GCF/000/001/215/GCF_000001215.4_Release_6_plus_ISO1_MT/GCF_000001215.4_Release_6_plus_ISO1_MT_protein.faa.gz 7227\n",
      "ftp://ftp.ncbi.nlm.nih.gov/genomes/all/GCF/000/001/405/GCF_000001405.39_GRCh38.p13/GCF_000001405.39_GRCh38.p13_protein.faa.gz 9606\n"
     ]
    }
   ],
   "source": [
    "for ftp_path,taxid in zip(df['ftp_path'][0:2],df['taxid'][0:2]):\n",
    "    print(ftp_path, taxid)"
   ]
  },
  {
   "cell_type": "code",
   "execution_count": 37,
   "id": "882a1492",
   "metadata": {},
   "outputs": [
    {
     "data": {
      "text/plain": [
       "1038"
      ]
     },
     "execution_count": 37,
     "metadata": {},
     "output_type": "execute_result"
    }
   ],
   "source": [
    "total = 36338\n",
    "\n",
    "round(total/35)"
   ]
  },
  {
   "cell_type": "code",
   "execution_count": 22,
   "id": "f15e6077",
   "metadata": {},
   "outputs": [
    {
     "name": "stdout",
     "output_type": "stream",
     "text": [
      "looping from 0 to 1000\n",
      "looping from 1000 to 2000\n",
      "looping from 2000 to 3000\n",
      "looping from 3000 to 4000\n",
      "looping from 4000 to 5000\n",
      "looping from 5000 to 6000\n",
      "looping from 6000 to 7000\n",
      "looping from 7000 to 8000\n",
      "looping from 8000 to 9000\n",
      "looping from 9000 to 10000\n",
      "looping from 10000 to 11000\n",
      "looping from 11000 to 12000\n",
      "looping from 12000 to 13000\n",
      "looping from 13000 to 14000\n",
      "looping from 14000 to 15000\n",
      "looping from 15000 to 16000\n",
      "looping from 16000 to 17000\n",
      "looping from 17000 to 18000\n",
      "looping from 18000 to 19000\n",
      "looping from 19000 to 20000\n",
      "looping from 20000 to 21000\n",
      "looping from 21000 to 22000\n",
      "looping from 22000 to 23000\n",
      "looping from 23000 to 24000\n",
      "looping from 24000 to 25000\n",
      "looping from 25000 to 26000\n",
      "looping from 26000 to 27000\n",
      "looping from 27000 to 28000\n",
      "looping from 28000 to 29000\n",
      "looping from 29000 to 30000\n",
      "looping from 30000 to 31000\n",
      "looping from 31000 to 32000\n",
      "looping from 32000 to 33000\n",
      "looping from 33000 to 34000\n",
      "looping from 34000 to 35000\n",
      "looping from 35000 to 36000\n",
      "looping from 36000 to 36338\n"
     ]
    }
   ],
   "source": [
    "total_formatted = 0\n",
    "while total_formatted != len(df['ftp_path']):\n",
    "    iteration_end = total_formatted + 100\n",
    "    if(iteration_end > len(df['ftp_path'])):\n",
    "        iteration_end = len(df['ftp_path'])\n",
    "    print(\"looping from {} to {}\".format(total_formatted,iteration_end))\n",
    "    for ftp_path,taxid in zip(df['ftp_path'][total_formatted:iteration_end],df['taxid'][total_formatted:iteration_end]):\n",
    "        total_formatted += 1"
   ]
  },
  {
   "cell_type": "code",
   "execution_count": 16,
   "id": "976b0f3e",
   "metadata": {},
   "outputs": [
    {
     "data": {
      "text/plain": [
       "36338"
      ]
     },
     "execution_count": 16,
     "metadata": {},
     "output_type": "execute_result"
    }
   ],
   "source": [
    "check"
   ]
  },
  {
   "cell_type": "code",
   "execution_count": 18,
   "id": "c8a3c2a3",
   "metadata": {},
   "outputs": [
    {
     "data": {
      "text/plain": [
       "36338"
      ]
     },
     "execution_count": 18,
     "metadata": {},
     "output_type": "execute_result"
    }
   ],
   "source": [
    "len(df['ftp_path'])"
   ]
  },
  {
   "cell_type": "code",
   "execution_count": 14,
   "id": "cc8ad366",
   "metadata": {},
   "outputs": [
    {
     "name": "stdout",
     "output_type": "stream",
     "text": [
      "ftp://ftp.ncbi.nlm.nih.gov/genomes/all/GCF/000/001/215/GCF_000001215.4_Release_6_plus_ISO1_MT/GCF_000001215.4_Release_6_plus_ISO1_MT_protein.faa.gz\n",
      "ftp://ftp.ncbi.nlm.nih.gov/genomes/all/GCF/000/001/405/GCF_000001405.39_GRCh38.p13/GCF_000001405.39_GRCh38.p13_protein.faa.gz\n"
     ]
    }
   ],
   "source": [
    "for i in df['ftp_path'][0:2]:\n",
    "    print(i)"
   ]
  },
  {
   "cell_type": "code",
   "execution_count": 25,
   "id": "407839ae",
   "metadata": {},
   "outputs": [],
   "source": [
    "df = pd.read_csv(\"CYANOBACTERIA_COMPLETE_GENOME_AND_CHROMOSOME\",index_col=0)"
   ]
  },
  {
   "cell_type": "code",
   "execution_count": 26,
   "id": "aef26208",
   "metadata": {},
   "outputs": [
    {
     "data": {
      "text/html": [
       "<div>\n",
       "<style scoped>\n",
       "    .dataframe tbody tr th:only-of-type {\n",
       "        vertical-align: middle;\n",
       "    }\n",
       "\n",
       "    .dataframe tbody tr th {\n",
       "        vertical-align: top;\n",
       "    }\n",
       "\n",
       "    .dataframe thead th {\n",
       "        text-align: right;\n",
       "    }\n",
       "</style>\n",
       "<table border=\"1\" class=\"dataframe\">\n",
       "  <thead>\n",
       "    <tr style=\"text-align: right;\">\n",
       "      <th></th>\n",
       "      <th>assembly_accession</th>\n",
       "      <th>organism_name</th>\n",
       "      <th>taxid</th>\n",
       "      <th>species_taxid</th>\n",
       "      <th>assembly_level</th>\n",
       "      <th>ftp_path</th>\n",
       "    </tr>\n",
       "  </thead>\n",
       "  <tbody>\n",
       "    <tr>\n",
       "      <th>0</th>\n",
       "      <td>GCF_000018585.1</td>\n",
       "      <td>Prochlorococcus marinus str. MIT 9211</td>\n",
       "      <td>93059</td>\n",
       "      <td>1219</td>\n",
       "      <td>Chromosome</td>\n",
       "      <td>ftp://ftp.ncbi.nlm.nih.gov/genomes/all/GCF/000...</td>\n",
       "    </tr>\n",
       "    <tr>\n",
       "      <th>1</th>\n",
       "      <td>GCF_000007925.1</td>\n",
       "      <td>Prochlorococcus marinus subsp. marinus str. CC...</td>\n",
       "      <td>167539</td>\n",
       "      <td>1219</td>\n",
       "      <td>Complete Genome</td>\n",
       "      <td>ftp://ftp.ncbi.nlm.nih.gov/genomes/all/GCF/000...</td>\n",
       "    </tr>\n",
       "    <tr>\n",
       "      <th>2</th>\n",
       "      <td>GCF_000011465.1</td>\n",
       "      <td>Prochlorococcus marinus subsp. pastoris str. C...</td>\n",
       "      <td>59919</td>\n",
       "      <td>1219</td>\n",
       "      <td>Complete Genome</td>\n",
       "      <td>ftp://ftp.ncbi.nlm.nih.gov/genomes/all/GCF/000...</td>\n",
       "    </tr>\n",
       "    <tr>\n",
       "      <th>3</th>\n",
       "      <td>GCF_000011485.1</td>\n",
       "      <td>Prochlorococcus marinus str. MIT 9313</td>\n",
       "      <td>74547</td>\n",
       "      <td>1219</td>\n",
       "      <td>Complete Genome</td>\n",
       "      <td>ftp://ftp.ncbi.nlm.nih.gov/genomes/all/GCF/000...</td>\n",
       "    </tr>\n",
       "    <tr>\n",
       "      <th>4</th>\n",
       "      <td>GCF_000012465.1</td>\n",
       "      <td>Prochlorococcus marinus str. NATL2A</td>\n",
       "      <td>59920</td>\n",
       "      <td>1219</td>\n",
       "      <td>Complete Genome</td>\n",
       "      <td>ftp://ftp.ncbi.nlm.nih.gov/genomes/all/GCF/000...</td>\n",
       "    </tr>\n",
       "  </tbody>\n",
       "</table>\n",
       "</div>"
      ],
      "text/plain": [
       "  assembly_accession                                      organism_name  \\\n",
       "0    GCF_000018585.1              Prochlorococcus marinus str. MIT 9211   \n",
       "1    GCF_000007925.1  Prochlorococcus marinus subsp. marinus str. CC...   \n",
       "2    GCF_000011465.1  Prochlorococcus marinus subsp. pastoris str. C...   \n",
       "3    GCF_000011485.1              Prochlorococcus marinus str. MIT 9313   \n",
       "4    GCF_000012465.1                Prochlorococcus marinus str. NATL2A   \n",
       "\n",
       "    taxid  species_taxid   assembly_level  \\\n",
       "0   93059           1219       Chromosome   \n",
       "1  167539           1219  Complete Genome   \n",
       "2   59919           1219  Complete Genome   \n",
       "3   74547           1219  Complete Genome   \n",
       "4   59920           1219  Complete Genome   \n",
       "\n",
       "                                            ftp_path  \n",
       "0  ftp://ftp.ncbi.nlm.nih.gov/genomes/all/GCF/000...  \n",
       "1  ftp://ftp.ncbi.nlm.nih.gov/genomes/all/GCF/000...  \n",
       "2  ftp://ftp.ncbi.nlm.nih.gov/genomes/all/GCF/000...  \n",
       "3  ftp://ftp.ncbi.nlm.nih.gov/genomes/all/GCF/000...  \n",
       "4  ftp://ftp.ncbi.nlm.nih.gov/genomes/all/GCF/000...  "
      ]
     },
     "execution_count": 26,
     "metadata": {},
     "output_type": "execute_result"
    }
   ],
   "source": [
    "df.head()"
   ]
  },
  {
   "cell_type": "code",
   "execution_count": 32,
   "id": "ca30d0ce",
   "metadata": {},
   "outputs": [
    {
     "name": "stdout",
     "output_type": "stream",
     "text": [
      "SUCCESS : ftp://ftp.ncbi.nlm.nih.gov/genomes/all/GCF/000/018/585/GCF_000018585.1_ASM1858v1/GCF_000018585.1_ASM1858v1_protein.faa.gz\n",
      "SUCCESS : ftp://ftp.ncbi.nlm.nih.gov/genomes/all/GCF/000/007/925/GCF_000007925.1_ASM792v1/GCF_000007925.1_ASM792v1_protein.faa.gz\n",
      "SUCCESS : ftp://ftp.ncbi.nlm.nih.gov/genomes/all/GCF/000/011/465/GCF_000011465.1_ASM1146v1/GCF_000011465.1_ASM1146v1_protein.faa.gz\n",
      "SUCCESS : ftp://ftp.ncbi.nlm.nih.gov/genomes/all/GCF/000/011/485/GCF_000011485.1_ASM1148v1/GCF_000011485.1_ASM1148v1_protein.faa.gz\n",
      "SUCCESS : ftp://ftp.ncbi.nlm.nih.gov/genomes/all/GCF/000/012/465/GCF_000012465.1_ASM1246v1/GCF_000012465.1_ASM1246v1_protein.faa.gz\n",
      "SUCCESS : ftp://ftp.ncbi.nlm.nih.gov/genomes/all/GCF/000/012/645/GCF_000012645.1_ASM1264v1/GCF_000012645.1_ASM1264v1_protein.faa.gz\n",
      "SUCCESS : ftp://ftp.ncbi.nlm.nih.gov/genomes/all/GCF/000/015/645/GCF_000015645.1_ASM1564v1/GCF_000015645.1_ASM1564v1_protein.faa.gz\n",
      "SUCCESS : ftp://ftp.ncbi.nlm.nih.gov/genomes/all/GCF/000/015/665/GCF_000015665.1_ASM1566v1/GCF_000015665.1_ASM1566v1_protein.faa.gz\n"
     ]
    }
   ],
   "source": [
    "transform_ftp_path = lambda file: file.split('/')[-1].rstrip(file[-3:])\n",
    "\n",
    "for file in df['ftp_path']:\n",
    "    for attempt in range(10):\n",
    "        try:\n",
    "            proc = subprocess.Popen(\"wget -qO- {} | gzip -d > {}\".format(file,transform_ftp_path(file)),shell=True)\n",
    "            returncode = proc.wait(timeout=500)\n",
    "            if(returncode != 0):\n",
    "                sleep(2)\n",
    "                raise Exception\n",
    "        except Exception:\n",
    "            print(\"NEXT TRY of {} attempt {}\".format(file,attempt))\n",
    "            if(attempt == 9):\n",
    "                print(\"SKIPPED DOWNLOADING\")\n",
    "        else:\n",
    "            print(\"SUCCESS : {}\".format(file))\n",
    "            break\n",
    "    "
   ]
  },
  {
   "cell_type": "code",
   "execution_count": 33,
   "id": "bf20b705",
   "metadata": {},
   "outputs": [
    {
     "name": "stdout",
     "output_type": "stream",
     "text": [
      "looping from 0 to 2\n",
      "\tworking with GCF_000018585.1_ASM1858v1_protein.faa\n",
      "\tworking with GCF_000007925.1_ASM792v1_protein.faa\n",
      "\tdone writing database chunk 1\n",
      "looping from 2 to 4\n",
      "\tworking with GCF_000011465.1_ASM1146v1_protein.faa\n",
      "\tworking with GCF_000011485.1_ASM1148v1_protein.faa\n",
      "\tdone writing database chunk 2\n",
      "looping from 4 to 6\n",
      "\tworking with GCF_000012465.1_ASM1246v1_protein.faa\n",
      "\tworking with GCF_000012645.1_ASM1264v1_protein.faa\n",
      "\tdone writing database chunk 3\n",
      "looping from 6 to 8\n",
      "\tworking with GCF_000015645.1_ASM1564v1_protein.faa\n",
      "\tworking with GCF_000015665.1_ASM1566v1_protein.faa\n",
      "\tdone writing database chunk 4\n"
     ]
    }
   ],
   "source": [
    "#NEW\n",
    "total_formatted = 0\n",
    "chunk = 1\n",
    "chunks = []\n",
    "\n",
    "iteration_steps = 500\n",
    "if round(len(df['ftp_path'])/iteration_steps) > 35:\n",
    "    iteration_steps = round(len(df['ftp_path'])/35)\n",
    "\n",
    "while total_formatted != len(df['ftp_path']):\n",
    "    iteration_end = total_formatted + 500\n",
    "    if(iteration_end > len(df['ftp_path'])):\n",
    "        iteration_end = len(df['ftp_path'])\n",
    "        \n",
    "    print(\"looping from {} to {}\".format(total_formatted,iteration_end))\n",
    "    \n",
    "    acc_to_tax = open(\"acc_taxmap_file_{}.table\".format(chunk),\"w\")\n",
    "    database_chunk = open(\"database_chunk_{}.faa\".format(chunk),\"w\")\n",
    "    \n",
    "    for ftp_path,taxid in zip(df['ftp_path'][total_formatted:iteration_end],df['taxid'][total_formatted:iteration_end]):\n",
    "        assembly_name = transform_ftp_path(ftp_path)\n",
    "        print('\\tworking with {}'.format(assembly_name))\n",
    "        \n",
    "        fasta_header = '_'.join(assembly_name.split('_')[0:3])\n",
    "        genome_file = open(assembly_name,'r')\n",
    "        \n",
    "        lines = genome_file.readlines()\n",
    "        genome_file.close()\n",
    "        os.remove(assembly_name)\n",
    "\n",
    "        for line in lines:\n",
    "            if line[0] == \">\":\n",
    "                split = line.split(\" \")\n",
    "                header = ' '.join(split[1:])\n",
    "                acc_to_tax.write(split[0].split(\">\")[1]+\"\\t\"+str(taxid)+\"\\n\")\n",
    "                line = split[0]+\"_\"+fasta_header+' '+header\n",
    "            database_chunk.write(line)\n",
    "        \n",
    "        total_formatted += 1\n",
    "    \n",
    "    print(\"\\tdone writing database chunk {}\".format(chunk))\n",
    "    database_chunk.close()\n",
    "    chunks.append(chunk)\n",
    "    chunk += 1\n",
    "    acc_to_tax.close()"
   ]
  },
  {
   "cell_type": "code",
   "execution_count": 38,
   "id": "5a5baab1",
   "metadata": {},
   "outputs": [
    {
     "data": {
      "text/plain": [
       "[1, 2, 3, 4]"
      ]
     },
     "execution_count": 38,
     "metadata": {},
     "output_type": "execute_result"
    }
   ],
   "source": [
    "chunks"
   ]
  },
  {
   "cell_type": "code",
   "execution_count": 40,
   "id": "0146cb1f",
   "metadata": {},
   "outputs": [],
   "source": [
    "errorlist=[]\n",
    "for chunk in chunks:\n",
    "    database = \"database_chunk_{}.faa\".format(chunk)\n",
    "    taxonomic_mapfile = \"acc_taxmap_file_{}.table\".format(chunk)\n",
    "    proc = subprocess.Popen([\"makeblastdb\",\"-in\",database,\n",
    "                             '-dbtype','prot',\n",
    "                             '-taxid_map',taxonomic_mapfile,\n",
    "                             '-parse_seqids','-blastdb_version','5'])\n",
    "    returncode = proc.wait(timeout=500)\n",
    "    if(returncode != 0):\n",
    "        print(\"ERROR during database creation of chunk {}\".format(chunk))\n",
    "        errorlist.append(chunk)\n",
    "    #makeblastdb -in {} -dbtype prot -out {} -taxid {}"
   ]
  },
  {
   "cell_type": "code",
   "execution_count": 51,
   "id": "fd6f3eae",
   "metadata": {},
   "outputs": [
    {
     "name": "stdout",
     "output_type": "stream",
     "text": [
      "GCF_000018585.1_ASM1858v1_protein.faa\n",
      "GCF_000007925.1_ASM792v1_protein.faa\n",
      "GCF_000011465.1_ASM1146v1_protein.faa\n",
      "GCF_000011485.1_ASM1148v1_protein.faa\n",
      "GCF_000012465.1_ASM1246v1_protein.faa\n",
      "GCF_000012645.1_ASM1264v1_protein.faa\n",
      "GCF_000015645.1_ASM1564v1_protein.faa\n",
      "GCF_000015665.1_ASM1566v1_protein.faa\n"
     ]
    }
   ],
   "source": [
    "#OLD\n",
    "acc_to_tax = open(\"acc_taxmap_file.table\",\"w\")\n",
    "\n",
    "for file,taxid in zip(df['ftp_path'],df['taxid']):\n",
    "    assembly_name = transform_ftp_path(file)\n",
    "    print('\\tworking with {}'.format(assembly_name))\n",
    "    fasta_header = '_'.join(assembly_name.split('_')[0:3])\n",
    "    genome_file = open(assembly_name,'r')\n",
    "    lines = genome_file.readlines()\n",
    "    genome_file.close()\n",
    "    os.remove(assembly_name)\n",
    "    output=open(assembly_name,\"w\")\n",
    "    \n",
    "    for line in lines:\n",
    "        if line[0] == \">\":\n",
    "            split = line.split(\" \")\n",
    "            header = ' '.join(split[1:])\n",
    "            acc_to_tax.write(split[0].split(\">\")[1]+\"\\t\"+str(taxid)+\"\\n\")\n",
    "            line = split[0]+\"_\"+fasta_header+' '+header\n",
    "        output.write(line)\n",
    "    output.close()\n",
    "    \n",
    "acc_to_tax.close()\n",
    "    #file = open(\"GCF_000018585.1_ASM1858v1_protein.faa\"):"
   ]
  }
 ],
 "metadata": {
  "kernelspec": {
   "display_name": "Python 3",
   "language": "python",
   "name": "python3"
  },
  "language_info": {
   "codemirror_mode": {
    "name": "ipython",
    "version": 3
   },
   "file_extension": ".py",
   "mimetype": "text/x-python",
   "name": "python",
   "nbconvert_exporter": "python",
   "pygments_lexer": "ipython3",
   "version": "3.8.8"
  }
 },
 "nbformat": 4,
 "nbformat_minor": 5
}
