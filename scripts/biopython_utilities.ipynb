{
 "cells": [
  {
   "cell_type": "code",
   "execution_count": 1,
   "id": "personal-digit",
   "metadata": {},
   "outputs": [],
   "source": [
    "from Bio import Entrez\n",
    "Entrez.email = 'lukas.becker@hhu.de'"
   ]
  },
  {
   "cell_type": "code",
   "execution_count": 2,
   "id": "worthy-focus",
   "metadata": {},
   "outputs": [],
   "source": [
    "query_fasta_file = '../data/curvibacter_rec_blasts/eps_operon_vs_all_complete_chromosome/curvibacter_aep_eps_operon.faa'"
   ]
  },
  {
   "cell_type": "markdown",
   "id": "existing-jewel",
   "metadata": {},
   "source": [
    "# Biopython calls for identifying links to biological databases based on accession ids"
   ]
  },
  {
   "cell_type": "code",
   "execution_count": 3,
   "id": "electric-twist",
   "metadata": {},
   "outputs": [],
   "source": [
    "queries = open(query_fasta_file, 'r')\n",
    "lines = queries.readlines()\n",
    "queries.close()\n",
    "queries = []\n",
    "for line in lines:\n",
    "    if \">\" in line:\n",
    "        queries.append(line.split(\" \")[0].split(\".\")[0].split(\">\")[1])\n",
    "\n",
    "Entrez.email = 'lukas.becker@hhu.de'\n",
    "\n",
    "# print(path_to_queries,queries)\n",
    "handle = Entrez.efetch(db=\"protein\", id=queries, retmode=\"xml\")\n",
    "record = Entrez.read(handle)\n",
    "handle.close()\n",
    "\n",
    "prot_to_pfam = {'QUERIES': [], 'PFAM': {}, 'TIGR': {}, 'REFSEQ': {}, 'CDD': {}, 'Definition':{}, 'Length':{}}\n",
    "for i in range(len(record)):\n",
    "    prot_to_pfam['QUERIES'].append(record[i]['GBSeq_locus'])\n",
    "    prot_to_pfam['Definition'][record[i]['GBSeq_locus']] = record[i]['GBSeq_definition']\n",
    "    prot_to_pfam['Length'][record[i]['GBSeq_locus']] = record[i]['GBSeq_length']\n",
    "    # record[i]['GBSeq_locus']\n",
    "    pfam = 'http://pfam.xfam.org/family/'\n",
    "    jvci = 'https://www.ncbi.nlm.nih.gov/genome/annotation_prok/evidence/'\n",
    "    cdd = 'https://www.ncbi.nlm.nih.gov/Structure/sparcle/archview.html?archid='\n",
    "    refseq = 'https://www.ncbi.nlm.nih.gov/protein/' + str(record[i]['GBSeq_locus'])\n",
    "    prot_to_pfam['REFSEQ'][record[i]['GBSeq_locus']] = refseq\n",
    "    try:\n",
    "        if \"Domain architecture ID\" in record[i]['GBSeq_comment']:\n",
    "            cdd += record[i]['GBSeq_comment'].split('Domain architecture ID')[1].split(';')[0].strip()\n",
    "            # print(cdd)\n",
    "            prot_to_pfam['CDD'][record[i]['GBSeq_locus']] = cdd\n",
    "        if \"EMBL-EBI\" in record[i]['GBSeq_comment']:\n",
    "            pfam += record[i]['GBSeq_comment'].split(\"EMBL-EBI\")[1].split(\"::\")[1].split(\";\")[\n",
    "                0].strip().rstrip()\n",
    "            # prot_to_pfam.append((record[i]['GBSeq_locus'],pfam))\n",
    "            prot_to_pfam['PFAM'][record[i]['GBSeq_locus']] = pfam\n",
    "        if \"TIGR\" in record[i]['GBSeq_comment']:\n",
    "            jvci += 'TIGR' + record[i]['GBSeq_comment'].split(\"TIGR\")[1].split(\";\")[0].split(\".\")[\n",
    "                0].strip().rstrip()\n",
    "            # jvci += record[i]['GBSeq_comment'].split(\"JCVI\")[1].split(\"::\")[1].split(\";\")[0].strip().rstrip()\n",
    "            # prot_to_pfam.append((record[i]['GBSeq_locus'],jvci))\n",
    "            prot_to_pfam['TIGR'][record[i]['GBSeq_locus']] = jvci\n",
    "            # prot_to_pfam.append((record[i]['GBSeq_locus'], 'no entry found'))\n",
    "            # prot_to_pfam[record[i]['GBSeq_locus']] = \"no entry in pfam database\"\n",
    "            # print(record[i]['GBSeq_locus'], pfam)\n",
    "    except Exception as e:\n",
    "        continue\n",
    "    # print(record[i]['GBSeq_comment'])\n",
    "    # print(\"#############\")\n",
    "    # json.dumps"
   ]
  },
  {
   "cell_type": "code",
   "execution_count": 5,
   "id": "southwest-marijuana",
   "metadata": {},
   "outputs": [
    {
     "data": {
      "text/plain": [
       "{'WP_087496569': 'http://pfam.xfam.org/family/PF00348.19',\n",
       " 'WP_087496568': 'http://pfam.xfam.org/family/PF07589.13'}"
      ]
     },
     "execution_count": 5,
     "metadata": {},
     "output_type": "execute_result"
    }
   ],
   "source": [
    "prot_to_pfam['PFAM']"
   ]
  }
 ],
 "metadata": {
  "kernelspec": {
   "display_name": "Python 3",
   "language": "python",
   "name": "python3"
  },
  "language_info": {
   "codemirror_mode": {
    "name": "ipython",
    "version": 3
   },
   "file_extension": ".py",
   "mimetype": "text/x-python",
   "name": "python",
   "nbconvert_exporter": "python",
   "pygments_lexer": "ipython3",
   "version": "3.8.8"
  }
 },
 "nbformat": 4,
 "nbformat_minor": 5
}
