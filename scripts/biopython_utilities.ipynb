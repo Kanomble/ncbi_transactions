{
 "cells": [
  {
   "cell_type": "code",
   "execution_count": 1,
   "id": "personal-digit",
   "metadata": {},
   "outputs": [],
   "source": [
    "from Bio import Entrez\n",
    "Entrez.email = 'lukas.becker@hhu.de'"
   ]
  },
  {
   "cell_type": "code",
   "execution_count": 43,
   "id": "c644bfa0",
   "metadata": {},
   "outputs": [],
   "source": [
    "handle = Entrez.esearch(db=\"assembly\",term=\"Curvibacter\",retmode=\"xml\")\n",
    "record = Entrez.read(handle)\n",
    "handle.close()"
   ]
  },
  {
   "cell_type": "code",
   "execution_count": 44,
   "id": "2c957c65",
   "metadata": {},
   "outputs": [
    {
     "data": {
      "text/plain": [
       "{'Count': '28', 'RetMax': '20', 'RetStart': '0', 'IdList': ['10501171', '10449501', '10109261', '7805401', '7793981', '7787691', '7781621', '7743831', '7742251', '7740621', '7670861', '7553411', '7524191', '7368221', '2316721', '2316651', '2191521', '1960111', '1940331', '1369251'], 'TranslationSet': [{'From': 'Curvibacter', 'To': '\"Curvibacter\"[Organism]'}], 'TranslationStack': [{'Term': '\"Curvibacter\"[Organism]', 'Field': 'Organism', 'Count': '28', 'Explode': 'Y'}, 'GROUP'], 'QueryTranslation': '\"Curvibacter\"[Organism]'}"
      ]
     },
     "execution_count": 44,
     "metadata": {},
     "output_type": "execute_result"
    }
   ],
   "source": [
    "record #281915 == Curvibacter"
   ]
  },
  {
   "cell_type": "code",
   "execution_count": 45,
   "id": "8bc27315",
   "metadata": {},
   "outputs": [],
   "source": [
    "handle = Entrez.elink(dbfrom=\"assembly\",dbto=\"protein\",id=record['IdList'],retmode=\"xml\")\n",
    "record = Entrez.read(handle)\n",
    "handle.close()"
   ]
  },
  {
   "cell_type": "code",
   "execution_count": 46,
   "id": "65f458e7",
   "metadata": {},
   "outputs": [
    {
     "data": {
      "text/plain": [
       "[{'ERROR': [], 'LinkSetDb': [], 'LinkSetDbHistory': [], 'DbFrom': 'assembly', 'IdList': ['10501171']}, {'ERROR': [], 'LinkSetDb': [], 'LinkSetDbHistory': [], 'DbFrom': 'assembly', 'IdList': ['10449501']}, {'ERROR': [], 'LinkSetDb': [], 'LinkSetDbHistory': [], 'DbFrom': 'assembly', 'IdList': ['10109261']}, {'ERROR': [], 'LinkSetDb': [], 'LinkSetDbHistory': [], 'DbFrom': 'assembly', 'IdList': ['7805401']}, {'ERROR': [], 'LinkSetDb': [], 'LinkSetDbHistory': [], 'DbFrom': 'assembly', 'IdList': ['7793981']}, {'ERROR': [], 'LinkSetDb': [], 'LinkSetDbHistory': [], 'DbFrom': 'assembly', 'IdList': ['7787691']}, {'ERROR': [], 'LinkSetDb': [], 'LinkSetDbHistory': [], 'DbFrom': 'assembly', 'IdList': ['7781621']}, {'ERROR': [], 'LinkSetDb': [], 'LinkSetDbHistory': [], 'DbFrom': 'assembly', 'IdList': ['7743831']}, {'ERROR': [], 'LinkSetDb': [], 'LinkSetDbHistory': [], 'DbFrom': 'assembly', 'IdList': ['7742251']}, {'ERROR': [], 'LinkSetDb': [], 'LinkSetDbHistory': [], 'DbFrom': 'assembly', 'IdList': ['7740621']}, {'ERROR': [], 'LinkSetDb': [], 'LinkSetDbHistory': [], 'DbFrom': 'assembly', 'IdList': ['7670861']}, {'ERROR': [], 'LinkSetDb': [], 'LinkSetDbHistory': [], 'DbFrom': 'assembly', 'IdList': ['7553411']}, {'ERROR': [], 'LinkSetDb': [], 'LinkSetDbHistory': [], 'DbFrom': 'assembly', 'IdList': ['7524191']}, {'ERROR': [], 'LinkSetDb': [], 'LinkSetDbHistory': [], 'DbFrom': 'assembly', 'IdList': ['7368221']}, {'ERROR': [], 'LinkSetDb': [], 'LinkSetDbHistory': [], 'DbFrom': 'assembly', 'IdList': ['2316721']}, {'ERROR': [], 'LinkSetDb': [], 'LinkSetDbHistory': [], 'DbFrom': 'assembly', 'IdList': ['2316651']}, {'ERROR': [], 'LinkSetDb': [], 'LinkSetDbHistory': [], 'DbFrom': 'assembly', 'IdList': ['2191521']}, {'ERROR': [], 'LinkSetDb': [{'Link': [{'Id': '30148503'}], 'DbTo': 'pubmed', 'LinkName': 'assembly_pubmed'}], 'LinkSetDbHistory': [], 'DbFrom': 'assembly', 'IdList': ['1960111']}, {'ERROR': [], 'LinkSetDb': [{'Link': [{'Id': '30148503'}], 'DbTo': 'pubmed', 'LinkName': 'assembly_pubmed'}], 'LinkSetDbHistory': [], 'DbFrom': 'assembly', 'IdList': ['1940331']}, {'ERROR': [], 'LinkSetDb': [], 'LinkSetDbHistory': [], 'DbFrom': 'assembly', 'IdList': ['1369251']}]"
      ]
     },
     "execution_count": 46,
     "metadata": {},
     "output_type": "execute_result"
    }
   ],
   "source": [
    "record"
   ]
  },
  {
   "cell_type": "code",
   "execution_count": 30,
   "id": "0647afc9",
   "metadata": {},
   "outputs": [
    {
     "name": "stdout",
     "output_type": "stream",
     "text": [
      "Help on function elink in module Bio.Entrez:\n",
      "\n",
      "elink(**keywds)\n",
      "    Check for linked external articles and return a handle.\n",
      "    \n",
      "    ELink checks for the existence of an external or Related Articles link\n",
      "    from a list of one or more primary IDs;  retrieves IDs and relevancy\n",
      "    scores for links to Entrez databases or Related Articles; creates a\n",
      "    hyperlink to the primary LinkOut provider for a specific ID and\n",
      "    database, or lists LinkOut URLs and attributes for multiple IDs.\n",
      "    \n",
      "    See the online documentation for an explanation of the parameters:\n",
      "    http://www.ncbi.nlm.nih.gov/books/NBK25499/#chapter4.ELink\n",
      "    \n",
      "    Return a handle to the results, by default in XML format.\n",
      "    \n",
      "    Raises an IOError exception if there's a network error.\n",
      "    \n",
      "    This example finds articles related to the Biopython application\n",
      "    note's entry in the PubMed database:\n",
      "    \n",
      "    >>> from Bio import Entrez\n",
      "    >>> Entrez.email = \"Your.Name.Here@example.org\"\n",
      "    >>> pmid = \"19304878\"\n",
      "    >>> handle = Entrez.elink(dbfrom=\"pubmed\", id=pmid, linkname=\"pubmed_pubmed\")\n",
      "    >>> record = Entrez.read(handle)\n",
      "    >>> handle.close()\n",
      "    >>> print(record[0][\"LinkSetDb\"][0][\"LinkName\"])\n",
      "    pubmed_pubmed\n",
      "    >>> linked = [link[\"Id\"] for link in record[0][\"LinkSetDb\"][0][\"Link\"]]\n",
      "    >>> \"17121776\" in linked\n",
      "    True\n",
      "    \n",
      "    This is explained in much more detail in the Biopython Tutorial.\n",
      "\n"
     ]
    }
   ],
   "source": [
    "help(Entrez.elink)"
   ]
  },
  {
   "cell_type": "code",
   "execution_count": 37,
   "id": "666f5211",
   "metadata": {},
   "outputs": [],
   "source": [
    "handle = Entrez.elink(dbfrom=\"taxonomy\",dbto=\"assembly\",id=[\"281915\"],linkname=\"taxonomy_assembly\")\n",
    "record = Entrez.read(handle)\n",
    "handle.close()"
   ]
  },
  {
   "cell_type": "code",
   "execution_count": 38,
   "id": "37b948c1",
   "metadata": {},
   "outputs": [
    {
     "data": {
      "text/plain": [
       "[{'ERROR': [], 'LinkSetDb': [], 'LinkSetDbHistory': [], 'DbFrom': 'taxonomy', 'IdList': ['281915']}]"
      ]
     },
     "execution_count": 38,
     "metadata": {},
     "output_type": "execute_result"
    }
   ],
   "source": [
    "record"
   ]
  },
  {
   "cell_type": "code",
   "execution_count": 47,
   "id": "6d1fc10c",
   "metadata": {},
   "outputs": [
    {
     "ename": "IndexError",
     "evalue": "list index out of range",
     "output_type": "error",
     "traceback": [
      "\u001b[0;31m---------------------------------------------------------------------------\u001b[0m",
      "\u001b[0;31mIndexError\u001b[0m                                Traceback (most recent call last)",
      "\u001b[0;32m/tmp/ipykernel_112/1401147070.py\u001b[0m in \u001b[0;36m<module>\u001b[0;34m\u001b[0m\n\u001b[0;32m----> 1\u001b[0;31m \u001b[0mlinked\u001b[0m \u001b[0;34m=\u001b[0m \u001b[0;34m[\u001b[0m\u001b[0mlink\u001b[0m\u001b[0;34m[\u001b[0m\u001b[0;34m\"Id\"\u001b[0m\u001b[0;34m]\u001b[0m \u001b[0;32mfor\u001b[0m \u001b[0mlink\u001b[0m \u001b[0;32min\u001b[0m \u001b[0mrecord\u001b[0m\u001b[0;34m[\u001b[0m\u001b[0;36m0\u001b[0m\u001b[0;34m]\u001b[0m\u001b[0;34m[\u001b[0m\u001b[0;34m\"LinkSetDb\"\u001b[0m\u001b[0;34m]\u001b[0m\u001b[0;34m[\u001b[0m\u001b[0;36m0\u001b[0m\u001b[0;34m]\u001b[0m\u001b[0;34m[\u001b[0m\u001b[0;34m\"Link\"\u001b[0m\u001b[0;34m]\u001b[0m\u001b[0;34m]\u001b[0m\u001b[0;34m\u001b[0m\u001b[0;34m\u001b[0m\u001b[0m\n\u001b[0m",
      "\u001b[0;31mIndexError\u001b[0m: list index out of range"
     ]
    }
   ],
   "source": [
    "linked = [link[\"Id\"] for link in record[0][\"LinkSetDb\"][0][\"Link\"]]"
   ]
  },
  {
   "cell_type": "code",
   "execution_count": 16,
   "id": "2f796ded",
   "metadata": {},
   "outputs": [
    {
     "data": {
      "text/plain": [
       "1"
      ]
     },
     "execution_count": 16,
     "metadata": {},
     "output_type": "execute_result"
    }
   ],
   "source": [
    "len(linked)"
   ]
  },
  {
   "cell_type": "code",
   "execution_count": 17,
   "id": "93e7ab69",
   "metadata": {},
   "outputs": [
    {
     "data": {
      "text/plain": [
       "['15545462']"
      ]
     },
     "execution_count": 17,
     "metadata": {},
     "output_type": "execute_result"
    }
   ],
   "source": [
    "linked"
   ]
  },
  {
   "cell_type": "code",
   "execution_count": 18,
   "id": "9614a2c6",
   "metadata": {},
   "outputs": [],
   "source": [
    "handle = Entrez.efetch(db=\"assembly\",id=linked,retmode=\"xml\")\n",
    "record = Entrez.read(handle)\n",
    "handle.close()"
   ]
  },
  {
   "cell_type": "code",
   "execution_count": 19,
   "id": "e96cc183",
   "metadata": {},
   "outputs": [
    {
     "data": {
      "text/plain": [
       "['15545462']"
      ]
     },
     "execution_count": 19,
     "metadata": {},
     "output_type": "execute_result"
    }
   ],
   "source": [
    "record"
   ]
  },
  {
   "cell_type": "code",
   "execution_count": null,
   "id": "electric-twist",
   "metadata": {},
   "outputs": [],
   "source": [
    "queries = open(query_fasta_file, 'r')\n",
    "lines = queries.readlines()\n",
    "queries.close()\n",
    "queries = []\n",
    "for line in lines:\n",
    "    if \">\" in line:\n",
    "        queries.append(line.split(\" \")[0].split(\".\")[0].split(\">\")[1])\n",
    "\n",
    "Entrez.email = 'lukas.becker@hhu.de'\n",
    "\n",
    "# print(path_to_queries,queries)\n",
    "handle = Entrez.efetch(db=\"protein\", id=queries, retmode=\"xml\")\n",
    "record = Entrez.read(handle)\n",
    "handle.close()\n",
    "\n",
    "prot_to_pfam = {'QUERIES': [], 'PFAM': {}, 'TIGR': {}, 'REFSEQ': {}, 'CDD': {}, 'Definition':{}, 'Length':{}}\n",
    "for i in range(len(record)):\n",
    "    prot_to_pfam['QUERIES'].append(record[i]['GBSeq_locus'])\n",
    "    prot_to_pfam['Definition'][record[i]['GBSeq_locus']] = record[i]['GBSeq_definition']\n",
    "    prot_to_pfam['Length'][record[i]['GBSeq_locus']] = record[i]['GBSeq_length']\n",
    "    # record[i]['GBSeq_locus']\n",
    "    pfam = 'http://pfam.xfam.org/family/'\n",
    "    jvci = 'https://www.ncbi.nlm.nih.gov/genome/annotation_prok/evidence/'\n",
    "    cdd = 'https://www.ncbi.nlm.nih.gov/Structure/sparcle/archview.html?archid='\n",
    "    refseq = 'https://www.ncbi.nlm.nih.gov/protein/' + str(record[i]['GBSeq_locus'])\n",
    "    prot_to_pfam['REFSEQ'][record[i]['GBSeq_locus']] = refseq\n",
    "    try:\n",
    "        if \"Domain architecture ID\" in record[i]['GBSeq_comment']:\n",
    "            cdd += record[i]['GBSeq_comment'].split('Domain architecture ID')[1].split(';')[0].strip()\n",
    "            # print(cdd)\n",
    "            prot_to_pfam['CDD'][record[i]['GBSeq_locus']] = cdd\n",
    "        if \"EMBL-EBI\" in record[i]['GBSeq_comment']:\n",
    "            pfam += record[i]['GBSeq_comment'].split(\"EMBL-EBI\")[1].split(\"::\")[1].split(\";\")[\n",
    "                0].strip().rstrip()\n",
    "            # prot_to_pfam.append((record[i]['GBSeq_locus'],pfam))\n",
    "            prot_to_pfam['PFAM'][record[i]['GBSeq_locus']] = pfam\n",
    "        if \"TIGR\" in record[i]['GBSeq_comment']:\n",
    "            jvci += 'TIGR' + record[i]['GBSeq_comment'].split(\"TIGR\")[1].split(\";\")[0].split(\".\")[\n",
    "                0].strip().rstrip()\n",
    "            # jvci += record[i]['GBSeq_comment'].split(\"JCVI\")[1].split(\"::\")[1].split(\";\")[0].strip().rstrip()\n",
    "            # prot_to_pfam.append((record[i]['GBSeq_locus'],jvci))\n",
    "            prot_to_pfam['TIGR'][record[i]['GBSeq_locus']] = jvci\n",
    "            # prot_to_pfam.append((record[i]['GBSeq_locus'], 'no entry found'))\n",
    "            # prot_to_pfam[record[i]['GBSeq_locus']] = \"no entry in pfam database\"\n",
    "            # print(record[i]['GBSeq_locus'], pfam)\n",
    "    except Exception as e:\n",
    "        continue\n",
    "    # print(record[i]['GBSeq_comment'])\n",
    "    # print(\"#############\")\n",
    "    # json.dumps"
   ]
  },
  {
   "cell_type": "code",
   "execution_count": 5,
   "id": "southwest-marijuana",
   "metadata": {},
   "outputs": [
    {
     "data": {
      "text/plain": [
       "{'WP_087496569': 'http://pfam.xfam.org/family/PF00348.19',\n",
       " 'WP_087496568': 'http://pfam.xfam.org/family/PF07589.13'}"
      ]
     },
     "execution_count": 5,
     "metadata": {},
     "output_type": "execute_result"
    }
   ],
   "source": [
    "prot_to_pfam['PFAM']"
   ]
  }
 ],
 "metadata": {
  "kernelspec": {
   "display_name": "Python 3 (ipykernel)",
   "language": "python",
   "name": "python3"
  },
  "language_info": {
   "codemirror_mode": {
    "name": "ipython",
    "version": 3
   },
   "file_extension": ".py",
   "mimetype": "text/x-python",
   "name": "python",
   "nbconvert_exporter": "python",
   "pygments_lexer": "ipython3",
   "version": "3.8.11"
  }
 },
 "nbformat": 4,
 "nbformat_minor": 5
}
