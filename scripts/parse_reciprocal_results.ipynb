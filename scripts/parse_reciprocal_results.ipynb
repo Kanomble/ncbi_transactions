{
 "cells": [
  {
   "cell_type": "code",
   "execution_count": null,
   "id": "afaaa077",
   "metadata": {},
   "outputs": [],
   "source": [
    "from Bio import Entrez\n",
    "import matplotlib.pyplot as plt\n",
    "import matplotlib._color_data as mcd\n",
    "import pandas as pd\n",
    "import math\n",
    "import random\n",
    "Entrez.email = \"lukas.becker@hhu.de\"\n",
    "overlap = [name for name in mcd.CSS4_COLORS]\n",
    "overlap.remove(\"lightgrey\")"
   ]
  },
  {
   "cell_type": "code",
   "execution_count": null,
   "id": "suited-director",
   "metadata": {},
   "outputs": [],
   "source": [
    "reciprocal_best_hits_file = \"\"\n",
    "blastp_fw_table = \"\"\n",
    "query_file = \"\""
   ]
  },
  {
   "cell_type": "code",
   "execution_count": null,
   "id": "b792a86d",
   "metadata": {},
   "outputs": [],
   "source": [
    "rec_prot=pd.read_table(reciprocal_best_hits_file)\n",
    "fw_res=pd.read_table(blastp_fw_table,header=None)\n",
    "fw_res.columns=[\"qseqid\", \"sseqid\", \"evalue\", \"bitscore\", \"qgi\", \"sgi\", \"sacc\", \"staxids\", \"sscinames\", \"scomnames\",\n",
    "                  \"stitle\"]\n",
    "\n",
    "fw_res['qseqid'] = fw_res['qseqid'].map(lambda line: line.split('.')[0])\n",
    "fw_res['sacc'] = fw_res['sacc'].map(lambda line: line.split('.')[0])\n",
    "rec_prot = rec_prot.rename(columns={\"forward_genome_id\": \"sacc\"})\n",
    "rec_prot = rec_prot.rename(columns={\"backward_genome_id\": \"qseqid\"})\n",
    "result_data = rec_prot.merge(fw_res,how='inner', on=['sacc','qseqid'])\n",
    "result_data = result_data.drop_duplicates('sacc', keep='first')"
   ]
  },
  {
   "cell_type": "code",
   "execution_count": null,
   "id": "43b35878",
   "metadata": {},
   "outputs": [],
   "source": [
    "result_data.head()"
   ]
  },
  {
   "cell_type": "code",
   "execution_count": null,
   "id": "7e5104ff",
   "metadata": {},
   "outputs": [],
   "source": [
    "queries = open(query_file,'r')\n",
    "lines = queries.readlines()\n",
    "queries.close()\n",
    "\n",
    "queries = []\n",
    "for line in lines:\n",
    "    if \">\" in line:\n",
    "        queries.append(line.split(\" \")[0].split(\".\")[0].split(\">\")[1])\n",
    "print(len(queries))"
   ]
  },
  {
   "cell_type": "code",
   "execution_count": null,
   "id": "6f161876",
   "metadata": {},
   "outputs": [],
   "source": [
    "accid_taxids={}\n",
    "for query in queries:\n",
    "    accid_taxids[query] = result_data[result_data['qseqid'] == query]"
   ]
  },
  {
   "cell_type": "code",
   "execution_count": null,
   "id": "60eb9f17",
   "metadata": {},
   "outputs": [],
   "source": [
    "accid_taxids[queries[0]].head()"
   ]
  },
  {
   "cell_type": "code",
   "execution_count": null,
   "id": "a7ce0dd2",
   "metadata": {},
   "outputs": [],
   "source": [
    "fig, axs = plt.subplots(math.floor(math.sqrt(len(queries))),math.ceil(math.sqrt(len(queries))), figsize=(15, 6), facecolor='w', edgecolor='k',constrained_layout=True)\n",
    "#fig.subplots_adjust(hspace = .5, wspace=.001)\n",
    "\n",
    "axs = axs.ravel()\n",
    "for ax in axs:\n",
    "    ax.set_axis_off()\n",
    "\n",
    "for i in range(len(queries)):\n",
    "    axs[i].set_axis_on()\n",
    "    axs[i].grid()\n",
    "    axs[i].set_facecolor(\"lightgrey\")\n",
    "    cl = overlap[random.randint(0,len(overlap)-1)]\n",
    "    axs[i].scatter(list(accid_taxids[queries[i]]['evalue']),range(len(accid_taxids[queries[i]]['evalue'])),color=cl)\n",
    "    axs[i].set_title(str(queries[i]))\n",
    "    axs[i].get_xaxis().set_visible(False)\n",
    "    axs[i].get_yaxis().set_visible(False)\n",
    "    axs[i].set_xlim(0, 0.001)\n",
    "    \n",
    "#matplotlib version 3.4 support supylabel and supxlabel ...\n",
    "fig.suptitle(\"E-Value distribution in target sequences\", fontsize=16)\n",
    "fig.supylabel(\"number of distinct taxids\")\n",
    "fig.supxlabel(\"amount of hits in backward genome\")\n",
    "\n",
    "#plt.savefig(\"../data/synechococcus_cellulose_candidates/evalue_distribution.png\",dpi=300)\n",
    "#fig.tight_layout()"
   ]
  },
  {
   "cell_type": "code",
   "execution_count": null,
   "id": "a0e6a5bd",
   "metadata": {
    "scrolled": false
   },
   "outputs": [],
   "source": [
    "fig, axs = plt.subplots(math.floor(math.sqrt(len(queries))),math.ceil(math.sqrt(len(queries))), figsize=(15, 6), facecolor='w', edgecolor='k',constrained_layout=True)\n",
    "#fig.subplots_adjust(hspace = .5, wspace=.001)\n",
    "\n",
    "axs = axs.ravel()\n",
    "for ax in axs:\n",
    "    ax.set_axis_off()\n",
    "\n",
    "for i in range(len(accid_taxids.keys())):\n",
    "    axs[i].set_axis_on()\n",
    "    hit_distribution = {}\n",
    "    for hit in accid_taxids[queries[i]]['staxids'].unique():\n",
    "        val = accid_taxids[queries[i]][accid_taxids[queries[i]]['staxids'] == hit]['qseqid'].count()\n",
    "        if val not in hit_distribution.keys():\n",
    "            hit_distribution[val] = 1\n",
    "        else:\n",
    "            hit_distribution[val] += 1\n",
    "    xvalues = []\n",
    "    yvalues = []\n",
    "    for key in sorted(hit_distribution.keys()):\n",
    "        xvalues.append(key)\n",
    "        yvalues.append(hit_distribution[key])\n",
    "    axs[i].grid()    \n",
    "    axs[i].bar(x=xvalues,height=yvalues,color=overlap[random.randint(0,len(overlap)-1)],width=0.8,edgecolor=\"black\")\n",
    "    axs[i].set_title(str(queries[i]))\n",
    "    #axs[i].get_xaxis().set_visible(False)\n",
    "    axs[i].set_xticks(range(1,max(list(hit_distribution.keys()))+1,1))\n",
    "    \n",
    "    if len(list(hit_distribution.keys())) >= 10:\n",
    "        axs[i].tick_params('x', labelrotation=45)\n",
    "    #axs[i].get_yaxis().set_visible(False)\n",
    "    \n",
    "fig.suptitle(\"amount of hits in distinct organisms per query\", fontsize=16)\n",
    "fig.supylabel(\"number of distinct taxids\")\n",
    "fig.supxlabel(\"amount of hits in backward genome\")\n",
    "#plt.savefig(\"../data/synechococcus_cellulose_candidates/hits_per_organism.png\",dpi=300)\n"
   ]
  },
  {
   "cell_type": "code",
   "execution_count": null,
   "id": "7d071349",
   "metadata": {},
   "outputs": [],
   "source": [
    "#single hits and multiple hits\n",
    "hit_distribution = {}\n",
    "for hit in accid_taxids[queries[13]]['staxids'].unique():\n",
    "    val = accid_taxids[queries[13]][accid_taxids[queries[13]]['staxids'] == hit]['qseqid'].count()\n",
    "    if val not in hit_distribution.keys():\n",
    "        hit_distribution[val] = 1\n",
    "    else:\n",
    "        hit_distribution[val] += 1\n",
    "        \n",
    "xvalues = []\n",
    "yvalues = []\n",
    "for key in sorted(hit_distribution.keys()):\n",
    "    xvalues.append(key)\n",
    "    yvalues.append(hit_distribution[key])"
   ]
  },
  {
   "cell_type": "code",
   "execution_count": null,
   "id": "a82a4408",
   "metadata": {},
   "outputs": [],
   "source": [
    "hit_distribution.values()"
   ]
  },
  {
   "cell_type": "code",
   "execution_count": null,
   "id": "ddb715c6",
   "metadata": {},
   "outputs": [],
   "source": [
    "plt.bar(x=xvalues,height=yvalues,color=overlap[random.randint(0,len(overlap)-1)])"
   ]
  }
 ],
 "metadata": {
  "kernelspec": {
   "display_name": "Python 3",
   "language": "python",
   "name": "python3"
  },
  "language_info": {
   "codemirror_mode": {
    "name": "ipython",
    "version": 3
   },
   "file_extension": ".py",
   "mimetype": "text/x-python",
   "name": "python",
   "nbconvert_exporter": "python",
   "pygments_lexer": "ipython3",
   "version": "3.8.8"
  }
 },
 "nbformat": 4,
 "nbformat_minor": 5
}
