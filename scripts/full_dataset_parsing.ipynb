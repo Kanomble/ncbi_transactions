{
 "cells": [
  {
   "cell_type": "code",
   "execution_count": 1,
   "id": "latin-background",
   "metadata": {},
   "outputs": [],
   "source": [
    "import pandas as pd\n",
    "import os"
   ]
  },
  {
   "cell_type": "code",
   "execution_count": 4,
   "id": "secure-truth",
   "metadata": {},
   "outputs": [],
   "source": [
    "target_folder = os.listdir('../data/curvibacter_rec_blasts')"
   ]
  },
  {
   "cell_type": "code",
   "execution_count": 5,
   "id": "promotional-abraham",
   "metadata": {},
   "outputs": [
    {
     "data": {
      "text/plain": [
       "['eps_operon_additional_genes_vs_all_complete_chromosome',\n",
       " 'eps_operon_vs_all_complete_chromosome',\n",
       " 'eps_operon_vs_burkholderiales_cyanobacteria',\n",
       " 'glycosyltransferases_vs_all_complete_chromosome',\n",
       " 'outer_membrane_proteins_vs_all_complete_chromosome']"
      ]
     },
     "execution_count": 5,
     "metadata": {},
     "output_type": "execute_result"
    }
   ],
   "source": [
    "dataframes = []\n",
    "for folder in target_folder:\n",
    "    filepath = '../data/'+folder+'/'\n",
    "    reciprocal_result_file = filepath + 'reciprocal_best_hits_protein_ids.txt'\n",
    "    "
   ]
  }
 ],
 "metadata": {
  "kernelspec": {
   "display_name": "Python 3",
   "language": "python",
   "name": "python3"
  },
  "language_info": {
   "codemirror_mode": {
    "name": "ipython",
    "version": 3
   },
   "file_extension": ".py",
   "mimetype": "text/x-python",
   "name": "python",
   "nbconvert_exporter": "python",
   "pygments_lexer": "ipython3",
   "version": "3.8.8"
  }
 },
 "nbformat": 4,
 "nbformat_minor": 5
}
