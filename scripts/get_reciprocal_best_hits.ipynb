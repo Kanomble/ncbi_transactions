{
 "cells": [
  {
   "cell_type": "code",
   "execution_count": 1,
   "id": "cooperative-dictionary",
   "metadata": {},
   "outputs": [
    {
     "data": {
      "text/plain": [
       "'\\nforward_df = pd.read_table(\\'blastp_fw_out.table\\',header=None)\\nforward_df[6] = forward_df[6].map(lambda line : line.split(\\'.\\')[0])\\nforward_df = pd.DataFrame([forward_df[0][:],forward_df[6][:]]).transpose()\\nfw_seqs = get_seq_match_dict_and_flat_list(forward_df)\\n\\nbackward_df = pd.read_table(\\'blastp_bw_out.table\\',header=None)\\nbackward_df[6] = backward_df[6].map(lambda line : line.split(\\'.\\')[0])\\nbackward_df = pd.DataFrame([backward_df[0][:],backward_df[6][:]]).transpose()\\nbw_seqs = get_seq_match_dict_and_flat_list(backward_df)\\nbest_hits = extract_reciprocal_best_hits_and_return_protein_ids(bw_seqs,fw_seqs)\\nout = open(\"reciprocal_best_hits.txt\",\\'w\\')\\nout.write(\\'forward_genome_id\\tbackward_genome_id\\n\\')\\nfor prot_id_pair in best_hits:\\n    out.write(str(prot_id_pair[0])+\\'\\t\\'+str(prot_id_pair[1][0])+\\'\\n\\')\\nout.close()\\n\\n'"
      ]
     },
     "execution_count": 1,
     "metadata": {},
     "output_type": "execute_result"
    }
   ],
   "source": [
    "import pandas as pd\n",
    "import numpy as np\n",
    "import itertools as it\n",
    "\n",
    "\n",
    "def get_seq_match_dict_and_flat_list(df):\n",
    "    #extract protein identifier for matches: key=protein identifier for forward_input_sequences\n",
    "    #and values=protein identifier for matches \n",
    "    seq_matches_dict = {}\n",
    "    for i in df[0].unique():\n",
    "        if \".\" in i:\n",
    "            key_id = i.split(\".\")[0]\n",
    "            seq_matches_dict[key_id] = list(set(df[df[0] == i][6]))\n",
    "        else:\n",
    "            seq_matches_dict[i] = list(set(df[df[0] == i][6]))\n",
    "\n",
    "    return seq_matches_dict\n",
    "\n",
    "def extract_reciprocal_best_hits_and_return_protein_ids(seq_matches_backward_dict,seq_matches_forward_dict):\n",
    "    result_set = []\n",
    "    for forward_key in seq_matches_forward_dict.keys():\n",
    "        for forward_value in seq_matches_forward_dict[forward_key]:\n",
    "            if forward_value in seq_matches_backward_dict.keys():\n",
    "                if forward_key in seq_matches_backward_dict[forward_value]:\n",
    "                    result_set.append([forward_value,seq_matches_backward_dict[forward_value]])\n",
    "    return result_set\n",
    "\n",
    "'''\n",
    "forward_df = pd.read_table('blastp_fw_out.table',header=None)\n",
    "forward_df[6] = forward_df[6].map(lambda line : line.split('.')[0])\n",
    "forward_df = pd.DataFrame([forward_df[0][:],forward_df[6][:]]).transpose()\n",
    "fw_seqs = get_seq_match_dict_and_flat_list(forward_df)\n",
    "\n",
    "backward_df = pd.read_table('blastp_bw_out.table',header=None)\n",
    "backward_df[6] = backward_df[6].map(lambda line : line.split('.')[0])\n",
    "backward_df = pd.DataFrame([backward_df[0][:],backward_df[6][:]]).transpose()\n",
    "bw_seqs = get_seq_match_dict_and_flat_list(backward_df)\n",
    "best_hits = extract_reciprocal_best_hits_and_return_protein_ids(bw_seqs,fw_seqs)\n",
    "out = open(\"reciprocal_best_hits.txt\",'w')\n",
    "out.write('forward_genome_id\\tbackward_genome_id\\n')\n",
    "for prot_id_pair in best_hits:\n",
    "    out.write(str(prot_id_pair[0])+'\\t'+str(prot_id_pair[1][0])+'\\n')\n",
    "out.close()\n",
    "\n",
    "'''\n"
   ]
  },
  {
   "cell_type": "code",
   "execution_count": 9,
   "id": "wrong-glossary",
   "metadata": {},
   "outputs": [
    {
     "data": {
      "text/plain": [
       "'\\nfor i in range(0, len(result_data), 1):\\n    taxids = result_data.iat[i, 7]\\n    scientific_names = result_data.iat[i, 8]\\n    common_names = result_data.iat[i, 9]\\n'"
      ]
     },
     "execution_count": 9,
     "metadata": {},
     "output_type": "execute_result"
    }
   ],
   "source": [
    "import pandas as pd\n",
    "\n",
    "rec_prot=pd.read_table(\"reciprocal_best_hits_protein_ids.txt\")\n",
    "fw_res=pd.read_table(\"blastp_fw_out.table\",header=None)\n",
    "fw_res.columns=[\"qseqid\", \"sseqid\", \"evalue\", \"bitscore\", \"qgi\", \"sgi\", \"sacc\", \"staxids\", \"sscinames\", \"scomnames\",\n",
    "                  \"stitle\"]\n",
    "\n",
    "fw_res['qseqid'] = fw_res['qseqid'].map(lambda line: line.split('.')[0])\n",
    "fw_res['sacc'] = fw_res['sacc'].map(lambda line: line.split('.')[0])\n",
    "rec_prot = rec_prot.rename(columns={\"forward_genome_id\": \"sacc\"})\n",
    "rec_prot = rec_prot.rename(columns={\"backward_genome_id\": \"qseqid\"})\n",
    "result_data = rec_prot.merge(fw_res,how='inner', on=['sacc','qseqid'])\n",
    "result_data = result_data.drop_duplicates('sacc', keep='first')\n",
    "#result_data = result_data.reset_index(drop=True)\n",
    "\n",
    "'''\n",
    "for i in range(0, len(result_data), 1):\n",
    "    taxids = result_data.iat[i, 7]\n",
    "    scientific_names = result_data.iat[i, 8]\n",
    "    common_names = result_data.iat[i, 9]\n",
    "'''\n"
   ]
  },
  {
   "cell_type": "code",
   "execution_count": 10,
   "id": "infinite-buddy",
   "metadata": {},
   "outputs": [
    {
     "data": {
      "text/plain": [
       "10344"
      ]
     },
     "execution_count": 10,
     "metadata": {},
     "output_type": "execute_result"
    }
   ],
   "source": [
    "len(result_data)"
   ]
  },
  {
   "cell_type": "code",
   "execution_count": 12,
   "id": "rising-russian",
   "metadata": {},
   "outputs": [
    {
     "data": {
      "text/plain": [
       "10344"
      ]
     },
     "execution_count": 12,
     "metadata": {},
     "output_type": "execute_result"
    }
   ],
   "source": [
    "len(result_data['sacc'].unique())"
   ]
  },
  {
   "cell_type": "code",
   "execution_count": 14,
   "id": "coordinate-insured",
   "metadata": {},
   "outputs": [
    {
     "data": {
      "text/plain": [
       "38"
      ]
     },
     "execution_count": 14,
     "metadata": {},
     "output_type": "execute_result"
    }
   ],
   "source": [
    "len(result_data['qseqid'].unique())"
   ]
  },
  {
   "cell_type": "code",
   "execution_count": 16,
   "id": "selected-metro",
   "metadata": {},
   "outputs": [
    {
     "data": {
      "text/plain": [
       "38"
      ]
     },
     "execution_count": 16,
     "metadata": {},
     "output_type": "execute_result"
    }
   ],
   "source": [
    "len(result_data[result_data['qseqid'] == result_data['sacc']])"
   ]
  },
  {
   "cell_type": "code",
   "execution_count": 17,
   "id": "employed-longitude",
   "metadata": {},
   "outputs": [
    {
     "name": "stdout",
     "output_type": "stream",
     "text": [
      "WP_011378340 103\n",
      "WP_011378341 18\n",
      "WP_011243364 148\n",
      "WP_011242471 32\n",
      "WP_039755718 41\n",
      "WP_011378019 80\n",
      "WP_011244046 334\n",
      "WP_011378431 563\n",
      "WP_011244513 179\n",
      "WP_011378231 243\n",
      "WP_011378232 123\n",
      "WP_011378235 118\n",
      "WP_011244503 111\n",
      "WP_011244501 602\n",
      "WP_011378236 810\n",
      "WP_011243320 256\n",
      "WP_011243319 192\n",
      "WP_011377605 185\n",
      "WP_011377612 9\n",
      "WP_011377882 186\n",
      "WP_011244695 203\n",
      "WP_011377924 602\n",
      "WP_011242640 549\n",
      "WP_011242735 270\n",
      "WP_011377875 180\n",
      "WP_011242728 186\n",
      "WP_011244535 350\n",
      "WP_011244534 441\n",
      "WP_011378177 338\n",
      "WP_011243448 255\n",
      "WP_011243394 204\n",
      "WP_011243386 793\n",
      "WP_011243384 203\n",
      "WP_011243359 326\n",
      "WP_011377610 327\n",
      "WP_011377614 440\n",
      "WP_011377621 343\n",
      "WP_011377674 1\n"
     ]
    }
   ],
   "source": [
    "for key in result_data['qseqid'].unique():\n",
    "    print(key,len(result_data[result_data['qseqid'] == key]))"
   ]
  }
 ],
 "metadata": {
  "kernelspec": {
   "display_name": "Python 3",
   "language": "python",
   "name": "python3"
  },
  "language_info": {
   "codemirror_mode": {
    "name": "ipython",
    "version": 3
   },
   "file_extension": ".py",
   "mimetype": "text/x-python",
   "name": "python",
   "nbconvert_exporter": "python",
   "pygments_lexer": "ipython3",
   "version": "3.8.8"
  }
 },
 "nbformat": 4,
 "nbformat_minor": 5
}
