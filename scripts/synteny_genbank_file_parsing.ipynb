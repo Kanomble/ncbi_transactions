{
 "cells": [
  {
   "cell_type": "code",
   "execution_count": 1,
   "id": "conventional-function",
   "metadata": {},
   "outputs": [],
   "source": [
    "from Bio import SeqIO\n",
    "from Bio.Seq import Seq\n",
    "from Bio.SeqRecord import SeqRecord\n",
    "from Bio.SeqFeature import SeqFeature, FeatureLocation\n",
    "import pandas as pd\n",
    "import re"
   ]
  },
  {
   "cell_type": "code",
   "execution_count": 2,
   "id": "controlling-diana",
   "metadata": {},
   "outputs": [],
   "source": [
    "def write_new_genbank_file_ids(qseqids,gbfile,newfilename,ids):\n",
    "    try:\n",
    "        print(\"[*] START writing new genbank file\")\n",
    "        records = []\n",
    "        for record in SeqIO.parse(gbfile,'genbank'):\n",
    "            records.append(record)\n",
    "\n",
    "        gb = records[ids]\n",
    "        #print(len(records))\n",
    "        locus_tags = []\n",
    "        for feature in gb.features:\n",
    "            if 'protein_id' in feature.qualifiers.keys():\n",
    "                if feature.qualifiers['protein_id'][0].split('.')[0] in qseqids:\n",
    "                    locus_tags.append(feature.qualifiers['locus_tag'][0])\n",
    "        print(\"[*] Number of GENES in new GenBankFile: {}\".format(len(locus_tags)))\n",
    "        relevant_features = []\n",
    "        for feature in gb.features:\n",
    "            if 'locus_tag' in feature.qualifiers.keys():\n",
    "                if feature.qualifiers['locus_tag'][0] in locus_tags:\n",
    "                    relevant_features.append(feature)\n",
    "\n",
    "        id_to_location = {}\n",
    "        for feature in gb.features:\n",
    "            if feature.type == 'gene' or feature.type == 'CDS':\n",
    "                if feature.qualifiers['locus_tag'][0] in locus_tags:\n",
    "                    id_to_location[feature.qualifiers['locus_tag'][0]] = [feature.location]\n",
    "        qseq_location_dict = {}\n",
    "        for index,qseq in enumerate(locus_tags):\n",
    "            if index == 0:\n",
    "                start = 1\n",
    "                value = id_to_location[qseq][0].end - id_to_location[qseq][0].start + 1\n",
    "                strand = id_to_location[qseq][0].strand\n",
    "                end = value\n",
    "\n",
    "                qseq_location_dict[qseq] = [start,end,strand]\n",
    "            else:\n",
    "                value = id_to_location[qseq][0].end - id_to_location[qseq][0].start\n",
    "                #print(value)\n",
    "                strand = id_to_location[qseq][0].strand\n",
    "                new_start = end +(id_to_location[qseq][0].start - id_to_location[locus_tags[index-1]][0].end)\n",
    "                end = new_start+value\n",
    "                qseq_location_dict[qseq] = [new_start,end,strand]\n",
    "\n",
    "        for feature in relevant_features:\n",
    "            locus_tag = feature.qualifiers['locus_tag'][0]\n",
    "            location = FeatureLocation(qseq_location_dict[locus_tag][0],qseq_location_dict[locus_tag][1],qseq_location_dict[locus_tag][2])\n",
    "            feature.location = location\n",
    "\n",
    "        sequence = gb.seq[id_to_location[locus_tags[0]][0].start:id_to_location[locus_tags[-1]][0].end]\n",
    "\n",
    "        seq_record = SeqRecord(id=gb.id,\n",
    "                           name=gb.name,\n",
    "                           description=gb.description,\n",
    "                           annotations=gb.annotations,\n",
    "                           letter_annotations=gb.letter_annotations,\n",
    "                           seq=sequence)\n",
    "\n",
    "        for feature in relevant_features:\n",
    "\n",
    "            seq_record.features.append(feature)\n",
    "\n",
    "        with open(newfilename,\"w\") as gbfile:\n",
    "            SeqIO.write(seq_record,gbfile,'genbank')\n",
    "        print(\"[+] DONE writing\")\n",
    "    except Exception as e:\n",
    "        raise Exception(\"[-] ERROR during generation of new genbank file for clinker and synteny plots with Exception : {}\".format(e))"
   ]
  },
  {
   "cell_type": "code",
   "execution_count": 3,
   "id": "downtown-immunology",
   "metadata": {},
   "outputs": [],
   "source": [
    "def extract_gene_cluster(start,end,gbfilepath):\n",
    "    try:\n",
    "        print(\"[*] START parsing genbank file\")\n",
    "        records = []\n",
    "        for record in SeqIO.parse(gbfilepath,'genbank'):\n",
    "            records.append(record)\n",
    "        \n",
    "        print(\"[*] Records Length is: {}\".format(len(records)))\n",
    "        locus_tags = []\n",
    "        qseqids = []\n",
    "        for ids,record in enumerate(records):\n",
    "            gb = record\n",
    "            switch = 0\n",
    "            parser_switch = 0\n",
    "            for feature in gb.features:\n",
    "                if 'protein_id' in feature.qualifiers.keys():\n",
    "                    if feature.qualifiers['protein_id'][0].split('.')[0] == start:\n",
    "                        print(\"Found Start in Record: {}\".format(ids))\n",
    "                        switch = 1\n",
    "                        locus_tags.append(feature.qualifiers['locus_tag'][0])\n",
    "                        qseqids.append(start)\n",
    "                        parser_switch = 1\n",
    "                    elif feature.qualifiers['protein_id'][0].split('.')[0] == end:\n",
    "                        print(\"Found End in Record: {}\".format(ids))\n",
    "                        switch = 0\n",
    "                        qseqids.append(end)\n",
    "                        locus_tags.append(feature.qualifiers['locus_tag'][0])\n",
    "                    elif switch == 1:\n",
    "                        qseqids.append(feature.qualifiers['protein_id'][0].split('.')[0])\n",
    "                        locus_tags.append(feature.qualifiers['locus_tag'][0])\n",
    "            if parser_switch == 1:\n",
    "                print(\"[+] DONE parsing\")\n",
    "                return qseqids, ids\n",
    "            else:\n",
    "                continue\n",
    "    except Exception as e:\n",
    "        raise Exception(\"[-] ERROR during extraction of genelocus defined by start : {} and end : {} protein ids with Exception : {}\".format(start, end, e))"
   ]
  },
  {
   "cell_type": "code",
   "execution_count": 4,
   "id": "neural-workplace",
   "metadata": {},
   "outputs": [],
   "source": [
    "def extract_gene_cluster_by_locus_tag(start,end,gbfilepath):\n",
    "    try:\n",
    "        print(\"[*] START parsing genbank file\")\n",
    "        records = []\n",
    "        for record in SeqIO.parse(gbfilepath,'genbank'):\n",
    "            records.append(record)\n",
    "        \n",
    "        print(\"[*] Records Length is: {}\".format(len(records)))\n",
    "        locus_tags = []\n",
    "        qseqids = []\n",
    "        for ids,record in enumerate(records):\n",
    "            gb = record\n",
    "            switch = 0\n",
    "            parser_switch = 0\n",
    "            for feature in gb.features:\n",
    "                if 'locus_tag' in feature.qualifiers.keys():\n",
    "                    if feature.qualifiers['locus_tag'][0] == start:\n",
    "                        print(\"Found Start in Record: {}\".format(ids))\n",
    "                        switch = 1\n",
    "                        locus_tags.append(feature.qualifiers['locus_tag'][0])\n",
    "                        qseqids.append(start)\n",
    "                        parser_switch = 1\n",
    "                    elif feature.qualifiers['locus_tag'][0] == end:\n",
    "                        print(\"Found End in Record: {}\".format(ids))\n",
    "                        switch = 0\n",
    "                        qseqids.append(end)\n",
    "                        locus_tags.append(feature.qualifiers['locus_tag'][0])\n",
    "                    elif switch == 1:\n",
    "                        qseqids.append(feature.qualifiers['locus_tag'][0].split('.')[0])\n",
    "                        locus_tags.append(feature.qualifiers['locus_tag'][0])\n",
    "            if parser_switch == 1:\n",
    "                print(\"[+] DONE parsing\")\n",
    "                return qseqids, ids\n",
    "            else:\n",
    "                continue\n",
    "    except Exception as e:\n",
    "        raise Exception(\"[-] ERROR during extraction of genelocus defined by start : {} and end : {} protein ids with Exception : {}\".format(start, end, e))"
   ]
  },
  {
   "cell_type": "code",
   "execution_count": 5,
   "id": "center-manual",
   "metadata": {},
   "outputs": [],
   "source": [
    "def write_new_genbank_file_by_locus_tags_ids(qseqids,gbfile,newfilename,ids):\n",
    "    try:\n",
    "        print(\"[*] START writing new genbank file\")\n",
    "        records = []\n",
    "        for record in SeqIO.parse(gbfile,'genbank'):\n",
    "            records.append(record)\n",
    "\n",
    "        gb = records[ids]\n",
    "        #print(len(records))\n",
    "        locus_tags = []\n",
    "        for feature in gb.features:\n",
    "            if 'locus_tag' in feature.qualifiers.keys():\n",
    "                if feature.qualifiers['locus_tag'][0] in qseqids and (feature.type == 'gene' or feature.type == 'CDS'):\n",
    "                    locus_tags.append(feature.qualifiers['locus_tag'][0])\n",
    "        print(\"[*] Number of GENES in new GenBankFile: {}\".format(len(locus_tags)))\n",
    "        relevant_features = []\n",
    "        for feature in gb.features:\n",
    "            if 'locus_tag' in feature.qualifiers.keys():\n",
    "                if feature.qualifiers['locus_tag'][0] in locus_tags:\n",
    "                    relevant_features.append(feature)\n",
    "\n",
    "        id_to_location = {}\n",
    "        for feature in gb.features:\n",
    "            if feature.type == 'gene' or feature.type == 'CDS':\n",
    "                if feature.qualifiers['locus_tag'][0] in locus_tags:\n",
    "                    id_to_location[feature.qualifiers['locus_tag'][0]] = [feature.location]\n",
    "        qseq_location_dict = {}\n",
    "        for index,qseq in enumerate(locus_tags):\n",
    "            if index == 0:\n",
    "                start = 1\n",
    "                value = id_to_location[qseq][0].end - id_to_location[qseq][0].start + 1\n",
    "                strand = id_to_location[qseq][0].strand\n",
    "                end = value\n",
    "\n",
    "                qseq_location_dict[qseq] = [start,end,strand]\n",
    "            else:\n",
    "                value = id_to_location[qseq][0].end - id_to_location[qseq][0].start\n",
    "                #print(value)\n",
    "                strand = id_to_location[qseq][0].strand\n",
    "                new_start = end +(id_to_location[qseq][0].start - id_to_location[locus_tags[index-1]][0].end)\n",
    "                end = new_start+value\n",
    "                qseq_location_dict[qseq] = [new_start,end,strand]\n",
    "\n",
    "        for feature in relevant_features:\n",
    "            locus_tag = feature.qualifiers['locus_tag'][0]\n",
    "            location = FeatureLocation(qseq_location_dict[locus_tag][0],qseq_location_dict[locus_tag][1],qseq_location_dict[locus_tag][2])\n",
    "            feature.location = location\n",
    "\n",
    "        sequence = gb.seq[id_to_location[locus_tags[0]][0].start:id_to_location[locus_tags[-1]][0].end]\n",
    "\n",
    "        seq_record = SeqRecord(id=gb.id,\n",
    "                           name=gb.name,\n",
    "                           description=gb.description,\n",
    "                           annotations=gb.annotations,\n",
    "                           letter_annotations=gb.letter_annotations,\n",
    "                           seq=sequence)\n",
    "\n",
    "        for feature in relevant_features:\n",
    "\n",
    "            seq_record.features.append(feature)\n",
    "\n",
    "        with open(newfilename,\"w\") as gbfile:\n",
    "            SeqIO.write(seq_record,gbfile,'genbank')\n",
    "        print(\"[+] DONE writing\")\n",
    "    except Exception as e:\n",
    "        raise Exception(\"[-] ERROR during generation of new genbank file for clinker and synteny plots with Exception : {}\".format(e))"
   ]
  },
  {
   "cell_type": "code",
   "execution_count": 20,
   "id": "republican-stress",
   "metadata": {},
   "outputs": [
    {
     "name": "stdout",
     "output_type": "stream",
     "text": [
      "[*] START parsing genbank file\n",
      "[*] Records Length is: 73\n",
      "Found Start in Record: 7\n",
      "Found End in Record: 7\n",
      "[+] DONE parsing\n",
      "[*] START writing new genbank file\n",
      "[*] Number of GENES in new GenBankFile: 28\n",
      "[+] DONE writing\n"
     ]
    }
   ],
   "source": [
    "gbfile = \"../data/curvibacter_dna_genomes_for_rec_blast/rec_blast_result/curvibacter_gracilis.gbk\"\n",
    "gbfilepath_output = '../data/curvibacter_dna_genomes_for_rec_blast/rec_blast_result/clinker/curvibacter_gracilis_clinker.gbk'\n",
    "start = 'HGNGCGOJ_03019'\n",
    "end = 'HGNGCGOJ_03049'\n",
    "qseqids, ids = extract_gene_cluster_by_locus_tag(start,end,gbfile)\n",
    "write_new_genbank_file_by_locus_tags_ids(qseqids,gbfile,gbfilepath_output, ids)"
   ]
  },
  {
   "cell_type": "code",
   "execution_count": 6,
   "id": "d1fe7865",
   "metadata": {},
   "outputs": [
    {
     "name": "stdout",
     "output_type": "stream",
     "text": [
      "[*] START parsing genbank file\n",
      "[*] Records Length is: 73\n",
      "Found Start in Record: 7\n",
      "Found End in Record: 7\n",
      "[+] DONE parsing\n",
      "[*] START writing new genbank file\n",
      "[*] Number of GENES in new GenBankFile: 12\n",
      "[+] DONE writing\n"
     ]
    }
   ],
   "source": [
    "gbfile = \"../data/curvibacter_dna_genomes_for_rec_blast/rec_blast_result/curvibacter_gracilis.gbk\"\n",
    "gbfilepath_output = '../data/curvibacter_dna_genomes_for_rec_blast/rec_blast_result/clinker/lps_cluster/curvibacter_gracilis.gbk'\n",
    "start = 'HGNGCGOJ_03034'\n",
    "end = 'HGNGCGOJ_03045'\n",
    "qseqids, ids = extract_gene_cluster_by_locus_tag(start,end,gbfile)\n",
    "write_new_genbank_file_by_locus_tags_ids(qseqids,gbfile,gbfilepath_output, ids)"
   ]
  },
  {
   "cell_type": "code",
   "execution_count": 22,
   "id": "mature-attraction",
   "metadata": {},
   "outputs": [
    {
     "name": "stdout",
     "output_type": "stream",
     "text": [
      "[*] START parsing genbank file\n",
      "[*] Records Length is: 72\n",
      "Found Start in Record: 4\n",
      "Found End in Record: 4\n",
      "[+] DONE parsing\n",
      "[*] START writing new genbank file\n",
      "[*] Number of GENES in new GenBankFile: 28\n",
      "[+] DONE writing\n"
     ]
    }
   ],
   "source": [
    "gbfile = \"../data/curvibacter_dna_genomes_for_rec_blast/rec_blast_result/curvibacter_lanceolatus_1.gbk\"\n",
    "gbfilepath_output = '../data/curvibacter_dna_genomes_for_rec_blast/rec_blast_result/clinker/curvibacter_lanceolatus_1_clinker.gbk'\n",
    "start = 'JOPOJBGG_02301'\n",
    "end = 'JOPOJBGG_02331'\n",
    "qseqids, ids = extract_gene_cluster_by_locus_tag(start,end,gbfile)\n",
    "write_new_genbank_file_by_locus_tags_ids(qseqids,gbfile,gbfilepath_output, ids)"
   ]
  },
  {
   "cell_type": "code",
   "execution_count": 7,
   "id": "artificial-emperor",
   "metadata": {},
   "outputs": [
    {
     "name": "stdout",
     "output_type": "stream",
     "text": [
      "[*] START parsing genbank file\n",
      "[*] Records Length is: 72\n",
      "Found Start in Record: 4\n",
      "Found End in Record: 4\n",
      "[+] DONE parsing\n",
      "[*] START writing new genbank file\n",
      "[*] Number of GENES in new GenBankFile: 10\n",
      "[+] DONE writing\n"
     ]
    }
   ],
   "source": [
    "gbfile = \"../data/curvibacter_dna_genomes_for_rec_blast/rec_blast_result/curvibacter_lanceolatus_1.gbk\"\n",
    "gbfilepath_output = '../data/curvibacter_dna_genomes_for_rec_blast/rec_blast_result/clinker/lps_cluster/curvibacter_lanceolatus_1_clinker.gbk'\n",
    "start = 'JOPOJBGG_02315'\n",
    "end = 'JOPOJBGG_02324'\n",
    "qseqids, ids = extract_gene_cluster_by_locus_tag(start,end,gbfile)\n",
    "write_new_genbank_file_by_locus_tags_ids(qseqids,gbfile,gbfilepath_output, ids)"
   ]
  },
  {
   "cell_type": "code",
   "execution_count": 23,
   "id": "dress-violin",
   "metadata": {},
   "outputs": [
    {
     "name": "stdout",
     "output_type": "stream",
     "text": [
      "[*] START parsing genbank file\n",
      "[*] Records Length is: 100\n",
      "Found Start in Record: 38\n",
      "[+] DONE parsing\n",
      "[*] START writing new genbank file\n",
      "[*] Number of GENES in new GenBankFile: 25\n",
      "[+] DONE writing\n"
     ]
    }
   ],
   "source": [
    "gbfile = \"../data/curvibacter_dna_genomes_for_rec_blast/rec_blast_result/curvibacter_lanceolatus_2.gbk\"\n",
    "gbfilepath_output = '../data/curvibacter_dna_genomes_for_rec_blast/rec_blast_result/clinker/curvibacter_lanceolatus_2_clinker.gbk'\n",
    "start = 'NFEFLOND_04396'\n",
    "end = 'NFEFLOND_04426'\n",
    "qseqids, ids = extract_gene_cluster_by_locus_tag(start,end,gbfile)\n",
    "write_new_genbank_file_by_locus_tags_ids(qseqids,gbfile,gbfilepath_output, ids)"
   ]
  },
  {
   "cell_type": "code",
   "execution_count": 14,
   "id": "amateur-infrared",
   "metadata": {},
   "outputs": [
    {
     "name": "stdout",
     "output_type": "stream",
     "text": [
      "[*] START parsing genbank file\n",
      "[*] Records Length is: 100\n",
      "Found Start in Record: 38\n",
      "Found End in Record: 38\n",
      "[+] DONE parsing\n",
      "[*] START writing new genbank file\n",
      "[*] Number of GENES in new GenBankFile: 10\n",
      "[+] DONE writing\n"
     ]
    }
   ],
   "source": [
    "gbfile = \"../data/curvibacter_dna_genomes_for_rec_blast/rec_blast_result/curvibacter_lanceolatus_2.gbk\"\n",
    "gbfilepath_output = '../data/curvibacter_dna_genomes_for_rec_blast/rec_blast_result/clinker/lps_cluster/curvibacter_lanceolatus_2_clinker.gbk'\n",
    "start = 'NFEFLOND_04408'\n",
    "end = 'NFEFLOND_04419'\n",
    "qseqids, ids = extract_gene_cluster_by_locus_tag(start,end,gbfile)\n",
    "write_new_genbank_file_by_locus_tags_ids(qseqids,gbfile,gbfilepath_output, ids)"
   ]
  },
  {
   "cell_type": "code",
   "execution_count": 24,
   "id": "certified-logan",
   "metadata": {},
   "outputs": [
    {
     "name": "stdout",
     "output_type": "stream",
     "text": [
      "[*] START parsing genbank file\n",
      "[*] Records Length is: 40\n",
      "Found Start in Record: 7\n",
      "[+] DONE parsing\n",
      "[*] START writing new genbank file\n",
      "[*] Number of GENES in new GenBankFile: 26\n",
      "[+] DONE writing\n"
     ]
    }
   ],
   "source": [
    "gbfile = \"../data/curvibacter_dna_genomes_for_rec_blast/rec_blast_result/Curvibacter sp. GWA2_63_95.gbk\"\n",
    "gbfilepath_output = '../data/curvibacter_dna_genomes_for_rec_blast/rec_blast_result/clinker/curvibacter_gwa2.gbk'\n",
    "start = 'DFCICLJG_00801'\n",
    "end = 'DFCICLJG_00831'\n",
    "qseqids, ids = extract_gene_cluster_by_locus_tag(start,end,gbfile)\n",
    "write_new_genbank_file_by_locus_tags_ids(qseqids,gbfile,gbfilepath_output, ids)"
   ]
  },
  {
   "cell_type": "code",
   "execution_count": 16,
   "id": "arabic-faith",
   "metadata": {},
   "outputs": [
    {
     "name": "stdout",
     "output_type": "stream",
     "text": [
      "[*] START parsing genbank file\n",
      "[*] Records Length is: 40\n",
      "Found Start in Record: 7\n",
      "Found End in Record: 7\n",
      "[+] DONE parsing\n",
      "[*] START writing new genbank file\n",
      "[*] Number of GENES in new GenBankFile: 13\n",
      "[+] DONE writing\n"
     ]
    }
   ],
   "source": [
    "gbfile = \"../data/curvibacter_dna_genomes_for_rec_blast/rec_blast_result/Curvibacter sp. GWA2_63_95.gbk\"\n",
    "gbfilepath_output = '../data/curvibacter_dna_genomes_for_rec_blast/rec_blast_result/clinker/lps_cluster/curvibacter_gwa2.gbk'\n",
    "start = 'DFCICLJG_00788'\n",
    "end = 'DFCICLJG_00800'\n",
    "qseqids, ids = extract_gene_cluster_by_locus_tag(start,end,gbfile)\n",
    "write_new_genbank_file_by_locus_tags_ids(qseqids,gbfile,gbfilepath_output, ids)"
   ]
  },
  {
   "cell_type": "code",
   "execution_count": 15,
   "id": "recent-threshold",
   "metadata": {},
   "outputs": [
    {
     "name": "stdout",
     "output_type": "stream",
     "text": [
      "[*] START parsing genbank file\n",
      "[*] Records Length is: 43\n",
      "Found Start in Record: 19\n",
      "[+] DONE parsing\n",
      "[*] START writing new genbank file\n",
      "[*] Number of GENES in new GenBankFile: 36\n",
      "[+] DONE writing\n"
     ]
    }
   ],
   "source": [
    "gbfile = \"../data/curvibacter_dna_genomes_for_rec_blast/rec_blast_result/Curvibacter sp. RIFCSPHIGHO2_12_FULL_63_18.gbk\"\n",
    "gbfilepath_output = '../data/curvibacter_dna_genomes_for_rec_blast/rec_blast_result/clinker/curvibacter_rifcsphigho2.gbk'\n",
    "start = 'EICPHKOE_01456'\n",
    "end = 'EICPHKOE_01496'\n",
    "qseqids, ids = extract_gene_cluster_by_locus_tag(start,end,gbfile)\n",
    "write_new_genbank_file_by_locus_tags_ids(qseqids,gbfile,gbfilepath_output, ids)"
   ]
  },
  {
   "cell_type": "code",
   "execution_count": 6,
   "id": "frozen-teacher",
   "metadata": {},
   "outputs": [
    {
     "name": "stdout",
     "output_type": "stream",
     "text": [
      "[*] START parsing genbank file\n",
      "[*] Records Length is: 13\n",
      "Found Start in Record: 10\n",
      "Found Start in Record: 10\n",
      "Found End in Record: 10\n",
      "Found End in Record: 10\n",
      "[+] DONE parsing\n",
      "[*] START writing new genbank file\n",
      "[*] Number of GENES in new GenBankFile: 79\n",
      "[+] DONE writing\n"
     ]
    }
   ],
   "source": [
    "gbfile = \"../data/curvibacter_dna_genomes_for_rec_blast/rec_blast_result/BG3.gbk\"\n",
    "gbfilepath_output = '../data/curvibacter_dna_genomes_for_rec_blast/rec_blast_result/clinker/curvibacter_bg3.gbk'\n",
    "start = 'BG3_03000'\n",
    "end = 'BG3_03039'\n",
    "qseqids, ids = extract_gene_cluster_by_locus_tag(start,end,gbfile)\n",
    "write_new_genbank_file_by_locus_tags_ids(qseqids,gbfile,gbfilepath_output, ids)"
   ]
  },
  {
   "cell_type": "code",
   "execution_count": 30,
   "id": "developed-cancer",
   "metadata": {},
   "outputs": [
    {
     "name": "stdout",
     "output_type": "stream",
     "text": [
      "[*] START parsing genbank file\n",
      "[*] Records Length is: 3\n",
      "Found Start in Record: 1\n",
      "Found Start in Record: 1\n",
      "Found End in Record: 1\n",
      "Found End in Record: 1\n",
      "[+] DONE parsing\n",
      "[*] START writing new genbank file\n",
      "[*] Number of GENES in new GenBankFile: 20\n",
      "[+] DONE writing\n"
     ]
    }
   ],
   "source": [
    "gbfile = \"../data/curvibacter_dna_genomes_for_rec_blast/rec_blast_result/Hma.gbk\"\n",
    "gbfilepath_output = '../data/curvibacter_dna_genomes_for_rec_blast/rec_blast_result/clinker/lps_cluster/curvibacter_hma.gbk'\n",
    "start = 'Hma_02877'\n",
    "end = 'Hma_02886'\n",
    "qseqids, ids = extract_gene_cluster_by_locus_tag(start,end,gbfile)\n",
    "write_new_genbank_file_by_locus_tags_ids(qseqids,gbfile,gbfilepath_output, ids)"
   ]
  },
  {
   "cell_type": "code",
   "execution_count": 29,
   "id": "medieval-hungary",
   "metadata": {},
   "outputs": [
    {
     "name": "stdout",
     "output_type": "stream",
     "text": [
      "[*] START parsing genbank file\n",
      "[*] Records Length is: 3\n",
      "Found Start in Record: 1\n",
      "Found Start in Record: 1\n",
      "Found End in Record: 1\n",
      "Found End in Record: 1\n",
      "[+] DONE parsing\n",
      "[*] START writing new genbank file\n",
      "[*] Number of GENES in new GenBankFile: 70\n",
      "[+] DONE writing\n"
     ]
    }
   ],
   "source": [
    "gbfile = \"../data/curvibacter_dna_genomes_for_rec_blast/rec_blast_result/Hma.gbk\"\n",
    "gbfilepath_output = '../data/curvibacter_dna_genomes_for_rec_blast/rec_blast_result/clinker/curvibacter_hma.gbk'\n",
    "start = 'Hma_02855'\n",
    "end = 'Hma_02889'\n",
    "qseqids, ids = extract_gene_cluster_by_locus_tag(start,end,gbfile)\n",
    "write_new_genbank_file_by_locus_tags_ids(qseqids,gbfile,gbfilepath_output, ids)"
   ]
  },
  {
   "cell_type": "code",
   "execution_count": 21,
   "id": "obvious-petite",
   "metadata": {},
   "outputs": [
    {
     "name": "stdout",
     "output_type": "stream",
     "text": [
      "[*] START parsing genbank file\n",
      "[*] Records Length is: 8\n",
      "Found Start in Record: 7\n",
      "Found Start in Record: 7\n",
      "Found End in Record: 7\n",
      "Found End in Record: 7\n",
      "[+] DONE parsing\n",
      "[*] START writing new genbank file\n",
      "[*] Number of GENES in new GenBankFile: 24\n",
      "[+] DONE writing\n"
     ]
    }
   ],
   "source": [
    "\n",
    "gbfile = \"../data/curvibacter_dna_genomes_for_rec_blast/rec_blast_result/Hvu.gbk\"\n",
    "gbfilepath_output = '../data/curvibacter_dna_genomes_for_rec_blast/rec_blast_result/clinker/curvibacter_hvu.gbk'\n",
    "start = 'Hvu_03069'\n",
    "end = 'Hvu_03080'\n",
    "qseqids, ids = extract_gene_cluster_by_locus_tag(start,end,gbfile)\n",
    "write_new_genbank_file_by_locus_tags_ids(qseqids,gbfile,gbfilepath_output, ids)"
   ]
  },
  {
   "cell_type": "code",
   "execution_count": 10,
   "id": "intended-cartoon",
   "metadata": {},
   "outputs": [
    {
     "name": "stdout",
     "output_type": "stream",
     "text": [
      "[*] START parsing genbank file\n",
      "[*] Records Length is: 59\n",
      "Found Start in Record: 12\n",
      "Found End in Record: 12\n",
      "[+] DONE parsing\n",
      "[*] START writing new genbank file\n",
      "[*] Number of GENES in new GenBankFile: 8\n",
      "[+] DONE writing\n"
     ]
    }
   ],
   "source": [
    "gbfile = \"../data/curvibacter_dna_genomes_for_rec_blast/rec_blast_result/curvibacter_sp.gbk\"\n",
    "gbfilepath_output = '../data/curvibacter_dna_genomes_for_rec_blast/rec_blast_result/clinker/curvibacter_sp_1.gbk'\n",
    "start = 'ALBLECJD_00552'\n",
    "end = 'ALBLECJD_00559'\n",
    "qseqids, ids = extract_gene_cluster_by_locus_tag(start,end,gbfile)\n",
    "write_new_genbank_file_by_locus_tags_ids(qseqids,gbfile,gbfilepath_output, ids)"
   ]
  },
  {
   "cell_type": "code",
   "execution_count": 11,
   "id": "fuzzy-killer",
   "metadata": {},
   "outputs": [
    {
     "name": "stdout",
     "output_type": "stream",
     "text": [
      "[*] START parsing genbank file\n",
      "[*] Records Length is: 40\n",
      "Found Start in Record: 7\n",
      "Found End in Record: 7\n",
      "[+] DONE parsing\n",
      "[*] START writing new genbank file\n",
      "[*] Number of GENES in new GenBankFile: 37\n",
      "[+] DONE writing\n"
     ]
    }
   ],
   "source": [
    "gbfile = \"../data/curvibacter_dna_genomes_for_rec_blast/rec_blast_result/Curvibacter sp. GWA2_63_95.gbk\"\n",
    "gbfilepath_output = '../data/curvibacter_dna_genomes_for_rec_blast/rec_blast_result/clinker/curvibacter_gwa2_2.gbk'\n",
    "start = 'DFCICLJG_00784'\n",
    "end = 'DFCICLJG_00821'\n",
    "qseqids, ids = extract_gene_cluster_by_locus_tag(start,end,gbfile)\n",
    "write_new_genbank_file_by_locus_tags_ids(qseqids,gbfile,gbfilepath_output, ids)"
   ]
  },
  {
   "cell_type": "code",
   "execution_count": 22,
   "id": "filled-member",
   "metadata": {},
   "outputs": [
    {
     "name": "stdout",
     "output_type": "stream",
     "text": [
      "[*] START parsing genbank file\n",
      "[*] Records Length is: 40\n",
      "Found Start in Record: 7\n",
      "Found End in Record: 7\n",
      "[+] DONE parsing\n",
      "[*] START writing new genbank file\n",
      "[*] Number of GENES in new GenBankFile: 9\n",
      "[+] DONE writing\n"
     ]
    }
   ],
   "source": [
    "gbfile = \"../data/curvibacter_dna_genomes_for_rec_blast/rec_blast_result/Curvibacter sp. GWA2_63_95.gbk\"\n",
    "gbfilepath_output = '../data/curvibacter_dna_genomes_for_rec_blast/rec_blast_result/clinker/lps_cluster/curvibacter_gwa2_2.gbk'\n",
    "start = 'DFCICLJG_00791'\n",
    "end = 'DFCICLJG_00799'\n",
    "qseqids, ids = extract_gene_cluster_by_locus_tag(start,end,gbfile)\n",
    "write_new_genbank_file_by_locus_tags_ids(qseqids,gbfile,gbfilepath_output, ids)"
   ]
  },
  {
   "cell_type": "code",
   "execution_count": 24,
   "id": "manual-latitude",
   "metadata": {},
   "outputs": [
    {
     "name": "stdout",
     "output_type": "stream",
     "text": [
      "[*] START parsing genbank file\n",
      "[*] Records Length is: 26\n",
      "Found Start in Record: 5\n",
      "Found End in Record: 5\n",
      "[+] DONE parsing\n",
      "[*] START writing new genbank file\n",
      "[*] Number of GENES in new GenBankFile: 9\n",
      "[+] DONE writing\n"
     ]
    }
   ],
   "source": [
    "gbfile = \"../data/curvibacter_dna_genomes_for_rec_blast/rec_blast_result/curvibacter_sp_chrr16.gbk\"\n",
    "gbfilepath_output = '../data/curvibacter_dna_genomes_for_rec_blast/rec_blast_result/clinker/lps_cluster/curvibacter_sp_chrr16.gbk'\n",
    "start = 'ENNBNNNG_02890'\n",
    "end = 'ENNBNNNG_02898'\n",
    "qseqids, ids = extract_gene_cluster_by_locus_tag(start,end,gbfile)\n",
    "write_new_genbank_file_by_locus_tags_ids(qseqids,gbfile,gbfilepath_output, ids)"
   ]
  },
  {
   "cell_type": "code",
   "execution_count": 26,
   "id": "laden-mirror",
   "metadata": {},
   "outputs": [
    {
     "name": "stdout",
     "output_type": "stream",
     "text": [
      "[*] START parsing genbank file\n",
      "[*] Records Length is: 600\n",
      "Found Start in Record: 162\n",
      "Found End in Record: 162\n",
      "[+] DONE parsing\n",
      "[*] START writing new genbank file\n",
      "[*] Number of GENES in new GenBankFile: 15\n",
      "[+] DONE writing\n"
     ]
    }
   ],
   "source": [
    "\n",
    "\n",
    "gbfile = \"../data/curvibacter_dna_genomes_for_rec_blast/rec_blast_result/curvibacter_sp_2.gbk\"\n",
    "gbfilepath_output = '../data/curvibacter_dna_genomes_for_rec_blast/rec_blast_result/clinker/curvibacter_sp_2.gbk'\n",
    "start = 'KANBEJMG_01703'\n",
    "end = 'KANBEJMG_01717'\n",
    "qseqids, ids = extract_gene_cluster_by_locus_tag(start,end,gbfile)\n",
    "write_new_genbank_file_by_locus_tags_ids(qseqids,gbfile,gbfilepath_output, ids)"
   ]
  },
  {
   "cell_type": "code",
   "execution_count": 27,
   "id": "agricultural-prairie",
   "metadata": {},
   "outputs": [
    {
     "name": "stdout",
     "output_type": "stream",
     "text": [
      "[*] START parsing genbank file\n",
      "[*] Records Length is: 600\n",
      "Found Start in Record: 162\n",
      "Found End in Record: 162\n",
      "[+] DONE parsing\n",
      "[*] START writing new genbank file\n",
      "[*] Number of GENES in new GenBankFile: 10\n",
      "[+] DONE writing\n"
     ]
    }
   ],
   "source": [
    "\n",
    "\n",
    "gbfile = \"../data/curvibacter_dna_genomes_for_rec_blast/rec_blast_result/curvibacter_sp_2.gbk\"\n",
    "gbfilepath_output = '../data/curvibacter_dna_genomes_for_rec_blast/rec_blast_result/clinker/lps_cluster/curvibacter_sp_2.gbk'\n",
    "start = 'KANBEJMG_01708'\n",
    "end = 'KANBEJMG_01717'\n",
    "qseqids, ids = extract_gene_cluster_by_locus_tag(start,end,gbfile)\n",
    "write_new_genbank_file_by_locus_tags_ids(qseqids,gbfile,gbfilepath_output, ids)"
   ]
  },
  {
   "cell_type": "markdown",
   "id": "neither-target",
   "metadata": {},
   "source": [
    "# Result Processing RecBLAST - Other Symbionts"
   ]
  },
  {
   "cell_type": "code",
   "execution_count": 5,
   "id": "27d02f6e",
   "metadata": {},
   "outputs": [
    {
     "name": "stdout",
     "output_type": "stream",
     "text": [
      "[*] START parsing genbank file\n",
      "[*] Records Length is: 3\n",
      "Found Start in Record: 0\n",
      "Found End in Record: 0\n",
      "[+] DONE parsing\n",
      "[*] START writing new genbank file\n",
      "[*] Number of GENES in new GenBankFile: 34\n",
      "[+] DONE writing\n"
     ]
    }
   ],
   "source": [
    "gbfile = \"Duganella_sp_GN2-R2GCF_012849555.1.gbk\"\n",
    "gbfilepath_output = '../data/clinker_other_symbionts/duganella_gn2_r2.gbk'\n",
    "start = 'WP_169433667'\n",
    "end = 'WP_169433691'\n",
    "qseqids, ids = extract_gene_cluster(start,end,gbfile)\n",
    "write_new_genbank_file_ids(qseqids,gbfile,gbfilepath_output, ids)"
   ]
  },
  {
   "cell_type": "code",
   "execution_count": 70,
   "id": "f2b36f2d",
   "metadata": {},
   "outputs": [
    {
     "name": "stdout",
     "output_type": "stream",
     "text": [
      "[*] START parsing genbank file\n",
      "[*] Records Length is: 26\n",
      "[+] DONE parsing\n",
      "[+] DONE parsing\n",
      "[+] DONE parsing\n",
      "[+] DONE parsing\n",
      "[+] DONE parsing\n",
      "Found Start in Record: 5\n",
      "Found End in Record: 5\n",
      "[+] DONE parsing\n",
      "[*] START writing new genbank file\n",
      "[*] Number of GENES in new GenBankFile: 25\n",
      "[+] DONE writing\n"
     ]
    }
   ],
   "source": [
    "gbfile = \"GCF_018474005.1_ASM1847400v1_genomic.gbff\"\n",
    "gbfilepath_output = '../data/clinker_other_symbionts/curvibacter_chrr_16.gbk'\n",
    "start = 'WP_214123791'\n",
    "end = 'WP_214123893'\n",
    "qseqids, ids = extract_gene_cluster(start,end,gbfile)\n",
    "write_new_genbank_file_ids(qseqids,gbfile,gbfilepath_output, ids)"
   ]
  },
  {
   "cell_type": "code",
   "execution_count": 73,
   "id": "expired-blake",
   "metadata": {},
   "outputs": [
    {
     "name": "stdout",
     "output_type": "stream",
     "text": [
      "[*] START parsing genbank file\n",
      "[*] Records Length is: 32\n",
      "Found Start in Record: 29\n",
      "Found End in Record: 29\n",
      "[+] DONE parsing\n",
      "[*] START writing new genbank file\n",
      "[*] Number of GENES in new GenBankFile: 30\n",
      "[+] DONE writing\n"
     ]
    }
   ],
   "source": [
    "#WP_157256536\n",
    "gbfile = \"Pelomonas_sp_Root1217GCF_001425705.1.gbk\"\n",
    "gbfilepath_output = '../data/clinker_other_symbionts/Pelomonas_sp_Root1217.gbk'\n",
    "start = 'WP_157256536'\n",
    "end = 'WP_235538074'\n",
    "qseqids, ids = extract_gene_cluster(start,end,gbfile)\n",
    "write_new_genbank_file_ids(qseqids,gbfile,gbfilepath_output, ids)"
   ]
  },
  {
   "cell_type": "code",
   "execution_count": 6,
   "id": "honest-consultation",
   "metadata": {},
   "outputs": [
    {
     "name": "stdout",
     "output_type": "stream",
     "text": [
      "[*] START parsing genbank file\n",
      "[*] Records Length is: 1\n",
      "Found Start in Record: 0\n",
      "Found End in Record: 0\n",
      "[+] DONE parsing\n",
      "[*] START writing new genbank file\n",
      "[*] Number of GENES in new GenBankFile: 28\n",
      "[+] DONE writing\n"
     ]
    }
   ],
   "source": [
    "gbfile = \"Undibacterium_parvumGCF_003955735.1.gbk\"\n",
    "gbfilepath_output = '../data/clinker_other_symbionts/undibacterium_parvum.gbk'\n",
    "start = 'WP_126126332'\n",
    "end = 'WP_126126355'\n",
    "qseqids, ids = extract_gene_cluster(start,end,gbfile)\n",
    "write_new_genbank_file_ids(qseqids,gbfile,gbfilepath_output, ids)"
   ]
  },
  {
   "cell_type": "markdown",
   "id": "another-wright",
   "metadata": {},
   "source": [
    "# Result Processing RecBLAST - ALL"
   ]
  },
  {
   "cell_type": "code",
   "execution_count": 5,
   "id": "unlike-orleans",
   "metadata": {},
   "outputs": [
    {
     "name": "stdout",
     "output_type": "stream",
     "text": [
      "[*] START parsing genbank file\n",
      "[+] DONE parsing\n",
      "[*] START writing new genbank file\n",
      "[+] DONE writing\n"
     ]
    }
   ],
   "source": [
    "#example run\n",
    "gbfile = \"Curvibacter_sp_AEP1-3GCF_002163715.1.gbk\"\n",
    "gbfilepath_output = '../data/clinker_38_organisms/Curvibacter_sp_AEP1-3.gbk'\n",
    "start = \"WP_087496534\"#\"WP_087496556\" #WP_087496534\n",
    "end = \"WP_087496569\"#'WP_087496564'\n",
    "qseqids = extract_gene_cluster(start,end,gbfile)\n",
    "write_new_genbank_file(qseqids,gbfile,gbfilepath_output)"
   ]
  },
  {
   "cell_type": "code",
   "execution_count": 12,
   "id": "deluxe-dinner",
   "metadata": {},
   "outputs": [
    {
     "name": "stdout",
     "output_type": "stream",
     "text": [
      "[*] START parsing genbank file\n",
      "[+] DONE parsing\n",
      "[*] START writing new genbank file\n",
      "[+] DONE writing\n"
     ]
    }
   ],
   "source": [
    "gbfile = \"Azoarcus_sp_M9-3-2GCF_010983895.1.gbk\"\n",
    "gbfilepath_output = '../data/clinker_38_organisms/Azoarcus_sp_M9-3-2.gbk'\n",
    "start = \"WP_217424644\"#\"WP_173763925\"\n",
    "end = \"WP_217424645\"#'WP_173763933'\n",
    "qseqids = extract_gene_cluster(start,end,gbfile)\n",
    "write_new_genbank_file(qseqids,gbfile,gbfilepath_output)"
   ]
  },
  {
   "cell_type": "code",
   "execution_count": 10,
   "id": "nominated-marshall",
   "metadata": {},
   "outputs": [
    {
     "name": "stdout",
     "output_type": "stream",
     "text": [
      "[*] START parsing genbank file\n",
      "[+] DONE parsing\n",
      "[*] START writing new genbank file\n",
      "[+] DONE writing\n"
     ]
    }
   ],
   "source": [
    "gbfile = \"Candidatus_Methylopumilus_turicensisGCF_000953015.1.gbk\"\n",
    "gbfilepath_output = '../data/clinker_38_organisms/Candidatus_Methylopumilus_turicensis.gbk'\n",
    "start = \"WP_052661108\"\n",
    "end = 'WP_045752013'\n",
    "qseqids = extract_gene_cluster(start,end,gbfile)\n",
    "write_new_genbank_file(qseqids,gbfile,gbfilepath_output)"
   ]
  },
  {
   "cell_type": "code",
   "execution_count": 7,
   "id": "recorded-print",
   "metadata": {},
   "outputs": [
    {
     "name": "stdout",
     "output_type": "stream",
     "text": [
      "[*] START parsing genbank file\n",
      "[+] DONE parsing\n",
      "[*] START writing new genbank file\n",
      "[+] DONE writing\n"
     ]
    }
   ],
   "source": [
    "gbfile = \"Candidatus_Symbiobacter_mobilis_CRGCF_000477435.1.gbk\"\n",
    "gbfilepath_output = '../data/clinker_38_organisms/Candidatus_Symbiobacter_mobilis_CR.gbk'\n",
    "start = \"WP_022772778\"#\"WP_022772785\"\n",
    "end = \"WP_022772814\"#'WP_022772812'\n",
    "qseqids = extract_gene_cluster(start,end,gbfile)\n",
    "write_new_genbank_file(qseqids,gbfile,gbfilepath_output)"
   ]
  },
  {
   "cell_type": "code",
   "execution_count": 12,
   "id": "palestinian-magic",
   "metadata": {},
   "outputs": [
    {
     "name": "stdout",
     "output_type": "stream",
     "text": [
      "[*] START parsing genbank file\n",
      "[+] DONE parsing\n",
      "[*] START writing new genbank file\n",
      "[+] DONE writing\n"
     ]
    }
   ],
   "source": [
    "gbfile = \"Chitinimonas_arcticaGCF_007431345.1.gbk\"\n",
    "gbfilepath_output = '../data/clinker_38_organisms/Chitinimonas_arctica.gbk'\n",
    "start = \"WP_144278058\"\n",
    "end = 'WP_144278064'\n",
    "qseqids = extract_gene_cluster(start,end,gbfile)\n",
    "write_new_genbank_file(qseqids,gbfile,gbfilepath_output)"
   ]
  },
  {
   "cell_type": "code",
   "execution_count": 13,
   "id": "standard-election",
   "metadata": {},
   "outputs": [
    {
     "name": "stdout",
     "output_type": "stream",
     "text": [
      "[*] START parsing genbank file\n",
      "[+] DONE parsing\n",
      "[*] START writing new genbank file\n",
      "[+] DONE writing\n"
     ]
    }
   ],
   "source": [
    "gbfile = \"Dechloromonas_sp_HYN0024GCF_003441615.1.gbk\"\n",
    "gbfilepath_output = '../data/clinker_38_organisms/Dechloromonas_sp_HYN0024.gbk'\n",
    "start = \"WP_117608894\"\n",
    "end = 'WP_117608899'\n",
    "qseqids = extract_gene_cluster(start,end,gbfile)\n",
    "write_new_genbank_file(qseqids,gbfile,gbfilepath_output)"
   ]
  },
  {
   "cell_type": "code",
   "execution_count": 18,
   "id": "economic-privilege",
   "metadata": {},
   "outputs": [
    {
     "name": "stdout",
     "output_type": "stream",
     "text": [
      "[*] START parsing genbank file\n",
      "[+] DONE parsing\n",
      "[*] START writing new genbank file\n",
      "[+] DONE writing\n"
     ]
    }
   ],
   "source": [
    "gbfile = \"Hydrogenophaga_sp_BA0156GCF_011388215.1.gbk\"\n",
    "gbfilepath_output = '../data/clinker_38_organisms/Hydrogenophaga_sp_BA0156.gbk'\n",
    "start = \"WP_166222957\"\n",
    "end = 'WP_166222968'#'WP_166223006' #WP_166222968\n",
    "qseqids = extract_gene_cluster(start,end,gbfile)\n",
    "write_new_genbank_file(qseqids,gbfile,gbfilepath_output)"
   ]
  },
  {
   "cell_type": "code",
   "execution_count": 19,
   "id": "official-philadelphia",
   "metadata": {},
   "outputs": [
    {
     "name": "stdout",
     "output_type": "stream",
     "text": [
      "[*] START parsing genbank file\n",
      "[+] DONE parsing\n",
      "[*] START writing new genbank file\n",
      "[+] DONE writing\n"
     ]
    }
   ],
   "source": [
    "gbfile = \"Hydrogenophaga_sp_PBCGCF_000263795.2.gbk\"\n",
    "gbfilepath_output = '../data/clinker_38_organisms/Hydrogenophaga_sp_PBC.gbk'\n",
    "start = 'WP_009518443'#\"WP_009518427\" #WP_009518443\n",
    "end = 'WP_009518449' #WP_009518449\n",
    "qseqids = extract_gene_cluster(start,end,gbfile)\n",
    "write_new_genbank_file(qseqids,gbfile,gbfilepath_output)"
   ]
  },
  {
   "cell_type": "code",
   "execution_count": 11,
   "id": "declared-reward",
   "metadata": {},
   "outputs": [
    {
     "name": "stdout",
     "output_type": "stream",
     "text": [
      "[*] START parsing genbank file\n",
      "[+] DONE parsing\n",
      "[*] START writing new genbank file\n",
      "[+] DONE writing\n"
     ]
    }
   ],
   "source": [
    "gbfile = \"Hydrogenophaga_sp_PBL-H3GCF_010104355.1.gbk\"\n",
    "gbfilepath_output = '../data/clinker_38_organisms/Hydrogenophaga_sp_PBL.gbk'\n",
    "start = \"WP_201450059\"#\"WP_159604905\" \n",
    "end = \"WP_159604948\"#'WP_159604918' #'WP_159604918' #epsD #WP_159604946 EpsA \n",
    "qseqids = extract_gene_cluster(start,end,gbfile)\n",
    "write_new_genbank_file(qseqids,gbfile,gbfilepath_output)"
   ]
  },
  {
   "cell_type": "code",
   "execution_count": 21,
   "id": "peaceful-things",
   "metadata": {},
   "outputs": [
    {
     "name": "stdout",
     "output_type": "stream",
     "text": [
      "[*] START parsing genbank file\n",
      "[+] DONE parsing\n",
      "[*] START writing new genbank file\n",
      "[+] DONE writing\n"
     ]
    }
   ],
   "source": [
    "gbfile = \"Janthinobacterium_sp_1_2014MBL_MicDivGCF_001865675.1.gbk\"\n",
    "gbfilepath_output = '../data/clinker_38_organisms/Janthinobacterium_sp_1_2014MBL_MicDiv.gbk'\n",
    "start = \"WP_083411968\" \n",
    "end = 'WP_071324847' \n",
    "qseqids = extract_gene_cluster(start,end,gbfile)\n",
    "write_new_genbank_file(qseqids,gbfile,gbfilepath_output)"
   ]
  },
  {
   "cell_type": "code",
   "execution_count": 22,
   "id": "returning-victoria",
   "metadata": {},
   "outputs": [
    {
     "name": "stdout",
     "output_type": "stream",
     "text": [
      "[*] START parsing genbank file\n",
      "[+] DONE parsing\n",
      "[*] START writing new genbank file\n",
      "[+] DONE writing\n"
     ]
    }
   ],
   "source": [
    "gbfile = \"Janthinobacterium_tructaeGCF_006517255.1.gbk\"\n",
    "gbfilepath_output = '../data/clinker_38_organisms/Janthinobacterium_tructae.gbk'\n",
    "start = \"WP_141172142\" \n",
    "end = 'WP_141172147' #WP_141172166 LuxR\n",
    "qseqids = extract_gene_cluster(start,end,gbfile)\n",
    "write_new_genbank_file(qseqids,gbfile,gbfilepath_output)"
   ]
  },
  {
   "cell_type": "code",
   "execution_count": 23,
   "id": "downtown-wisdom",
   "metadata": {},
   "outputs": [
    {
     "name": "stdout",
     "output_type": "stream",
     "text": [
      "[*] START parsing genbank file\n",
      "[+] DONE parsing\n",
      "[*] START writing new genbank file\n",
      "[+] DONE writing\n"
     ]
    }
   ],
   "source": [
    "gbfile = \"Leptothrix_cholodnii_SP-6GCF_000019785.1.gbk\"\n",
    "gbfilepath_output = '../data/clinker_38_organisms/Leptothrix_cholodnii_SP-6.gbk'\n",
    "start = \"WP_012347374\" \n",
    "end = 'WP_012347392' \n",
    "qseqids = extract_gene_cluster(start,end,gbfile)\n",
    "write_new_genbank_file(qseqids,gbfile,gbfilepath_output)"
   ]
  },
  {
   "cell_type": "code",
   "execution_count": 24,
   "id": "adjacent-conservative",
   "metadata": {},
   "outputs": [
    {
     "name": "stdout",
     "output_type": "stream",
     "text": [
      "[*] START parsing genbank file\n",
      "[+] DONE parsing\n",
      "[*] START writing new genbank file\n",
      "[+] DONE writing\n"
     ]
    }
   ],
   "source": [
    "gbfile = \"Massilia_sp_NR_4-1GCF_001191005.1.gbk\"\n",
    "gbfilepath_output = '../data/clinker_38_organisms/Massilia_sp_NR_4-1.gbk'\n",
    "start = \"WP_050408903\" \n",
    "end = 'WP_050408907' \n",
    "qseqids = extract_gene_cluster(start,end,gbfile)\n",
    "write_new_genbank_file(qseqids,gbfile,gbfilepath_output)"
   ]
  },
  {
   "cell_type": "code",
   "execution_count": 25,
   "id": "looking-angel",
   "metadata": {},
   "outputs": [
    {
     "name": "stdout",
     "output_type": "stream",
     "text": [
      "[*] START parsing genbank file\n",
      "[+] DONE parsing\n",
      "[*] START writing new genbank file\n",
      "[+] DONE writing\n"
     ]
    }
   ],
   "source": [
    "gbfile = \"Massilia_armeniacaGCF_003028855.1.gbk\"\n",
    "gbfilepath_output = '../data/clinker_38_organisms/Massilia_armeniaca.gbk'\n",
    "start = \"WP_107144440\" \n",
    "end = 'WP_107141327' \n",
    "qseqids = extract_gene_cluster(start,end,gbfile)\n",
    "write_new_genbank_file(qseqids,gbfile,gbfilepath_output)"
   ]
  },
  {
   "cell_type": "code",
   "execution_count": 26,
   "id": "quantitative-position",
   "metadata": {},
   "outputs": [
    {
     "name": "stdout",
     "output_type": "stream",
     "text": [
      "[*] START parsing genbank file\n",
      "[+] DONE parsing\n",
      "[*] START writing new genbank file\n",
      "[+] DONE writing\n"
     ]
    }
   ],
   "source": [
    "gbfile = \"Massilia_sp_WG5GCF_001412595.2.gbk\"\n",
    "gbfilepath_output = '../data/clinker_38_organisms/Massilia_sp_WG5.gbk'\n",
    "start = \"WP_047823285\" \n",
    "end = 'WP_047823267' \n",
    "qseqids = extract_gene_cluster(start,end,gbfile)\n",
    "write_new_genbank_file(qseqids,gbfile,gbfilepath_output)"
   ]
  },
  {
   "cell_type": "code",
   "execution_count": 14,
   "id": "discrete-impression",
   "metadata": {},
   "outputs": [
    {
     "name": "stdout",
     "output_type": "stream",
     "text": [
      "[*] START parsing genbank file\n",
      "[+] DONE parsing\n",
      "[*] START writing new genbank file\n",
      "[+] DONE writing\n"
     ]
    }
   ],
   "source": [
    "gbfile = \"Massilia_flavaGCF_009789595.1.gbk\"\n",
    "gbfilepath_output = '../data/clinker_38_organisms/Massilia_flava.gbk'\n",
    "start = \"WP_145873161\" \n",
    "end = \"WP_145873322\"#'WP_145873168' \n",
    "qseqids = extract_gene_cluster(start,end,gbfile)\n",
    "write_new_genbank_file(qseqids,gbfile,gbfilepath_output)"
   ]
  },
  {
   "cell_type": "code",
   "execution_count": 15,
   "id": "numerical-orleans",
   "metadata": {},
   "outputs": [
    {
     "name": "stdout",
     "output_type": "stream",
     "text": [
      "[*] START parsing genbank file\n",
      "[+] DONE parsing\n",
      "[*] START writing new genbank file\n",
      "[+] DONE writing\n"
     ]
    }
   ],
   "source": [
    "gbfile = \"Methylobacillus_flagellatus_KTGCF_000013705.1.gbk\"\n",
    "gbfilepath_output = '../data/clinker_38_organisms/Methylobacillus_flagellatus_KTG.gbk'\n",
    "start = \"WP_011480226\"#\"WP_011480243\" \n",
    "end = \"WP_195742185\"#'WP_195741992' \n",
    "qseqids = extract_gene_cluster(start,end,gbfile)\n",
    "write_new_genbank_file(qseqids,gbfile,gbfilepath_output)"
   ]
  },
  {
   "cell_type": "code",
   "execution_count": 29,
   "id": "immune-quarter",
   "metadata": {},
   "outputs": [
    {
     "name": "stdout",
     "output_type": "stream",
     "text": [
      "[*] START parsing genbank file\n",
      "[+] DONE parsing\n",
      "[*] START writing new genbank file\n",
      "[+] DONE writing\n"
     ]
    }
   ],
   "source": [
    "gbfile = \"Methylophilus_sp_TWE2GCF_001183865.1.gbk\"\n",
    "gbfilepath_output = '../data/clinker_38_organisms/Methylophilus_sp_TWE2.gbk'\n",
    "start = \"WP_049638639\" \n",
    "end = 'WP_049638646'\n",
    "qseqids = extract_gene_cluster(start,end,gbfile)\n",
    "write_new_genbank_file(qseqids,gbfile,gbfilepath_output)"
   ]
  },
  {
   "cell_type": "code",
   "execution_count": 30,
   "id": "cellular-rendering",
   "metadata": {},
   "outputs": [
    {
     "name": "stdout",
     "output_type": "stream",
     "text": [
      "[*] START parsing genbank file\n",
      "[+] DONE parsing\n",
      "[*] START writing new genbank file\n",
      "[+] DONE writing\n"
     ]
    }
   ],
   "source": [
    "gbfile = \"Methylotenera_mobilis_JLW8GCF_000023705.1.gbk\"\n",
    "gbfilepath_output = '../data/clinker_38_organisms/Methylotenera_mobilis_JLW8.gbk'\n",
    "start = \"WP_015832731\" \n",
    "end = 'WP_015832740'\n",
    "qseqids = extract_gene_cluster(start,end,gbfile)\n",
    "write_new_genbank_file(qseqids,gbfile,gbfilepath_output)"
   ]
  },
  {
   "cell_type": "code",
   "execution_count": 31,
   "id": "accurate-letters",
   "metadata": {},
   "outputs": [
    {
     "name": "stdout",
     "output_type": "stream",
     "text": [
      "[*] START parsing genbank file\n",
      "[+] DONE parsing\n",
      "[*] START writing new genbank file\n",
      "[+] DONE writing\n"
     ]
    }
   ],
   "source": [
    "gbfile = \"Methyloversatilis_sp_RAC08GCF_001713355.1.gbk\"\n",
    "gbfilepath_output = '../data/clinker_38_organisms/Methyloversatilis_sp_RAC08.gbk'\n",
    "start = \"WP_069037629\" \n",
    "end = 'WP_223300229'\n",
    "qseqids = extract_gene_cluster(start,end,gbfile)\n",
    "write_new_genbank_file(qseqids,gbfile,gbfilepath_output)"
   ]
  },
  {
   "cell_type": "code",
   "execution_count": 10,
   "id": "turned-strap",
   "metadata": {},
   "outputs": [
    {
     "name": "stdout",
     "output_type": "stream",
     "text": [
      "[*] START parsing genbank file\n",
      "[+] DONE parsing\n",
      "[*] START writing new genbank file\n",
      "[+] DONE writing\n"
     ]
    }
   ],
   "source": [
    "gbfile = \"Methylovorus_sp_MP688GCF_000183115.1.gbk\"\n",
    "gbfilepath_output = '../data/clinker_38_organisms/Methylovorus_sp_MP688.gbk'\n",
    "start = \"WP_013442598\"#\"WP_013442610\" \n",
    "end = \"WP_013442624\"#'WP_193373555'\n",
    "qseqids = extract_gene_cluster(start,end,gbfile)\n",
    "write_new_genbank_file(qseqids,gbfile,gbfilepath_output)"
   ]
  },
  {
   "cell_type": "code",
   "execution_count": 9,
   "id": "collaborative-celtic",
   "metadata": {},
   "outputs": [
    {
     "name": "stdout",
     "output_type": "stream",
     "text": [
      "[*] START parsing genbank file\n",
      "[+] DONE parsing\n",
      "[*] START writing new genbank file\n",
      "[+] DONE writing\n"
     ]
    }
   ],
   "source": [
    "gbfile = \"Nitrosospira_multiformis_ATCC_25196GCF_000196355.1.gbk\"\n",
    "gbfilepath_output = '../data/clinker_38_organisms/Nitrosospira_multiformis_ATCC_25196.gbk'\n",
    "start = \"WP_011379597\"#\"WP_011379600\" \n",
    "end = 'WP_041352320'#'WP_041352730'\n",
    "qseqids = extract_gene_cluster(start,end,gbfile)\n",
    "write_new_genbank_file(qseqids,gbfile,gbfilepath_output)"
   ]
  },
  {
   "cell_type": "code",
   "execution_count": 34,
   "id": "billion-brighton",
   "metadata": {},
   "outputs": [
    {
     "name": "stdout",
     "output_type": "stream",
     "text": [
      "[*] START parsing genbank file\n",
      "[+] DONE parsing\n",
      "[*] START writing new genbank file\n",
      "[+] DONE writing\n"
     ]
    }
   ],
   "source": [
    "gbfile = \"Oryzomicrobium_terraeGCF_008274805.1.gbk\"\n",
    "gbfilepath_output = '../data/clinker_38_organisms/Oryzomicrobium_terrae.gbk'\n",
    "start = \"WP_223115922\" \n",
    "end = 'WP_149425636'\n",
    "qseqids = extract_gene_cluster(start,end,gbfile)\n",
    "write_new_genbank_file(qseqids,gbfile,gbfilepath_output)"
   ]
  },
  {
   "cell_type": "code",
   "execution_count": 35,
   "id": "settled-plate",
   "metadata": {},
   "outputs": [
    {
     "name": "stdout",
     "output_type": "stream",
     "text": [
      "[*] START parsing genbank file\n",
      "[+] DONE parsing\n",
      "[*] START writing new genbank file\n",
      "[+] DONE writing\n"
     ]
    }
   ],
   "source": [
    "gbfile = \"Sulfuriferula_sp_AH1GCF_002162035.1.gbk\"\n",
    "gbfilepath_output = '../data/clinker_38_organisms/Sulfuriferula_sp_AH1.gbk'\n",
    "start = \"WP_087447933\" \n",
    "end = 'WP_087447940'\n",
    "qseqids = extract_gene_cluster(start,end,gbfile)\n",
    "write_new_genbank_file(qseqids,gbfile,gbfilepath_output)"
   ]
  },
  {
   "cell_type": "code",
   "execution_count": 36,
   "id": "eligible-victorian",
   "metadata": {},
   "outputs": [
    {
     "name": "stdout",
     "output_type": "stream",
     "text": [
      "[*] START parsing genbank file\n",
      "[+] DONE parsing\n",
      "[*] START writing new genbank file\n",
      "[+] DONE writing\n"
     ]
    }
   ],
   "source": [
    "gbfile = \"Thauera_sp_K11GCF_002354895.1.gbk\"\n",
    "gbfilepath_output = '../data/clinker_38_organisms/Thauera_sp_K11.gbk'\n",
    "start = \"WP_096448401\" \n",
    "end = 'WP_096448413'\n",
    "qseqids = extract_gene_cluster(start,end,gbfile)\n",
    "write_new_genbank_file(qseqids,gbfile,gbfilepath_output)"
   ]
  },
  {
   "cell_type": "code",
   "execution_count": 37,
   "id": "north-orleans",
   "metadata": {},
   "outputs": [
    {
     "name": "stdout",
     "output_type": "stream",
     "text": [
      "[*] START parsing genbank file\n",
      "[+] DONE parsing\n",
      "[*] START writing new genbank file\n",
      "[+] DONE writing\n"
     ]
    }
   ],
   "source": [
    "gbfile = \"Thiobacillus_denitrificans_ATCC_25259GCF_000012745.1.gbk\"\n",
    "gbfilepath_output = '../data/clinker_38_organisms/Thiobacillus_denitrificans_ATCC_25259.gbk'\n",
    "start = \"WP_011312303\" \n",
    "end = 'WP_187147213'\n",
    "qseqids = extract_gene_cluster(start,end,gbfile)\n",
    "write_new_genbank_file(qseqids,gbfile,gbfilepath_output)"
   ]
  },
  {
   "cell_type": "code",
   "execution_count": 13,
   "id": "interim-perry",
   "metadata": {},
   "outputs": [
    {
     "name": "stdout",
     "output_type": "stream",
     "text": [
      "[*] START parsing genbank file\n",
      "[+] DONE parsing\n",
      "[*] START writing new genbank file\n",
      "[+] DONE writing\n"
     ]
    }
   ],
   "source": [
    "gbfile = \"Undibacterium_parvumGCF_003955735.1.gbk\"\n",
    "gbfilepath_output = '../data/clinker_38_organisms/Undibacterium_parvum.gbk'\n",
    "start = \"WP_126126332\"#\"WP_126126347\" \n",
    "end = \"WP_126126355\"#'WP_157984300' \n",
    "qseqids = extract_gene_cluster(start,end,gbfile)\n",
    "write_new_genbank_file(qseqids,gbfile,gbfilepath_output)"
   ]
  },
  {
   "cell_type": "code",
   "execution_count": 8,
   "id": "accepted-international",
   "metadata": {},
   "outputs": [
    {
     "name": "stdout",
     "output_type": "stream",
     "text": [
      "[*] START parsing genbank file\n",
      "[+] DONE parsing\n",
      "[*] START writing new genbank file\n",
      "[+] DONE writing\n"
     ]
    }
   ],
   "source": [
    "gbfile = \"Xylophilus_rhododendriGCF_009906855.1.gbk\"\n",
    "gbfilepath_output = '../data/clinker_38_organisms/Xylophilus_rhododendri.gbk'\n",
    "start = \"WP_160553782\"#\"WP_160553790\" \n",
    "end = \"WP_160553806\"#'WP_160555442'\n",
    "qseqids = extract_gene_cluster(start,end,gbfile)\n",
    "write_new_genbank_file(qseqids,gbfile,gbfilepath_output)"
   ]
  }
 ],
 "metadata": {
  "kernelspec": {
   "display_name": "Python 3",
   "language": "python",
   "name": "python3"
  },
  "language_info": {
   "codemirror_mode": {
    "name": "ipython",
    "version": 3
   },
   "file_extension": ".py",
   "mimetype": "text/x-python",
   "name": "python",
   "nbconvert_exporter": "python",
   "pygments_lexer": "ipython3",
   "version": "3.8.8"
  }
 },
 "nbformat": 4,
 "nbformat_minor": 5
}
